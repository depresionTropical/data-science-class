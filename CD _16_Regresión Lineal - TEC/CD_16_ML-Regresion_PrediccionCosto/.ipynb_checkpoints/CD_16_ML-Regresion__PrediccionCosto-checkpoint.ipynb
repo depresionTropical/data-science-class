{
 "cells": [
  {
   "cell_type": "markdown",
   "metadata": {},
   "source": [
    "<!--Información del curso-->\n",
    "<img align=\"left\" style=\"padding-right:10px;\" src=\"figuras/banner_cd.png\">"
   ]
  },
  {
   "cell_type": "markdown",
   "metadata": {},
   "source": [
    "# Proyecto de Machine Learning:  Prediccion de precios de casas"
   ]
  },
  {
   "cell_type": "markdown",
   "metadata": {},
   "source": [
    "\t\n",
    "Pasos principales que deberá seguir:\n",
    "\n",
    "\n",
    "1. Mira el panorama general y entienda el problema.\n",
    "* Obtenga los datos.\n",
    "* Descubra y visualice los datos para obtener información.\n",
    "* Prepare los datos para los algoritmos de Machine Learning.\n",
    "* Seleccione un modelo y realice el entrenamiento (train).\n",
    "* Afina(fine tune) el modelo.\n",
    "* Presente su solución.\n",
    "* Inicie (Launch), monitoree y mantenga su sistema\n",
    "\n",
    "[Documento extendido](https://bit.ly/2Sqtfhl)"
   ]
  },
  {
   "cell_type": "markdown",
   "metadata": {},
   "source": [
    "## 1. Mira el panorama general y entiende el problema"
   ]
  },
  {
   "cell_type": "markdown",
   "metadata": {},
   "source": [
    "<br><br><center><h1 style=\"font-size:2em;color:#2467C0\">Caso de estudio:  Predicción de precios de casas California (EE.UU) </h1></center>\n",
    "<br>\n",
    "<table>\n",
    "<col width=\"550\">\n",
    "<col width=\"450\">\n",
    "<tr>\n",
    "    \n",
    "    \n",
    "<td><img src=\"figuras/real_state.jpg\" align=\"middle\" style=\"width:550px;\"/></td>\n",
    "<td>\n",
    "\n",
    "Para este proyecto suponga que es un científico de datos recientemente contratado en una empresa de bienes raíces\n",
    "    \n",
    "La primera tarea que debe realizar es crear un modelo de precios de la vivienda en California utilizando los datos del censo de California. Estos datos tienen métricas como la población, el ingreso medio, el precio medio de la vivienda, etc. para cada grupo de bloques en California.\n",
    "    \n",
    "    \n",
    "Los grupos de bloques son la unidad geográfica más pequeña para la cual la Oficina del Censo de los Estados Unidos publica datos de muestra (un grupo de bloques generalmente tiene una población de 600 a 3,000 personas). Simplemente los llamaremos \"distritos\" para abreviar.\n",
    "    \n",
    "    \n",
    "Su modelo debe aprender de estos datos y poder predecir el precio medio de la vivienda en cualquier distrito, dadas todas las otras métricas\n",
    "   \n",
    "<br>\n",
    "</td>\n",
    "</tr>\n",
    "</table>"
   ]
  },
  {
   "cell_type": "markdown",
   "metadata": {},
   "source": [
    "<div class=\"alert alert-info\">\n",
    "<b> </b>:\n",
    "\n",
    " <ul>\n",
    "  <li> ¿Cuál es exactamente el objetivo comercial? </li>\n",
    "  <li> ¿Será la construcción de un modelo? </li>\n",
    " <li> ¿Cómo espera la compañía usar y beneficiarse de este modelo? </li>\n",
    "</ul>\n",
    "    \n",
    "R = Su jefe responde que su modelo, una predicción del precio medio de la vivienda de un distrito,  se enviará a otro sistema de Aprendizaje Automático , el cual junto con muchas otros parametros determinará si vale la pena invertir en un área determinada o no. Hacer esto bien es fundamental, ya que afecta directamente los ingresos.\n",
    " \n",
    "<img src=\"figuras/real_state_diagram.jpg\" align=\"middle\" style=\"width:650px;\" />\n",
    "  <center> <strong><figcaption> Figura: Pipeline del problema</figcaption></center> </strong>\n",
    "    \n",
    " <ul>\n",
    "  <li> ¿Cómo es la solución actual? </li>\n",
    "</ul>\n",
    "R= Actualmente hay expertos en la empresa que estiman manualmente los precios de las viviendas del distrito y utilizan reglas complejas para obtener una estimación. Esto es costoso y requiere mucho tiempo, y sus estimaciones no son muy buenas; su tasa de error típica es de aproximadamente el 20%. Por esta razón la empresa considera que podría ser útil tener un modelo para predecir el precio medio de las casas de los diferentes distritos que se encuentran en los datos del censo, así como otros datos de importancia. \n",
    "</div>"
   ]
  },
  {
   "cell_type": "markdown",
   "metadata": {},
   "source": [
    "<div class=\"alert alert-info\">\n",
    "\n",
    "<ul>\n",
    "  <li> ¿Cuál será un buen parametro de medición del performance? </li>\n",
    "</ul>\n",
    "\n",
    "Se tienen los siguientes:\n",
    "    \n",
    "1. Root Mean Square Error (RMSE)\n",
    "\\begin{equation*}\n",
    "\\textrm{RMSE} ( \\mathbf{X} ,h) = \\sqrt{ \\frac{1}{m}\\sum_{i=1}^{m} (h( \\mathbf{x}^{(i)} - y^{(i)}))^2}\n",
    "\\end{equation*}\n",
    "     \n",
    "2. Mean Absolute Error (MAE)\n",
    "\\begin{equation*}\n",
    "\\textrm{MAE} ( \\mathbf{X} ,h) =  \\frac{1}{m}\\sum_{i=1}^{m} \\bigg| h(\\mathbf{x}^{(i)}) - y^{(i)} \\bigg|\n",
    "\\end{equation*}\n",
    "\n",
    "Ambas ecuaciones introducen varios parametros comunes utilizados en problemas de Machine Learning que se estarán utilizando.\n",
    "\n",
    "<ul>\n",
    "  <li> $m$ es el numero de instancias, por ejemplo para una muestra de 2000 distritos, $m=2000$ </li>\n",
    "</ul>\n",
    "\n",
    "<ul>\n",
    "  <li> $\\mathbf{x}^{(i)}$ es el vector que contiene todas las caracteristicas  de cada una de la instancias ($i$), y $y^{(i)}$ es el valor de nuestro parámetro de interés (etiqueta).  </li>\n",
    "</ul>\n",
    "    \n",
    "    \n",
    "Por ejemplo, si el primer distrito en el conjunto de datos se encuentra en la longitud –118.29°, latitud 33.91°, y tiene 1,416 habitantes con un ingreso promedio de 38,372 USD, y el valor promedio de la casa es 156,400 USD, entonces:\n",
    "\n",
    "\\begin{equation*}\n",
    "\\mathbf{x}^{(1)}\n",
    "=\n",
    "\\begin{pmatrix}\n",
    "–118.29 \\\\\n",
    "33.91 \\\\\n",
    "1,416 \\\\\n",
    "38,372 \n",
    "\\end{pmatrix}\n",
    "\\end{equation*}\n",
    "\n",
    "\\begin{equation*}\n",
    "y^{(1)} = 156,400\n",
    "\\end{equation*}    \n",
    "    \n",
    "<ul>\n",
    "  <li> $ \\mathbf{X} $ Es la matriz que contiene todos los valores de las instancias en el dataset(muestra). Los valores de cada instancia se sitúan en las filas de la matriz. </li>\n",
    "</ul>    \n",
    "\n",
    "\\begin{equation*}\n",
    "\\mathbf{X} \n",
    "=\n",
    "\\begin{pmatrix}\n",
    "(\\mathbf{x}^{(1)})^\\top \\\\\n",
    "(\\mathbf{x}^{(2)})^\\top\\\\\n",
    " \\vdots \\\\\n",
    "(\\mathbf{x}^{(1999)})^\\top \\\\\n",
    "(\\mathbf{x}^{(2000)})^\\top\n",
    "\\end{pmatrix}\n",
    "=\n",
    "\\begin{pmatrix}\n",
    "–118.29  & 33.91 &  1,416 & 38,372      \\\\\n",
    "\\vdots  & \\vdots &  \\vdots & \\vdots   \n",
    "\\end{pmatrix}\n",
    "\\end{equation*}\n",
    "\n",
    "<ul>\n",
    "  <li> $ h $ es la función de predicción de su sistema, también llamada hipótesis. Cuando el sistema recibe el vector de características $\\mathbf{x}^{(i)}$  de una instancia, genera un valor de prediccion $\\hat{y}^{(i)} = h (\\mathbf{x}^{(i)})$ para esa instancia ($\\hat{y}$ se pronuncia \"y-sombrero o hat\").. </li> \n",
    "Por ejemplo, si el sistema predice que el precio medio de la vivienda en el primer distrito es de 158,400USD , entonces $\\hat{y}^{(1)} = h (\\mathbf{x}^{(1)})$ = 158,400.\n",
    "</ul>   \n",
    "\n",
    "\n",
    "\n",
    "NOTA: Usaremos letras cursiva en minúscula para valores escalares (como $m$ o $y^{(i)}$) y nombres de funciones (como $h$),  letras en negritas en minúscula para vectores (como $\\mathbf{x}^{(i)}$) y fuente en negrita en mayúscula para matrices (como $\\mathbf{X}$)\n",
    "\n",
    "</div>"
   ]
  },
  {
   "cell_type": "markdown",
   "metadata": {},
   "source": [
    "## 2. Obtenga los datos"
   ]
  },
  {
   "cell_type": "code",
   "execution_count": null,
   "metadata": {},
   "outputs": [],
   "source": [
    "#Librerias principales\n",
    "import matplotlib.pyplot as plt\n",
    "import numpy as np\n",
    "import pandas as pd"
   ]
  },
  {
   "cell_type": "code",
   "execution_count": null,
   "metadata": {},
   "outputs": [],
   "source": [
    "#Cargar el archivo \"datos/info_Casas_SF.csv\"\n",
    "df = pd.read_csv('datos/info_Casas_SF.csv')"
   ]
  },
  {
   "cell_type": "markdown",
   "metadata": {},
   "source": [
    "## 3. Descubra y visualice los datos para obtener información.\n"
   ]
  },
  {
   "cell_type": "code",
   "execution_count": null,
   "metadata": {},
   "outputs": [],
   "source": [
    "# Mostrar los primeras filas\n"
   ]
  },
  {
   "cell_type": "code",
   "execution_count": null,
   "metadata": {},
   "outputs": [],
   "source": [
    "#Información general \n"
   ]
  },
  {
   "cell_type": "code",
   "execution_count": null,
   "metadata": {},
   "outputs": [],
   "source": [
    "# Mostrar el número de filas y columnas\n"
   ]
  },
  {
   "cell_type": "code",
   "execution_count": null,
   "metadata": {},
   "outputs": [],
   "source": [
    "# Mostrar el tipo de variables\n"
   ]
  },
  {
   "cell_type": "code",
   "execution_count": null,
   "metadata": {},
   "outputs": [],
   "source": [
    "# Valores de la viable categorica  ocean_proximity\n"
   ]
  },
  {
   "cell_type": "code",
   "execution_count": null,
   "metadata": {},
   "outputs": [],
   "source": [
    "# Graficar el promedio de ingresos\n"
   ]
  },
  {
   "cell_type": "code",
   "execution_count": null,
   "metadata": {},
   "outputs": [],
   "source": [
    "#Graficar todas las variables numericas \n"
   ]
  },
  {
   "cell_type": "code",
   "execution_count": null,
   "metadata": {},
   "outputs": [],
   "source": []
  },
  {
   "cell_type": "markdown",
   "metadata": {},
   "source": [
    "#### Mapa de California"
   ]
  },
  {
   "cell_type": "markdown",
   "metadata": {},
   "source": [
    "<img src=\"figuras/CaliforniaMapa.png\" align=\"middle\" style=\"width:550px;\" />"
   ]
  },
  {
   "cell_type": "code",
   "execution_count": null,
   "metadata": {},
   "outputs": [],
   "source": []
  },
  {
   "cell_type": "code",
   "execution_count": null,
   "metadata": {},
   "outputs": [],
   "source": [
    "# Hacer una grafica de dispersión con la longitud en X y la latitud en Y.\n"
   ]
  },
  {
   "cell_type": "code",
   "execution_count": null,
   "metadata": {},
   "outputs": [],
   "source": [
    "#Agregar alpha=0.1\n"
   ]
  },
  {
   "cell_type": "code",
   "execution_count": null,
   "metadata": {},
   "outputs": [],
   "source": [
    "#Cambiar el tamaño del punto y agregar una escala de medición\n",
    "#s : Tamaño de cada punto\n",
    "#c : Etiqueta\n"
   ]
  },
  {
   "cell_type": "code",
   "execution_count": null,
   "metadata": {},
   "outputs": [],
   "source": [
    "#pip install colorspacious\n",
    "# https://matplotlib.org/3.1.0/tutorials/colors/colormaps.html\n"
   ]
  },
  {
   "cell_type": "markdown",
   "metadata": {},
   "source": [
    "### Correlación de variables"
   ]
  },
  {
   "cell_type": "code",
   "execution_count": null,
   "metadata": {},
   "outputs": [],
   "source": [
    "#Hacer diagramas de correlación\n",
    "# Definir una lista llamada atributos  con las siguientes variables : \n",
    "# \"median_house_value\", \"median_income\", \"total_rooms\",\"housing_median_age\"\n",
    "from pandas.plotting import scatter_matrix\n",
    "\n",
    "atributos = [\"median_house_value\", \"median_income\", \"total_rooms\",\"housing_median_age\"]\n",
    "\n"
   ]
  },
  {
   "cell_type": "code",
   "execution_count": null,
   "metadata": {},
   "outputs": [],
   "source": [
    "# Definir una nueva columna llamada 'bed_rooms_per_room' y asignarle el valor de la division de\n",
    "# la variables total_bedrooms con total_rooms\n",
    "df['bed_rooms_per_room'] = df['total_bedrooms'] / df['total_rooms']\n",
    "df.head(2)"
   ]
  },
  {
   "cell_type": "code",
   "execution_count": null,
   "metadata": {},
   "outputs": [],
   "source": [
    "atributos=[\"median_house_value\",\n",
    "           \"median_income\",\n",
    "           \"bed_rooms_per_room\",\n",
    "           \"total_rooms\",\n",
    "           \"housing_median_age\"]"
   ]
  },
  {
   "cell_type": "code",
   "execution_count": null,
   "metadata": {},
   "outputs": [],
   "source": [
    "# Matriz correlación númerica y visual\n",
    "#https://matplotlib.org/tutorials/colors/colormaps.html\n",
    "#Instalación de seaborn\n",
    "#pip install seaborn\n",
    "import seaborn as sn\n",
    "\n"
   ]
  },
  {
   "cell_type": "markdown",
   "metadata": {},
   "source": [
    "## 4. Prepare los datos y sus transformadores "
   ]
  },
  {
   "cell_type": "code",
   "execution_count": null,
   "metadata": {},
   "outputs": [],
   "source": [
    "#Revisar si hay datos perdidos NaN\n"
   ]
  },
  {
   "cell_type": "code",
   "execution_count": null,
   "metadata": {},
   "outputs": [],
   "source": [
    "#Número de filas\n"
   ]
  },
  {
   "cell_type": "code",
   "execution_count": null,
   "metadata": {},
   "outputs": [],
   "source": [
    "# eliminar datos  perdidos NaN\n"
   ]
  },
  {
   "cell_type": "code",
   "execution_count": null,
   "metadata": {},
   "outputs": [],
   "source": []
  },
  {
   "cell_type": "markdown",
   "metadata": {},
   "source": [
    "**Tipos de variables**"
   ]
  },
  {
   "cell_type": "markdown",
   "metadata": {},
   "source": [
    "<img src=\"figuras/categarical_variables.jpg\" align=\"middle\" style=\"width:550px;\" />"
   ]
  },
  {
   "cell_type": "code",
   "execution_count": null,
   "metadata": {},
   "outputs": [],
   "source": [
    "# Revisar nuevamente la colcountsumna 'ocean_proximity'\n"
   ]
  },
  {
   "cell_type": "code",
   "execution_count": null,
   "metadata": {},
   "outputs": [],
   "source": [
    "#Importamos la funcion OneHotEncoder\n",
    "from sklearn.preprocessing import OneHotEncoder\n",
    "\n",
    "nominal_codificator = OneHotEncoder(sparse_output=False)\n",
    "nominal_codificator.fit_transform(df.ocean_proximity.to_frame())"
   ]
  },
  {
   "cell_type": "code",
   "execution_count": null,
   "metadata": {},
   "outputs": [],
   "source": [
    "df"
   ]
  },
  {
   "cell_type": "code",
   "execution_count": null,
   "metadata": {},
   "outputs": [],
   "source": [
    "## Ejemplo codificacion Ordinal\n",
    "#from sklearn.preprocessing import OrdinalEncoder\n",
    "#O_codificador = OrdinalEncoder()\n",
    "#O_codificadir.fit_transform(df[[\"ocean_proximity\"]])\n",
    "#O_codificadir.categories_\n",
    "\n"
   ]
  },
  {
   "cell_type": "markdown",
   "metadata": {},
   "source": [
    "###  ColumnTransformer  y pipeline"
   ]
  },
  {
   "cell_type": "markdown",
   "metadata": {},
   "source": [
    "<img src=\"figuras/pipeline.jpg\" align=\"middle\" style=\"width:500px;\" />"
   ]
  },
  {
   "cell_type": "markdown",
   "metadata": {},
   "source": [
    "#### Pipeline\n",
    "\n",
    "El *pipeline* en scikit-learn es una herramienta que facilita el flujo de trabajo de modelos de aprendizaje automático al encadenar múltiples pasos de procesamiento y modelado en una sola estructura. Esto permite que las transformaciones de los datos y la aplicación del modelo se realicen de manera secuencial, lo cual es muy útil para simplificar y organizar tu código.\n",
    "\n",
    "Un pipeline se define en scikit-learn utilizando la clase Pipeline, y se puede construir como una secuencia de pasos, donde cada paso está compuesto por un nombre y un estimador de scikit-learn. Estos estimadores pueden ser transformadores (como escaladores, transformadores de características, etc.) o modelos predictivos (como regresores o clasificadores)\n",
    "\n",
    "Por ejemplo, si quisieras agregar un modelo de regresión lineal después de la estandarización, tu pipeline podría verse así:\n",
    "```python\n",
    "from sklearn.pipeline import Pipeline\n",
    "from sklearn.preprocessing import StandardScaler\n",
    "from sklearn.linear_model import LinearRegression\n",
    "\n",
    "Pipeline([\n",
    "    ('scaler', StandardScaler()),\n",
    "    ('model', LinearRegression())\n",
    "])\n"
   ]
  },
  {
   "cell_type": "code",
   "execution_count": null,
   "metadata": {},
   "outputs": [],
   "source": [
    "#Modulos importantes\n",
    "from sklearn.pipeline import Pipeline\n",
    "from sklearn.compose import ColumnTransformer\n",
    "from sklearn.preprocessing import StandardScaler, OneHotEncoder"
   ]
  },
  {
   "cell_type": "code",
   "execution_count": null,
   "metadata": {},
   "outputs": [],
   "source": [
    "# Crear la lista de  viriables numericas y categoricas\n",
    "# Númericas: 'median_income', 'total_rooms','housing_median_age','bed_rooms_per_room'\n",
    "# Categoricas: 'ocean_proximity'\n",
    "\n"
   ]
  },
  {
   "cell_type": "code",
   "execution_count": null,
   "metadata": {},
   "outputs": [],
   "source": [
    "# Mostrar las columnas del dataframe\n"
   ]
  },
  {
   "cell_type": "code",
   "execution_count": null,
   "metadata": {},
   "outputs": [],
   "source": [
    "# Crear el pipeline de preprocesamiento para datos numéricos y categóricos.\n",
    "\n"
   ]
  },
  {
   "cell_type": "markdown",
   "metadata": {},
   "source": [
    "#### ColumnTransformer\n"
   ]
  },
  {
   "cell_type": "markdown",
   "metadata": {},
   "source": [
    "ColumnTransformer es una clase de scikit-learn que  permite aplicar transformaciones de preparación de datos de forma selectiva.\n",
    "\n",
    "Por ejemplo,  permite aplicar una transformación específica o secuencia de transformaciones solo a las columnas numéricas, y una secuencia separada de transformaciones solo a las columnas categóricas.\n",
    "\n",
    "Para usar ColumnTransformer, debe especificar una lista de transformadores.\n",
    "\n",
    "Cada transformador es una tupla de tres elementos que define el nombre del transformador, la transformación a aplicar y los índices de columna a los que aplicar. Por ejemplo: **(Nombre, objeto, columnas)**\n",
    "\n",
    "Ejemplo de uso:\n",
    "```python\n",
    "from sklearn.compose import ColumnTransformer\n",
    "from sklearn.preprocessing import StandardScaler, OneHotEncoder\n",
    "\n",
    "column_transformer = ColumnTransformer([\n",
    "    ('scaler', StandardScaler(), ['numerical_column_1', 'numerical_column_2']),\n",
    "    ('encoder', OneHotEncoder(), ['categorical_column'])\n",
    "])\n"
   ]
  },
  {
   "cell_type": "code",
   "execution_count": null,
   "metadata": {},
   "outputs": [],
   "source": [
    "# Definir los transformadores\n"
   ]
  },
  {
   "cell_type": "code",
   "execution_count": null,
   "metadata": {},
   "outputs": [],
   "source": [
    "#Tener presente este orden numerico + categotico"
   ]
  },
  {
   "cell_type": "markdown",
   "metadata": {},
   "source": [
    "### Preparando las muestras de entrenamiento y prueba"
   ]
  },
  {
   "cell_type": "markdown",
   "metadata": {},
   "source": [
    "<img  align=\"middle\" style=\"width:550px;\" src=\"figuras/ml_diagrama3.jpg\">\n"
   ]
  },
  {
   "cell_type": "markdown",
   "metadata": {},
   "source": [
    "División general de los datos\n",
    "* **X**: Datos  sin la columna \"median_house_value\"\"\n",
    "* **y**: Datos con la columna \"median_house_value\"\n",
    "\n",
    "Muestras de entrenamiento y prueba\n",
    "* **X_train**: este será el grupo de entrenamiento\n",
    "* **X_test**: este será el  grupo de prueba\n",
    "* **y_train**: este será el target para el grupo de entrenamiento\n",
    "* **y_test**: este será el target para el grupo de prueba\n"
   ]
  },
  {
   "cell_type": "code",
   "execution_count": null,
   "metadata": {},
   "outputs": [],
   "source": [
    "# Crear X (Quitar la columna o campo de \"median_house_value\")\n"
   ]
  },
  {
   "cell_type": "code",
   "execution_count": null,
   "metadata": {},
   "outputs": [],
   "source": [
    "# Crear y (Valor de de la columna \"median_house_value\")\n"
   ]
  },
  {
   "cell_type": "code",
   "execution_count": null,
   "metadata": {},
   "outputs": [],
   "source": [
    "# Dividir los datos para entrenamiento y prueba\n",
    "from sklearn.model_selection import train_test_split\n"
   ]
  },
  {
   "cell_type": "code",
   "execution_count": null,
   "metadata": {},
   "outputs": [],
   "source": [
    "# Revise  el tamaño de cada muestra\n"
   ]
  },
  {
   "cell_type": "markdown",
   "metadata": {},
   "source": [
    "## 5.  Seleccione algunos modelos y realice el entrenamiento (train).\n"
   ]
  },
  {
   "cell_type": "code",
   "execution_count": null,
   "metadata": {},
   "outputs": [],
   "source": [
    "# Llamamos al modelo lineal\n",
    "from sklearn.linear_model import LinearRegression\n"
   ]
  },
  {
   "cell_type": "code",
   "execution_count": null,
   "metadata": {},
   "outputs": [],
   "source": [
    "#1. Nombrar una variable para LinearRegression()\n"
   ]
  },
  {
   "cell_type": "code",
   "execution_count": null,
   "metadata": {},
   "outputs": [],
   "source": [
    "#2. Definir el Pipeline : Transformación  + modelo\n"
   ]
  },
  {
   "cell_type": "code",
   "execution_count": null,
   "metadata": {},
   "outputs": [],
   "source": [
    "#3. Prediccioón del modelo\n"
   ]
  },
  {
   "cell_type": "code",
   "execution_count": null,
   "metadata": {},
   "outputs": [],
   "source": [
    "#Probamos en unas pocas instancias \n"
   ]
  },
  {
   "cell_type": "code",
   "execution_count": null,
   "metadata": {},
   "outputs": [],
   "source": [
    "#Comparamos con los valores reales\n"
   ]
  },
  {
   "cell_type": "markdown",
   "metadata": {
    "heading_collapsed": true
   },
   "source": [
    "#### Cross validation\n"
   ]
  },
  {
   "cell_type": "markdown",
   "metadata": {
    "hidden": true
   },
   "source": [
    "La validación cruzada o  cross validation  (CV) es una de las técnicas utilizadas para probar la efectividad de los modelos de Machine Learning, también es un procedimiento de remuestreo utilizado para evaluar un modelo si tenemos datos limitados. \n",
    "\n",
    "Una manera de obtener las muestras es a traves del metodo del k-fold, el cual divide a los datos en k muestras como se muestra en la imagen (ejemplo con k=5) \n",
    "\n",
    "<img src=\"figuras/cross_validation.jpg\" align=\"middle\" style=\"width:550px;\" />\n",
    "   \n"
   ]
  },
  {
   "cell_type": "code",
   "execution_count": null,
   "metadata": {
    "hidden": true
   },
   "outputs": [],
   "source": [
    "#https://scikit-learn.org/stable/modules/generated/sklearn.model_selection.cross_val_score.html#sklearn.model_selection.cross_val_score\n",
    "#https://github.com/scikit-learn/scikit-learn/issues/2439"
   ]
  },
  {
   "cell_type": "markdown",
   "metadata": {
    "heading_collapsed": true
   },
   "source": [
    "#### Evaluación Linear Regression"
   ]
  },
  {
   "cell_type": "code",
   "execution_count": null,
   "metadata": {
    "hidden": true
   },
   "outputs": [],
   "source": [
    "# Evaluadar el modelo usando crossvalidation\n",
    "#https://scikit-learn.org/stable/modules/model_evaluation.html\n",
    "\n",
    "#Evaluacion\n",
    "# 4. Calcular el score con la validación cruzada CV=5\n",
    "from sklearn.model_selection import cross_val_score\n"
   ]
  },
  {
   "cell_type": "code",
   "execution_count": null,
   "metadata": {
    "hidden": true
   },
   "outputs": [],
   "source": [
    "# 5. Realizar el cambio de signo y sacar la raiz\n"
   ]
  },
  {
   "cell_type": "code",
   "execution_count": null,
   "metadata": {
    "hidden": true
   },
   "outputs": [],
   "source": [
    "# 6.  Calcular mean y standard deviation\n"
   ]
  },
  {
   "cell_type": "code",
   "execution_count": null,
   "metadata": {
    "hidden": true
   },
   "outputs": [],
   "source": []
  },
  {
   "cell_type": "markdown",
   "metadata": {
    "heading_collapsed": true
   },
   "source": [
    "### DecisionTree"
   ]
  },
  {
   "cell_type": "code",
   "execution_count": null,
   "metadata": {
    "hidden": true
   },
   "outputs": [],
   "source": [
    "#Aplicar el modelo de arboles de decision con DecisionTreeRegressor\n",
    "from sklearn.tree import DecisionTreeRegressor\n",
    "\n",
    "#1. Nombrar una variable para DecisionTreeRegressor()\n",
    "\n"
   ]
  },
  {
   "cell_type": "code",
   "execution_count": null,
   "metadata": {
    "hidden": true
   },
   "outputs": [],
   "source": [
    "#2. Definir el Pipeline : Transformación  + modelo\n",
    "\n"
   ]
  },
  {
   "cell_type": "code",
   "execution_count": null,
   "metadata": {
    "hidden": true
   },
   "outputs": [],
   "source": [
    "\n",
    "#3. Ajustar el modelo\n"
   ]
  },
  {
   "cell_type": "code",
   "execution_count": null,
   "metadata": {
    "hidden": true
   },
   "outputs": [],
   "source": [
    "#Evaluacion\n",
    "# 4. Calcular el score con la validación cruzada CV=10\n"
   ]
  },
  {
   "cell_type": "code",
   "execution_count": null,
   "metadata": {
    "hidden": true
   },
   "outputs": [],
   "source": [
    "\n",
    "# 5. Realizar el cambio de signo y sacar la raiz\n"
   ]
  },
  {
   "cell_type": "code",
   "execution_count": null,
   "metadata": {
    "hidden": true
   },
   "outputs": [],
   "source": [
    "\n",
    "# 6. Mostrar el resultado usando la funcion display_scores\n"
   ]
  },
  {
   "cell_type": "markdown",
   "metadata": {
    "heading_collapsed": true
   },
   "source": [
    "### RandomForest"
   ]
  },
  {
   "cell_type": "code",
   "execution_count": null,
   "metadata": {
    "hidden": true
   },
   "outputs": [],
   "source": [
    "#Aplicar el modelo RandomForestRegressor\n",
    "from sklearn.ensemble  import RandomForestRegressor"
   ]
  },
  {
   "cell_type": "code",
   "execution_count": null,
   "metadata": {
    "hidden": true
   },
   "outputs": [],
   "source": [
    "#1. Nombrar una variable para nuestro modelo\n"
   ]
  },
  {
   "cell_type": "code",
   "execution_count": null,
   "metadata": {
    "hidden": true
   },
   "outputs": [],
   "source": [
    "#2. Definir el Pipeline : Transformación  + modelo\n"
   ]
  },
  {
   "cell_type": "code",
   "execution_count": null,
   "metadata": {
    "hidden": true
   },
   "outputs": [],
   "source": [
    "#3. Ajustar el modelo\n"
   ]
  },
  {
   "cell_type": "code",
   "execution_count": null,
   "metadata": {
    "hidden": true
   },
   "outputs": [],
   "source": [
    "#Evaluacion\n",
    "# 4. Calcular el score con la validación cruzada CV=10\n"
   ]
  },
  {
   "cell_type": "code",
   "execution_count": null,
   "metadata": {
    "hidden": true
   },
   "outputs": [],
   "source": [
    "# 5. Realizar el cambio de signo y sacar la raiz\n"
   ]
  },
  {
   "cell_type": "code",
   "execution_count": null,
   "metadata": {
    "hidden": true
   },
   "outputs": [],
   "source": [
    "# 6. Mostrar el resultado usando la funcion display_scores\n"
   ]
  },
  {
   "cell_type": "markdown",
   "metadata": {
    "heading_collapsed": true,
    "hidden": true
   },
   "source": [
    "#### Resumen"
   ]
  },
  {
   "cell_type": "markdown",
   "metadata": {
    "hidden": true
   },
   "source": [
    "| Modelo o clasificador   |  Mean | Standard deviation  |\n",
    "|---|---|---|\n",
    "|  Linear Regression  |    |       |\n",
    "|   DecisionTree |    |        |\n",
    "|  Random Forest   |   |         |\n"
   ]
  },
  {
   "cell_type": "code",
   "execution_count": null,
   "metadata": {
    "hidden": true
   },
   "outputs": [],
   "source": [
    "# Datos de evalación\n"
   ]
  },
  {
   "cell_type": "code",
   "execution_count": null,
   "metadata": {
    "hidden": true
   },
   "outputs": [],
   "source": [
    "# Agregamos una grafica para comparar visualmente los resultados\n"
   ]
  },
  {
   "cell_type": "markdown",
   "metadata": {},
   "source": [
    "# Hiperparámetros\n",
    "Los **hiperparámetros** son configuraciones externas a un modelo de machine learning que se establecen antes de que comience el proceso de aprendizaje y no se ajustan automáticamente durante el entrenamiento. Son diferentes de los **parámetros** del modelo, que se aprenden a partir de los datos.\n",
    "\n",
    "Los hiperparámetros pueden afectar el rendimiento y la velocidad del entrenamiento de un modelo, y se deben elegir cuidadosamente para optimizar el rendimiento. Hay dos tipos principales de hiperparámetros:\n",
    "\n",
    "1. Hiperparámetros relacionados con la arquitectura del modelo:\n",
    "\n",
    "* En redes neuronales, esto incluye el número de capas, el número de neuronas por capa, el tipo de función de activación, etc.\n",
    "* En modelos como árboles de decisión, el número máximo de niveles del árbol o la profundidad máxima.\n",
    "\n",
    "2. Hiperparámetros relacionados con el proceso de entrenamiento:\n",
    "\n",
    "* Tasa de aprendizaje: controla el tamaño de los pasos que da el algoritmo al buscar el mínimo de la función de pérdida.\n",
    "* Tamaño del lote: número de ejemplos que el modelo utiliza para actualizar los parámetros en cada iteración.\n",
    "* Número de épocas: cantidad de veces que el modelo ve el conjunto completo de datos durante el entrenamiento.\n",
    "* Regularización: como el parámetro lambda en la regularización L1 o L2, que previene el sobreajuste penalizando grandes pesos en el modelo.\n",
    "\n",
    "Elegir los hiperparámetros correctos es clave, y comúnmente se hace utilizando técnicas como la búsqueda en cuadrícula (grid search) o la búsqueda aleatoria (random search)."
   ]
  },
  {
   "cell_type": "markdown",
   "metadata": {},
   "source": [
    "## 6 .  Afina(fine tune) el modelo RandomForest\n"
   ]
  },
  {
   "cell_type": "code",
   "execution_count": null,
   "metadata": {},
   "outputs": [],
   "source": [
    "#El método .get_params() en scikit-learn se utiliza para obtener todos los parámetros \n",
    "# y sus valores de un modelo \n"
   ]
  },
  {
   "cell_type": "code",
   "execution_count": null,
   "metadata": {},
   "outputs": [],
   "source": [
    "# Utilizamos la función GridSearchCV para encontrar los valores optimos\n",
    "from sklearn.model_selection import GridSearchCV\n"
   ]
  },
  {
   "cell_type": "code",
   "execution_count": null,
   "metadata": {},
   "outputs": [],
   "source": [
    "#Definición de posibles parametros\n",
    "#n_estimators=[3, 10, 30,50 , 80,100]\n",
    "#min_samples_split=[2,4,6,8]\n",
    "#max_depth=[2,4,6,8,10]\n",
    "\n"
   ]
  },
  {
   "cell_type": "code",
   "execution_count": null,
   "metadata": {},
   "outputs": [],
   "source": [
    "#Definicion del grid de busqueda\n"
   ]
  },
  {
   "cell_type": "code",
   "execution_count": null,
   "metadata": {},
   "outputs": [],
   "source": [
    "# Ajuste del modelo usando todas las posibles combinaciones de parametros \n"
   ]
  },
  {
   "cell_type": "code",
   "execution_count": null,
   "metadata": {},
   "outputs": [],
   "source": [
    "# Mostrar la mejor combinación\n"
   ]
  },
  {
   "cell_type": "markdown",
   "metadata": {},
   "source": [
    "**Encontramos los nuevos valores de la media y desviación estándar**\n"
   ]
  },
  {
   "cell_type": "code",
   "execution_count": null,
   "metadata": {},
   "outputs": [],
   "source": [
    "#1 Ajustar el modelo con los nuevos parametros \n"
   ]
  },
  {
   "cell_type": "code",
   "execution_count": null,
   "metadata": {},
   "outputs": [],
   "source": [
    "#2. Definir el Pipeline : Transformación  + modelo\n"
   ]
  },
  {
   "cell_type": "code",
   "execution_count": null,
   "metadata": {},
   "outputs": [],
   "source": [
    "#3. Ajustar el modelo\n"
   ]
  },
  {
   "cell_type": "code",
   "execution_count": null,
   "metadata": {},
   "outputs": [],
   "source": [
    "#Evaluacion\n",
    "# 4. Calcular el score con la validación cruzada CV=10\n"
   ]
  },
  {
   "cell_type": "code",
   "execution_count": null,
   "metadata": {},
   "outputs": [],
   "source": [
    "# 5. Realizar el cambio de signo y sacar la raiz\n",
    "\n"
   ]
  },
  {
   "cell_type": "code",
   "execution_count": null,
   "metadata": {},
   "outputs": [],
   "source": [
    "# 6. Mostrar el resultado usando la funcion display_scores\n"
   ]
  },
  {
   "cell_type": "markdown",
   "metadata": {},
   "source": [
    "### Análisis final "
   ]
  },
  {
   "cell_type": "markdown",
   "metadata": {},
   "source": [
    "|Modelo o clasificador|Mean|Standard deviation|\n",
    "|---|---|---|\n",
    "|  Linear Regression| | |\n",
    "|   DecisionTree| | |\n",
    "|  Random Forest|  | |\n",
    "|  Random Forest (tunned)| | |"
   ]
  },
  {
   "cell_type": "code",
   "execution_count": null,
   "metadata": {},
   "outputs": [],
   "source": [
    "# Datos de evaluación\n"
   ]
  },
  {
   "cell_type": "code",
   "execution_count": null,
   "metadata": {},
   "outputs": [],
   "source": [
    "# Agregamos una grafica para comparar visualmente los resultados\n"
   ]
  },
  {
   "cell_type": "code",
   "execution_count": null,
   "metadata": {},
   "outputs": [],
   "source": []
  }
 ],
 "metadata": {
  "kernelspec": {
   "display_name": "Python 3 (ipykernel)",
   "language": "python",
   "name": "python3"
  },
  "language_info": {
   "codemirror_mode": {
    "name": "ipython",
    "version": 3
   },
   "file_extension": ".py",
   "mimetype": "text/x-python",
   "name": "python",
   "nbconvert_exporter": "python",
   "pygments_lexer": "ipython3",
   "version": "3.10.11"
  }
 },
 "nbformat": 4,
 "nbformat_minor": 4
}
