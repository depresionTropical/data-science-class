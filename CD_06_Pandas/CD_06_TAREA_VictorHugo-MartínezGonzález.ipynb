{
 "cells": [
  {
   "cell_type": "markdown",
   "metadata": {},
   "source": [
    "<!--Información del curso-->\n",
    "<img align=\"left\" style=\"padding-right:10px;\" src=\"figuras/banner_cd.png\">"
   ]
  },
  {
   "cell_type": "markdown",
   "metadata": {},
   "source": [
    "# Parte 1"
   ]
  },
  {
   "cell_type": "markdown",
   "metadata": {},
   "source": [
    "# Ejercicios con los datos del Titanic"
   ]
  },
  {
   "cell_type": "markdown",
   "metadata": {},
   "source": [
    "Descripción de las columnas :\n",
    "\n",
    "    Survival - Supervivencia (0 = No; 1 = Si).\n",
    "    Pclass - Clase (1 = 1st; 2 = 2nd; 3 = 3rd)\n",
    "    Name - Nombre\n",
    "    Sex - Sexo\n",
    "    Age - Edad\n",
    "    Sibsp - Número de hermanos / cónyuges a bordo\n",
    "    Parch - Número de padres / niños a bordo\n",
    "    Ticket - Número de ticket\n",
    "    Fare - Tarifa\n",
    "    Cabin - Número de cabina\n",
    "    Embarked - Puerto de embarque (C = Cherbourg; Q = Queenstown; S = Southampton)\n",
    "\n"
   ]
  },
  {
   "cell_type": "code",
   "execution_count": 3,
   "metadata": {},
   "outputs": [],
   "source": [
    "import pandas as pd"
   ]
  },
  {
   "cell_type": "code",
   "execution_count": 15,
   "metadata": {},
   "outputs": [
    {
     "data": {
      "text/html": [
       "<div>\n",
       "<style scoped>\n",
       "    .dataframe tbody tr th:only-of-type {\n",
       "        vertical-align: middle;\n",
       "    }\n",
       "\n",
       "    .dataframe tbody tr th {\n",
       "        vertical-align: top;\n",
       "    }\n",
       "\n",
       "    .dataframe thead th {\n",
       "        text-align: right;\n",
       "    }\n",
       "</style>\n",
       "<table border=\"1\" class=\"dataframe\">\n",
       "  <thead>\n",
       "    <tr style=\"text-align: right;\">\n",
       "      <th></th>\n",
       "      <th>PassengerId</th>\n",
       "      <th>Survived</th>\n",
       "      <th>Pclass</th>\n",
       "      <th>Name</th>\n",
       "      <th>Sex</th>\n",
       "      <th>Age</th>\n",
       "      <th>SibSp</th>\n",
       "      <th>Parch</th>\n",
       "      <th>Ticket</th>\n",
       "      <th>Fare</th>\n",
       "      <th>Cabin</th>\n",
       "      <th>Embarked</th>\n",
       "    </tr>\n",
       "  </thead>\n",
       "  <tbody>\n",
       "    <tr>\n",
       "      <th>0</th>\n",
       "      <td>1</td>\n",
       "      <td>0</td>\n",
       "      <td>3</td>\n",
       "      <td>Braund, Mr. Owen Harris</td>\n",
       "      <td>male</td>\n",
       "      <td>22.0</td>\n",
       "      <td>1</td>\n",
       "      <td>0</td>\n",
       "      <td>A/5 21171</td>\n",
       "      <td>7.2500</td>\n",
       "      <td>NaN</td>\n",
       "      <td>S</td>\n",
       "    </tr>\n",
       "    <tr>\n",
       "      <th>1</th>\n",
       "      <td>2</td>\n",
       "      <td>1</td>\n",
       "      <td>1</td>\n",
       "      <td>Cumings, Mrs. John Bradley (Florence Briggs Th...</td>\n",
       "      <td>female</td>\n",
       "      <td>38.0</td>\n",
       "      <td>1</td>\n",
       "      <td>0</td>\n",
       "      <td>PC 17599</td>\n",
       "      <td>71.2833</td>\n",
       "      <td>C85</td>\n",
       "      <td>C</td>\n",
       "    </tr>\n",
       "    <tr>\n",
       "      <th>2</th>\n",
       "      <td>3</td>\n",
       "      <td>1</td>\n",
       "      <td>3</td>\n",
       "      <td>Heikkinen, Miss. Laina</td>\n",
       "      <td>female</td>\n",
       "      <td>26.0</td>\n",
       "      <td>0</td>\n",
       "      <td>0</td>\n",
       "      <td>STON/O2. 3101282</td>\n",
       "      <td>7.9250</td>\n",
       "      <td>NaN</td>\n",
       "      <td>S</td>\n",
       "    </tr>\n",
       "    <tr>\n",
       "      <th>3</th>\n",
       "      <td>4</td>\n",
       "      <td>1</td>\n",
       "      <td>1</td>\n",
       "      <td>Futrelle, Mrs. Jacques Heath (Lily May Peel)</td>\n",
       "      <td>female</td>\n",
       "      <td>35.0</td>\n",
       "      <td>1</td>\n",
       "      <td>0</td>\n",
       "      <td>113803</td>\n",
       "      <td>53.1000</td>\n",
       "      <td>C123</td>\n",
       "      <td>S</td>\n",
       "    </tr>\n",
       "    <tr>\n",
       "      <th>4</th>\n",
       "      <td>5</td>\n",
       "      <td>0</td>\n",
       "      <td>3</td>\n",
       "      <td>Allen, Mr. William Henry</td>\n",
       "      <td>male</td>\n",
       "      <td>35.0</td>\n",
       "      <td>0</td>\n",
       "      <td>0</td>\n",
       "      <td>373450</td>\n",
       "      <td>8.0500</td>\n",
       "      <td>NaN</td>\n",
       "      <td>S</td>\n",
       "    </tr>\n",
       "    <tr>\n",
       "      <th>...</th>\n",
       "      <td>...</td>\n",
       "      <td>...</td>\n",
       "      <td>...</td>\n",
       "      <td>...</td>\n",
       "      <td>...</td>\n",
       "      <td>...</td>\n",
       "      <td>...</td>\n",
       "      <td>...</td>\n",
       "      <td>...</td>\n",
       "      <td>...</td>\n",
       "      <td>...</td>\n",
       "      <td>...</td>\n",
       "    </tr>\n",
       "    <tr>\n",
       "      <th>886</th>\n",
       "      <td>887</td>\n",
       "      <td>0</td>\n",
       "      <td>2</td>\n",
       "      <td>Montvila, Rev. Juozas</td>\n",
       "      <td>male</td>\n",
       "      <td>27.0</td>\n",
       "      <td>0</td>\n",
       "      <td>0</td>\n",
       "      <td>211536</td>\n",
       "      <td>13.0000</td>\n",
       "      <td>NaN</td>\n",
       "      <td>S</td>\n",
       "    </tr>\n",
       "    <tr>\n",
       "      <th>887</th>\n",
       "      <td>888</td>\n",
       "      <td>1</td>\n",
       "      <td>1</td>\n",
       "      <td>Graham, Miss. Margaret Edith</td>\n",
       "      <td>female</td>\n",
       "      <td>19.0</td>\n",
       "      <td>0</td>\n",
       "      <td>0</td>\n",
       "      <td>112053</td>\n",
       "      <td>30.0000</td>\n",
       "      <td>B42</td>\n",
       "      <td>S</td>\n",
       "    </tr>\n",
       "    <tr>\n",
       "      <th>888</th>\n",
       "      <td>889</td>\n",
       "      <td>0</td>\n",
       "      <td>3</td>\n",
       "      <td>Johnston, Miss. Catherine Helen \"Carrie\"</td>\n",
       "      <td>female</td>\n",
       "      <td>NaN</td>\n",
       "      <td>1</td>\n",
       "      <td>2</td>\n",
       "      <td>W./C. 6607</td>\n",
       "      <td>23.4500</td>\n",
       "      <td>NaN</td>\n",
       "      <td>S</td>\n",
       "    </tr>\n",
       "    <tr>\n",
       "      <th>889</th>\n",
       "      <td>890</td>\n",
       "      <td>1</td>\n",
       "      <td>1</td>\n",
       "      <td>Behr, Mr. Karl Howell</td>\n",
       "      <td>male</td>\n",
       "      <td>26.0</td>\n",
       "      <td>0</td>\n",
       "      <td>0</td>\n",
       "      <td>111369</td>\n",
       "      <td>30.0000</td>\n",
       "      <td>C148</td>\n",
       "      <td>C</td>\n",
       "    </tr>\n",
       "    <tr>\n",
       "      <th>890</th>\n",
       "      <td>891</td>\n",
       "      <td>0</td>\n",
       "      <td>3</td>\n",
       "      <td>Dooley, Mr. Patrick</td>\n",
       "      <td>male</td>\n",
       "      <td>32.0</td>\n",
       "      <td>0</td>\n",
       "      <td>0</td>\n",
       "      <td>370376</td>\n",
       "      <td>7.7500</td>\n",
       "      <td>NaN</td>\n",
       "      <td>Q</td>\n",
       "    </tr>\n",
       "  </tbody>\n",
       "</table>\n",
       "<p>891 rows × 12 columns</p>\n",
       "</div>"
      ],
      "text/plain": [
       "     PassengerId  Survived  Pclass  \\\n",
       "0              1         0       3   \n",
       "1              2         1       1   \n",
       "2              3         1       3   \n",
       "3              4         1       1   \n",
       "4              5         0       3   \n",
       "..           ...       ...     ...   \n",
       "886          887         0       2   \n",
       "887          888         1       1   \n",
       "888          889         0       3   \n",
       "889          890         1       1   \n",
       "890          891         0       3   \n",
       "\n",
       "                                                  Name     Sex   Age  SibSp  \\\n",
       "0                              Braund, Mr. Owen Harris    male  22.0      1   \n",
       "1    Cumings, Mrs. John Bradley (Florence Briggs Th...  female  38.0      1   \n",
       "2                               Heikkinen, Miss. Laina  female  26.0      0   \n",
       "3         Futrelle, Mrs. Jacques Heath (Lily May Peel)  female  35.0      1   \n",
       "4                             Allen, Mr. William Henry    male  35.0      0   \n",
       "..                                                 ...     ...   ...    ...   \n",
       "886                              Montvila, Rev. Juozas    male  27.0      0   \n",
       "887                       Graham, Miss. Margaret Edith  female  19.0      0   \n",
       "888           Johnston, Miss. Catherine Helen \"Carrie\"  female   NaN      1   \n",
       "889                              Behr, Mr. Karl Howell    male  26.0      0   \n",
       "890                                Dooley, Mr. Patrick    male  32.0      0   \n",
       "\n",
       "     Parch            Ticket     Fare Cabin Embarked  \n",
       "0        0         A/5 21171   7.2500   NaN        S  \n",
       "1        0          PC 17599  71.2833   C85        C  \n",
       "2        0  STON/O2. 3101282   7.9250   NaN        S  \n",
       "3        0            113803  53.1000  C123        S  \n",
       "4        0            373450   8.0500   NaN        S  \n",
       "..     ...               ...      ...   ...      ...  \n",
       "886      0            211536  13.0000   NaN        S  \n",
       "887      0            112053  30.0000   B42        S  \n",
       "888      2        W./C. 6607  23.4500   NaN        S  \n",
       "889      0            111369  30.0000  C148        C  \n",
       "890      0            370376   7.7500   NaN        Q  \n",
       "\n",
       "[891 rows x 12 columns]"
      ]
     },
     "execution_count": 15,
     "metadata": {},
     "output_type": "execute_result"
    }
   ],
   "source": [
    "#Utilizar el archivo datos/titanic.csv\n",
    "df = pd.read_csv(\"datos/titanic.csv\")\n",
    "df"
   ]
  },
  {
   "cell_type": "code",
   "execution_count": 16,
   "metadata": {},
   "outputs": [
    {
     "data": {
      "text/html": [
       "<div>\n",
       "<style scoped>\n",
       "    .dataframe tbody tr th:only-of-type {\n",
       "        vertical-align: middle;\n",
       "    }\n",
       "\n",
       "    .dataframe tbody tr th {\n",
       "        vertical-align: top;\n",
       "    }\n",
       "\n",
       "    .dataframe thead th {\n",
       "        text-align: right;\n",
       "    }\n",
       "</style>\n",
       "<table border=\"1\" class=\"dataframe\">\n",
       "  <thead>\n",
       "    <tr style=\"text-align: right;\">\n",
       "      <th></th>\n",
       "      <th>PassengerId</th>\n",
       "      <th>Survived</th>\n",
       "      <th>Pclass</th>\n",
       "      <th>Name</th>\n",
       "      <th>Sex</th>\n",
       "      <th>Age</th>\n",
       "      <th>SibSp</th>\n",
       "      <th>Parch</th>\n",
       "      <th>Ticket</th>\n",
       "      <th>Fare</th>\n",
       "      <th>Cabin</th>\n",
       "      <th>Embarked</th>\n",
       "    </tr>\n",
       "  </thead>\n",
       "  <tbody>\n",
       "    <tr>\n",
       "      <th>0</th>\n",
       "      <td>1</td>\n",
       "      <td>0</td>\n",
       "      <td>3</td>\n",
       "      <td>Braund, Mr. Owen Harris</td>\n",
       "      <td>male</td>\n",
       "      <td>22.0</td>\n",
       "      <td>1</td>\n",
       "      <td>0</td>\n",
       "      <td>A/5 21171</td>\n",
       "      <td>7.2500</td>\n",
       "      <td>NaN</td>\n",
       "      <td>S</td>\n",
       "    </tr>\n",
       "    <tr>\n",
       "      <th>1</th>\n",
       "      <td>2</td>\n",
       "      <td>1</td>\n",
       "      <td>1</td>\n",
       "      <td>Cumings, Mrs. John Bradley (Florence Briggs Th...</td>\n",
       "      <td>female</td>\n",
       "      <td>38.0</td>\n",
       "      <td>1</td>\n",
       "      <td>0</td>\n",
       "      <td>PC 17599</td>\n",
       "      <td>71.2833</td>\n",
       "      <td>C85</td>\n",
       "      <td>C</td>\n",
       "    </tr>\n",
       "    <tr>\n",
       "      <th>2</th>\n",
       "      <td>3</td>\n",
       "      <td>1</td>\n",
       "      <td>3</td>\n",
       "      <td>Heikkinen, Miss. Laina</td>\n",
       "      <td>female</td>\n",
       "      <td>26.0</td>\n",
       "      <td>0</td>\n",
       "      <td>0</td>\n",
       "      <td>STON/O2. 3101282</td>\n",
       "      <td>7.9250</td>\n",
       "      <td>NaN</td>\n",
       "      <td>S</td>\n",
       "    </tr>\n",
       "    <tr>\n",
       "      <th>3</th>\n",
       "      <td>4</td>\n",
       "      <td>1</td>\n",
       "      <td>1</td>\n",
       "      <td>Futrelle, Mrs. Jacques Heath (Lily May Peel)</td>\n",
       "      <td>female</td>\n",
       "      <td>35.0</td>\n",
       "      <td>1</td>\n",
       "      <td>0</td>\n",
       "      <td>113803</td>\n",
       "      <td>53.1000</td>\n",
       "      <td>C123</td>\n",
       "      <td>S</td>\n",
       "    </tr>\n",
       "    <tr>\n",
       "      <th>4</th>\n",
       "      <td>5</td>\n",
       "      <td>0</td>\n",
       "      <td>3</td>\n",
       "      <td>Allen, Mr. William Henry</td>\n",
       "      <td>male</td>\n",
       "      <td>35.0</td>\n",
       "      <td>0</td>\n",
       "      <td>0</td>\n",
       "      <td>373450</td>\n",
       "      <td>8.0500</td>\n",
       "      <td>NaN</td>\n",
       "      <td>S</td>\n",
       "    </tr>\n",
       "  </tbody>\n",
       "</table>\n",
       "</div>"
      ],
      "text/plain": [
       "   PassengerId  Survived  Pclass  \\\n",
       "0            1         0       3   \n",
       "1            2         1       1   \n",
       "2            3         1       3   \n",
       "3            4         1       1   \n",
       "4            5         0       3   \n",
       "\n",
       "                                                Name     Sex   Age  SibSp  \\\n",
       "0                            Braund, Mr. Owen Harris    male  22.0      1   \n",
       "1  Cumings, Mrs. John Bradley (Florence Briggs Th...  female  38.0      1   \n",
       "2                             Heikkinen, Miss. Laina  female  26.0      0   \n",
       "3       Futrelle, Mrs. Jacques Heath (Lily May Peel)  female  35.0      1   \n",
       "4                           Allen, Mr. William Henry    male  35.0      0   \n",
       "\n",
       "   Parch            Ticket     Fare Cabin Embarked  \n",
       "0      0         A/5 21171   7.2500   NaN        S  \n",
       "1      0          PC 17599  71.2833   C85        C  \n",
       "2      0  STON/O2. 3101282   7.9250   NaN        S  \n",
       "3      0            113803  53.1000  C123        S  \n",
       "4      0            373450   8.0500   NaN        S  "
      ]
     },
     "execution_count": 16,
     "metadata": {},
     "output_type": "execute_result"
    }
   ],
   "source": [
    "#muestre las primeras líneas del DataFrame\n",
    "df.head()"
   ]
  },
  {
   "cell_type": "markdown",
   "metadata": {},
   "source": [
    "<div class=\"alert alert-success\">\n",
    "\n",
    "<b>EJERCICIO 1 </b>: \n",
    "    \n",
    "    \n",
    "Encontrar el promedio de edad para los pasajeros de cada clase.\n",
    "    \n",
    "    \n",
    "</div>"
   ]
  },
  {
   "cell_type": "code",
   "execution_count": 39,
   "metadata": {},
   "outputs": [
    {
     "name": "stdout",
     "output_type": "stream",
     "text": [
      "clase 1: 38.233440860215055\n",
      "clase 2: 29.87763005780347\n",
      "clase 3: 25.14061971830986\n"
     ]
    }
   ],
   "source": [
    "class1 =df[df['Pclass'] == 1]['Age'].mean()\n",
    "class2 =df[df['Pclass'] == 2]['Age'].mean()\n",
    "class3 =df[df['Pclass'] == 3]['Age'].mean()\n",
    "print(f'clase 1: {class1}')\n",
    "print(f'clase 2: {class2}')\n",
    "print(f'clase 3: {class3}')\n"
   ]
  },
  {
   "cell_type": "markdown",
   "metadata": {},
   "source": [
    "<div class=\"alert alert-success\">\n",
    "\n",
    "<b>EJERCICIO 2</b>: \n",
    "  \n",
    "Encontrar el número total de pasajeros por cada punto de embarcación.     \n",
    "    \n",
    "</div>"
   ]
  },
  {
   "cell_type": "code",
   "execution_count": 32,
   "metadata": {},
   "outputs": [
    {
     "data": {
      "text/plain": [
       "Embarked\n",
       "S    644\n",
       "C    168\n",
       "Q     77\n",
       "Name: count, dtype: int64"
      ]
     },
     "execution_count": 32,
     "metadata": {},
     "output_type": "execute_result"
    }
   ],
   "source": [
    "df['Embarked'].value_counts()"
   ]
  },
  {
   "cell_type": "markdown",
   "metadata": {},
   "source": [
    "<div class=\"alert alert-success\">\n",
    "\n",
    "<b>EJERCICIO 3</b>: \n",
    "  \n",
    "a) Encontrar el promedio de edad de los pasajeros que sobrevivieron. \n",
    "    \n",
    "b) Encontrar el promedio de edad de los hombres que sobrevivieron\n",
    "    \n",
    "c) Encontrar el promedio de edad de las mujeres que sobrevivieron\n",
    "</div>\n"
   ]
  },
  {
   "cell_type": "markdown",
   "metadata": {},
   "source": [
    "#### a) Promedio de edad de sobrevivientes"
   ]
  },
  {
   "cell_type": "code",
   "execution_count": 42,
   "metadata": {},
   "outputs": [
    {
     "data": {
      "text/plain": [
       "np.float64(28.343689655172415)"
      ]
     },
     "execution_count": 42,
     "metadata": {},
     "output_type": "execute_result"
    }
   ],
   "source": [
    "df[df['Survived']==1]['Age'].mean()"
   ]
  },
  {
   "cell_type": "markdown",
   "metadata": {},
   "source": [
    "#### b) Promedio de edad de hombres sobrevivientes"
   ]
  },
  {
   "cell_type": "code",
   "execution_count": 44,
   "metadata": {},
   "outputs": [
    {
     "data": {
      "text/plain": [
       "np.float64(27.276021505376345)"
      ]
     },
     "execution_count": 44,
     "metadata": {},
     "output_type": "execute_result"
    }
   ],
   "source": [
    "df[(df['Survived']==1)& (df['Sex']=='male')]['Age'].mean()"
   ]
  },
  {
   "cell_type": "markdown",
   "metadata": {},
   "source": [
    "#### c) Promedio de edad de mujeres sobrevivientes"
   ]
  },
  {
   "cell_type": "code",
   "execution_count": 45,
   "metadata": {},
   "outputs": [
    {
     "data": {
      "text/plain": [
       "np.float64(28.84771573604061)"
      ]
     },
     "execution_count": 45,
     "metadata": {},
     "output_type": "execute_result"
    }
   ],
   "source": [
    "df[(df['Survived']==1)& (df['Sex']=='female')]['Age'].mean()"
   ]
  },
  {
   "cell_type": "markdown",
   "metadata": {},
   "source": [
    "<div class=\"alert alert-success\">\n",
    "\n",
    "<b>EJERCICIO 4</b>: \n",
    "  \n",
    "¿Cuál fue el número de sobrevivientes mujeres  mayores a 40 años? \n",
    "\n",
    "</div>\n",
    "\n",
    "\n",
    "\n"
   ]
  },
  {
   "cell_type": "code",
   "execution_count": 52,
   "metadata": {},
   "outputs": [
    {
     "data": {
      "text/plain": [
       "np.int64(55)"
      ]
     },
     "execution_count": 52,
     "metadata": {},
     "output_type": "execute_result"
    }
   ],
   "source": [
    "((df['Survived']==1) & (df['Age']>40)).sum()"
   ]
  },
  {
   "cell_type": "markdown",
   "metadata": {},
   "source": [
    "<div class=\"alert alert-success\">\n",
    "\n",
    "<b>EJERCICIO 5</b>: \n",
    "  \n",
    "La edad del más joven y de la persona de mayor edad. \n",
    "\n",
    "</div>\n",
    "\n"
   ]
  },
  {
   "cell_type": "code",
   "execution_count": 54,
   "metadata": {},
   "outputs": [
    {
     "name": "stdout",
     "output_type": "stream",
     "text": [
      "Edad mayor\n",
      "80.0\n",
      "Edad menor\n",
      "0.42\n"
     ]
    }
   ],
   "source": [
    "print('Edad mayor')\n",
    "print(df['Age'].max())\n",
    "print('Edad menor')\n",
    "print(df['Age'].min())"
   ]
  },
  {
   "cell_type": "markdown",
   "metadata": {},
   "source": [
    "# Parte 2:  Escuelas de Jalisco \n",
    "Utilizar los datos del archivo \"cct_estadistica_short.csv\" para realizar los siguientes ejercicios\n"
   ]
  },
  {
   "cell_type": "code",
   "execution_count": 55,
   "metadata": {},
   "outputs": [],
   "source": [
    "#Leer los datos \n",
    "df = pd.read_csv('datos/cct_estadistica_short.csv',  encoding='latin1') "
   ]
  },
  {
   "cell_type": "code",
   "execution_count": 56,
   "metadata": {},
   "outputs": [
    {
     "data": {
      "text/html": [
       "<div>\n",
       "<style scoped>\n",
       "    .dataframe tbody tr th:only-of-type {\n",
       "        vertical-align: middle;\n",
       "    }\n",
       "\n",
       "    .dataframe tbody tr th {\n",
       "        vertical-align: top;\n",
       "    }\n",
       "\n",
       "    .dataframe thead th {\n",
       "        text-align: right;\n",
       "    }\n",
       "</style>\n",
       "<table border=\"1\" class=\"dataframe\">\n",
       "  <thead>\n",
       "    <tr style=\"text-align: right;\">\n",
       "      <th></th>\n",
       "      <th>CLAVE CT</th>\n",
       "      <th>NOM TURNO</th>\n",
       "      <th>NOMBRE CT</th>\n",
       "      <th>DOMICILIO</th>\n",
       "      <th>LOCALIDAD INEGI</th>\n",
       "      <th>NOMBRE LOCALIDAD</th>\n",
       "      <th>NOMBRE COLONIA</th>\n",
       "      <th>MUNICIPIO</th>\n",
       "      <th>NOMBRE MUNICIPIO</th>\n",
       "      <th>SOSTENIMIENTO</th>\n",
       "      <th>...</th>\n",
       "      <th>DOCENTES</th>\n",
       "      <th>GRUPOS</th>\n",
       "      <th>DOCENETE EDUCACION FISICA</th>\n",
       "      <th>DOCENTE ACTIVIDADES ARTISTICAS</th>\n",
       "      <th>DOCENTE ACTIVIDADES TECNONOLOGICAS</th>\n",
       "      <th>DOCENTE DE IDIOMAS</th>\n",
       "      <th>PERSONAL DE ADMINISTRATIVO Y SERVICIOS</th>\n",
       "      <th>DIRECTOR CON GRUPO</th>\n",
       "      <th>DIRECTOR SIN GRUPO</th>\n",
       "      <th>TOTAL DE PERSONAL</th>\n",
       "    </tr>\n",
       "  </thead>\n",
       "  <tbody>\n",
       "    <tr>\n",
       "      <th>0</th>\n",
       "      <td>14DPR3480S</td>\n",
       "      <td>VESPERTINO</td>\n",
       "      <td>MIGUEL HIDALGO Y COSTILLA</td>\n",
       "      <td>RIO SANTIAGO</td>\n",
       "      <td>1</td>\n",
       "      <td>TIZAPAN EL ALTO</td>\n",
       "      <td>ATRACADERO</td>\n",
       "      <td>96</td>\n",
       "      <td>TIZAPAN EL ALTO</td>\n",
       "      <td>FEDERALIZADO</td>\n",
       "      <td>...</td>\n",
       "      <td>6</td>\n",
       "      <td>6</td>\n",
       "      <td>1</td>\n",
       "      <td>0</td>\n",
       "      <td>0</td>\n",
       "      <td>0</td>\n",
       "      <td>0</td>\n",
       "      <td>0</td>\n",
       "      <td>1</td>\n",
       "      <td>8</td>\n",
       "    </tr>\n",
       "    <tr>\n",
       "      <th>1</th>\n",
       "      <td>14DPR2780I</td>\n",
       "      <td>MATUTINO</td>\n",
       "      <td>CONSTITUCION DEL 57</td>\n",
       "      <td>CONOCIDO</td>\n",
       "      <td>54</td>\n",
       "      <td>MESA DE MENDEZ</td>\n",
       "      <td>0</td>\n",
       "      <td>16</td>\n",
       "      <td>AYOTLAN</td>\n",
       "      <td>FEDERALIZADO</td>\n",
       "      <td>...</td>\n",
       "      <td>1</td>\n",
       "      <td>1</td>\n",
       "      <td>0</td>\n",
       "      <td>0</td>\n",
       "      <td>0</td>\n",
       "      <td>0</td>\n",
       "      <td>0</td>\n",
       "      <td>1</td>\n",
       "      <td>0</td>\n",
       "      <td>1</td>\n",
       "    </tr>\n",
       "    <tr>\n",
       "      <th>2</th>\n",
       "      <td>14DPR1553G</td>\n",
       "      <td>CONTINUO (JORNADA AMPLIADA)</td>\n",
       "      <td>MIGUEL HIDALGO Y COSTILLA</td>\n",
       "      <td>CONOCIDO</td>\n",
       "      <td>31</td>\n",
       "      <td>DOLORES</td>\n",
       "      <td>0</td>\n",
       "      <td>25</td>\n",
       "      <td>COLOTLAN</td>\n",
       "      <td>FEDERALIZADO</td>\n",
       "      <td>...</td>\n",
       "      <td>3</td>\n",
       "      <td>3</td>\n",
       "      <td>1</td>\n",
       "      <td>0</td>\n",
       "      <td>0</td>\n",
       "      <td>0</td>\n",
       "      <td>0</td>\n",
       "      <td>1</td>\n",
       "      <td>0</td>\n",
       "      <td>4</td>\n",
       "    </tr>\n",
       "    <tr>\n",
       "      <th>3</th>\n",
       "      <td>14SES0104Q</td>\n",
       "      <td>MATUTINO</td>\n",
       "      <td>NIOS HEROES</td>\n",
       "      <td>ALVARO OBREGON 115</td>\n",
       "      <td>280</td>\n",
       "      <td>SANTA MARIA DEL VALLE</td>\n",
       "      <td>0</td>\n",
       "      <td>8</td>\n",
       "      <td>ARANDAS</td>\n",
       "      <td>PARTICULAR</td>\n",
       "      <td>...</td>\n",
       "      <td>9</td>\n",
       "      <td>3</td>\n",
       "      <td>1</td>\n",
       "      <td>1</td>\n",
       "      <td>1</td>\n",
       "      <td>0</td>\n",
       "      <td>1</td>\n",
       "      <td>1</td>\n",
       "      <td>0</td>\n",
       "      <td>10</td>\n",
       "    </tr>\n",
       "    <tr>\n",
       "      <th>4</th>\n",
       "      <td>14EJN0826I</td>\n",
       "      <td>VESPERTINO</td>\n",
       "      <td>EVA GONZALEZ BLANCO</td>\n",
       "      <td>MARCELINO GARCIA BARRAGAN 1954</td>\n",
       "      <td>1</td>\n",
       "      <td>GUADALAJARA</td>\n",
       "      <td>0</td>\n",
       "      <td>39</td>\n",
       "      <td>GUADALAJARA</td>\n",
       "      <td>ESTATAL</td>\n",
       "      <td>...</td>\n",
       "      <td>5</td>\n",
       "      <td>5</td>\n",
       "      <td>1</td>\n",
       "      <td>1</td>\n",
       "      <td>0</td>\n",
       "      <td>0</td>\n",
       "      <td>6</td>\n",
       "      <td>0</td>\n",
       "      <td>1</td>\n",
       "      <td>14</td>\n",
       "    </tr>\n",
       "  </tbody>\n",
       "</table>\n",
       "<p>5 rows × 43 columns</p>\n",
       "</div>"
      ],
      "text/plain": [
       "     CLAVE CT                    NOM TURNO                  NOMBRE CT  \\\n",
       "0  14DPR3480S                   VESPERTINO  MIGUEL HIDALGO Y COSTILLA   \n",
       "1  14DPR2780I                     MATUTINO        CONSTITUCION DEL 57   \n",
       "2  14DPR1553G  CONTINUO (JORNADA AMPLIADA)  MIGUEL HIDALGO Y COSTILLA   \n",
       "3  14SES0104Q                     MATUTINO               NIOS HEROES   \n",
       "4  14EJN0826I                   VESPERTINO        EVA GONZALEZ BLANCO   \n",
       "\n",
       "                        DOMICILIO  LOCALIDAD INEGI       NOMBRE LOCALIDAD  \\\n",
       "0                    RIO SANTIAGO                1        TIZAPAN EL ALTO   \n",
       "1                        CONOCIDO               54         MESA DE MENDEZ   \n",
       "2                        CONOCIDO               31                DOLORES   \n",
       "3              ALVARO OBREGON 115              280  SANTA MARIA DEL VALLE   \n",
       "4  MARCELINO GARCIA BARRAGAN 1954                1            GUADALAJARA   \n",
       "\n",
       "  NOMBRE COLONIA  MUNICIPIO NOMBRE MUNICIPIO SOSTENIMIENTO  ... DOCENTES  \\\n",
       "0     ATRACADERO         96  TIZAPAN EL ALTO  FEDERALIZADO  ...        6   \n",
       "1              0         16          AYOTLAN  FEDERALIZADO  ...        1   \n",
       "2              0         25         COLOTLAN  FEDERALIZADO  ...        3   \n",
       "3              0          8          ARANDAS    PARTICULAR  ...        9   \n",
       "4              0         39      GUADALAJARA       ESTATAL  ...        5   \n",
       "\n",
       "  GRUPOS  DOCENETE EDUCACION FISICA  DOCENTE ACTIVIDADES ARTISTICAS  \\\n",
       "0      6                          1                               0   \n",
       "1      1                          0                               0   \n",
       "2      3                          1                               0   \n",
       "3      3                          1                               1   \n",
       "4      5                          1                               1   \n",
       "\n",
       "   DOCENTE ACTIVIDADES TECNONOLOGICAS  DOCENTE DE IDIOMAS  \\\n",
       "0                                   0                   0   \n",
       "1                                   0                   0   \n",
       "2                                   0                   0   \n",
       "3                                   1                   0   \n",
       "4                                   0                   0   \n",
       "\n",
       "   PERSONAL DE ADMINISTRATIVO Y SERVICIOS  DIRECTOR CON GRUPO  \\\n",
       "0                                       0                   0   \n",
       "1                                       0                   1   \n",
       "2                                       0                   1   \n",
       "3                                       1                   1   \n",
       "4                                       6                   0   \n",
       "\n",
       "   DIRECTOR SIN GRUPO  TOTAL DE PERSONAL  \n",
       "0                   1                  8  \n",
       "1                   0                  1  \n",
       "2                   0                  4  \n",
       "3                   0                 10  \n",
       "4                   1                 14  \n",
       "\n",
       "[5 rows x 43 columns]"
      ]
     },
     "execution_count": 56,
     "metadata": {},
     "output_type": "execute_result"
    }
   ],
   "source": [
    "#Desplegar parte del dataframe\n",
    "df.head()"
   ]
  },
  {
   "cell_type": "code",
   "execution_count": 57,
   "metadata": {},
   "outputs": [
    {
     "data": {
      "text/html": [
       "<div>\n",
       "<style scoped>\n",
       "    .dataframe tbody tr th:only-of-type {\n",
       "        vertical-align: middle;\n",
       "    }\n",
       "\n",
       "    .dataframe tbody tr th {\n",
       "        vertical-align: top;\n",
       "    }\n",
       "\n",
       "    .dataframe thead th {\n",
       "        text-align: right;\n",
       "    }\n",
       "</style>\n",
       "<table border=\"1\" class=\"dataframe\">\n",
       "  <thead>\n",
       "    <tr style=\"text-align: right;\">\n",
       "      <th></th>\n",
       "      <th>LOCALIDAD INEGI</th>\n",
       "      <th>MUNICIPIO</th>\n",
       "      <th>HOMBRES 1¡</th>\n",
       "      <th>MUJERES 1¡</th>\n",
       "      <th>TOTAL 1¡</th>\n",
       "      <th>HOMBRES 2¡</th>\n",
       "      <th>MUJERES 2¡</th>\n",
       "      <th>TOTAL 2¡</th>\n",
       "      <th>HOMBRES 3¡</th>\n",
       "      <th>MUJERES 3¡</th>\n",
       "      <th>...</th>\n",
       "      <th>DOCENTES</th>\n",
       "      <th>GRUPOS</th>\n",
       "      <th>DOCENETE EDUCACION FISICA</th>\n",
       "      <th>DOCENTE ACTIVIDADES ARTISTICAS</th>\n",
       "      <th>DOCENTE ACTIVIDADES TECNONOLOGICAS</th>\n",
       "      <th>DOCENTE DE IDIOMAS</th>\n",
       "      <th>PERSONAL DE ADMINISTRATIVO Y SERVICIOS</th>\n",
       "      <th>DIRECTOR CON GRUPO</th>\n",
       "      <th>DIRECTOR SIN GRUPO</th>\n",
       "      <th>TOTAL DE PERSONAL</th>\n",
       "    </tr>\n",
       "  </thead>\n",
       "  <tbody>\n",
       "    <tr>\n",
       "      <th>count</th>\n",
       "      <td>3205.000000</td>\n",
       "      <td>3205.000000</td>\n",
       "      <td>3205.000000</td>\n",
       "      <td>3205.000000</td>\n",
       "      <td>3205.000000</td>\n",
       "      <td>3205.000000</td>\n",
       "      <td>3205.000000</td>\n",
       "      <td>3205.000000</td>\n",
       "      <td>3205.000000</td>\n",
       "      <td>3205.000000</td>\n",
       "      <td>...</td>\n",
       "      <td>3205.000000</td>\n",
       "      <td>3205.000000</td>\n",
       "      <td>3205.000000</td>\n",
       "      <td>3205.000000</td>\n",
       "      <td>3205.000000</td>\n",
       "      <td>3205.000000</td>\n",
       "      <td>3205.000000</td>\n",
       "      <td>3205.000000</td>\n",
       "      <td>3205.000000</td>\n",
       "      <td>3205.000000</td>\n",
       "    </tr>\n",
       "    <tr>\n",
       "      <th>mean</th>\n",
       "      <td>68.188456</td>\n",
       "      <td>69.267395</td>\n",
       "      <td>13.990640</td>\n",
       "      <td>13.320437</td>\n",
       "      <td>27.311076</td>\n",
       "      <td>17.495476</td>\n",
       "      <td>16.978783</td>\n",
       "      <td>34.474259</td>\n",
       "      <td>16.887676</td>\n",
       "      <td>16.520437</td>\n",
       "      <td>...</td>\n",
       "      <td>5.691108</td>\n",
       "      <td>4.651482</td>\n",
       "      <td>0.453978</td>\n",
       "      <td>0.239938</td>\n",
       "      <td>0.227145</td>\n",
       "      <td>0.125117</td>\n",
       "      <td>1.866459</td>\n",
       "      <td>0.409048</td>\n",
       "      <td>0.488924</td>\n",
       "      <td>8.658658</td>\n",
       "    </tr>\n",
       "    <tr>\n",
       "      <th>std</th>\n",
       "      <td>352.396926</td>\n",
       "      <td>36.099546</td>\n",
       "      <td>28.627149</td>\n",
       "      <td>25.183012</td>\n",
       "      <td>52.093390</td>\n",
       "      <td>24.999908</td>\n",
       "      <td>24.167297</td>\n",
       "      <td>47.835989</td>\n",
       "      <td>23.292725</td>\n",
       "      <td>22.591801</td>\n",
       "      <td>...</td>\n",
       "      <td>7.223604</td>\n",
       "      <td>4.293962</td>\n",
       "      <td>0.702337</td>\n",
       "      <td>0.568769</td>\n",
       "      <td>0.900589</td>\n",
       "      <td>0.652190</td>\n",
       "      <td>4.150073</td>\n",
       "      <td>0.552132</td>\n",
       "      <td>0.588820</td>\n",
       "      <td>11.393876</td>\n",
       "    </tr>\n",
       "    <tr>\n",
       "      <th>min</th>\n",
       "      <td>1.000000</td>\n",
       "      <td>1.000000</td>\n",
       "      <td>0.000000</td>\n",
       "      <td>0.000000</td>\n",
       "      <td>0.000000</td>\n",
       "      <td>0.000000</td>\n",
       "      <td>0.000000</td>\n",
       "      <td>0.000000</td>\n",
       "      <td>0.000000</td>\n",
       "      <td>0.000000</td>\n",
       "      <td>...</td>\n",
       "      <td>0.000000</td>\n",
       "      <td>1.000000</td>\n",
       "      <td>0.000000</td>\n",
       "      <td>0.000000</td>\n",
       "      <td>0.000000</td>\n",
       "      <td>0.000000</td>\n",
       "      <td>0.000000</td>\n",
       "      <td>0.000000</td>\n",
       "      <td>0.000000</td>\n",
       "      <td>0.000000</td>\n",
       "    </tr>\n",
       "    <tr>\n",
       "      <th>25%</th>\n",
       "      <td>1.000000</td>\n",
       "      <td>39.000000</td>\n",
       "      <td>0.000000</td>\n",
       "      <td>0.000000</td>\n",
       "      <td>1.000000</td>\n",
       "      <td>3.000000</td>\n",
       "      <td>2.000000</td>\n",
       "      <td>5.000000</td>\n",
       "      <td>2.000000</td>\n",
       "      <td>2.000000</td>\n",
       "      <td>...</td>\n",
       "      <td>1.000000</td>\n",
       "      <td>1.000000</td>\n",
       "      <td>0.000000</td>\n",
       "      <td>0.000000</td>\n",
       "      <td>0.000000</td>\n",
       "      <td>0.000000</td>\n",
       "      <td>0.000000</td>\n",
       "      <td>0.000000</td>\n",
       "      <td>0.000000</td>\n",
       "      <td>1.000000</td>\n",
       "    </tr>\n",
       "    <tr>\n",
       "      <th>50%</th>\n",
       "      <td>3.000000</td>\n",
       "      <td>68.000000</td>\n",
       "      <td>4.000000</td>\n",
       "      <td>4.000000</td>\n",
       "      <td>7.000000</td>\n",
       "      <td>9.000000</td>\n",
       "      <td>9.000000</td>\n",
       "      <td>18.000000</td>\n",
       "      <td>9.000000</td>\n",
       "      <td>9.000000</td>\n",
       "      <td>...</td>\n",
       "      <td>3.000000</td>\n",
       "      <td>3.000000</td>\n",
       "      <td>0.000000</td>\n",
       "      <td>0.000000</td>\n",
       "      <td>0.000000</td>\n",
       "      <td>0.000000</td>\n",
       "      <td>1.000000</td>\n",
       "      <td>0.000000</td>\n",
       "      <td>0.000000</td>\n",
       "      <td>5.000000</td>\n",
       "    </tr>\n",
       "    <tr>\n",
       "      <th>75%</th>\n",
       "      <td>52.000000</td>\n",
       "      <td>100.000000</td>\n",
       "      <td>15.000000</td>\n",
       "      <td>14.000000</td>\n",
       "      <td>29.000000</td>\n",
       "      <td>23.000000</td>\n",
       "      <td>22.000000</td>\n",
       "      <td>44.000000</td>\n",
       "      <td>23.000000</td>\n",
       "      <td>22.000000</td>\n",
       "      <td>...</td>\n",
       "      <td>6.000000</td>\n",
       "      <td>6.000000</td>\n",
       "      <td>1.000000</td>\n",
       "      <td>0.000000</td>\n",
       "      <td>0.000000</td>\n",
       "      <td>0.000000</td>\n",
       "      <td>2.000000</td>\n",
       "      <td>1.000000</td>\n",
       "      <td>1.000000</td>\n",
       "      <td>11.000000</td>\n",
       "    </tr>\n",
       "    <tr>\n",
       "      <th>max</th>\n",
       "      <td>9503.000000</td>\n",
       "      <td>125.000000</td>\n",
       "      <td>565.000000</td>\n",
       "      <td>221.000000</td>\n",
       "      <td>565.000000</td>\n",
       "      <td>427.000000</td>\n",
       "      <td>221.000000</td>\n",
       "      <td>427.000000</td>\n",
       "      <td>422.000000</td>\n",
       "      <td>201.000000</td>\n",
       "      <td>...</td>\n",
       "      <td>70.000000</td>\n",
       "      <td>29.000000</td>\n",
       "      <td>6.000000</td>\n",
       "      <td>7.000000</td>\n",
       "      <td>17.000000</td>\n",
       "      <td>15.000000</td>\n",
       "      <td>51.000000</td>\n",
       "      <td>10.000000</td>\n",
       "      <td>7.000000</td>\n",
       "      <td>122.000000</td>\n",
       "    </tr>\n",
       "  </tbody>\n",
       "</table>\n",
       "<p>8 rows × 33 columns</p>\n",
       "</div>"
      ],
      "text/plain": [
       "       LOCALIDAD INEGI    MUNICIPIO   HOMBRES 1¡   MUJERES 1¡     TOTAL 1¡  \\\n",
       "count      3205.000000  3205.000000  3205.000000  3205.000000  3205.000000   \n",
       "mean         68.188456    69.267395    13.990640    13.320437    27.311076   \n",
       "std         352.396926    36.099546    28.627149    25.183012    52.093390   \n",
       "min           1.000000     1.000000     0.000000     0.000000     0.000000   \n",
       "25%           1.000000    39.000000     0.000000     0.000000     1.000000   \n",
       "50%           3.000000    68.000000     4.000000     4.000000     7.000000   \n",
       "75%          52.000000   100.000000    15.000000    14.000000    29.000000   \n",
       "max        9503.000000   125.000000   565.000000   221.000000   565.000000   \n",
       "\n",
       "        HOMBRES 2¡   MUJERES 2¡     TOTAL 2¡   HOMBRES 3¡   MUJERES 3¡  ...  \\\n",
       "count  3205.000000  3205.000000  3205.000000  3205.000000  3205.000000  ...   \n",
       "mean     17.495476    16.978783    34.474259    16.887676    16.520437  ...   \n",
       "std      24.999908    24.167297    47.835989    23.292725    22.591801  ...   \n",
       "min       0.000000     0.000000     0.000000     0.000000     0.000000  ...   \n",
       "25%       3.000000     2.000000     5.000000     2.000000     2.000000  ...   \n",
       "50%       9.000000     9.000000    18.000000     9.000000     9.000000  ...   \n",
       "75%      23.000000    22.000000    44.000000    23.000000    22.000000  ...   \n",
       "max     427.000000   221.000000   427.000000   422.000000   201.000000  ...   \n",
       "\n",
       "          DOCENTES       GRUPOS  DOCENETE EDUCACION FISICA  \\\n",
       "count  3205.000000  3205.000000                3205.000000   \n",
       "mean      5.691108     4.651482                   0.453978   \n",
       "std       7.223604     4.293962                   0.702337   \n",
       "min       0.000000     1.000000                   0.000000   \n",
       "25%       1.000000     1.000000                   0.000000   \n",
       "50%       3.000000     3.000000                   0.000000   \n",
       "75%       6.000000     6.000000                   1.000000   \n",
       "max      70.000000    29.000000                   6.000000   \n",
       "\n",
       "       DOCENTE ACTIVIDADES ARTISTICAS  DOCENTE ACTIVIDADES TECNONOLOGICAS  \\\n",
       "count                     3205.000000                         3205.000000   \n",
       "mean                         0.239938                            0.227145   \n",
       "std                          0.568769                            0.900589   \n",
       "min                          0.000000                            0.000000   \n",
       "25%                          0.000000                            0.000000   \n",
       "50%                          0.000000                            0.000000   \n",
       "75%                          0.000000                            0.000000   \n",
       "max                          7.000000                           17.000000   \n",
       "\n",
       "       DOCENTE DE IDIOMAS  PERSONAL DE ADMINISTRATIVO Y SERVICIOS  \\\n",
       "count         3205.000000                             3205.000000   \n",
       "mean             0.125117                                1.866459   \n",
       "std              0.652190                                4.150073   \n",
       "min              0.000000                                0.000000   \n",
       "25%              0.000000                                0.000000   \n",
       "50%              0.000000                                1.000000   \n",
       "75%              0.000000                                2.000000   \n",
       "max             15.000000                               51.000000   \n",
       "\n",
       "       DIRECTOR CON GRUPO  DIRECTOR SIN GRUPO  TOTAL DE PERSONAL  \n",
       "count         3205.000000         3205.000000        3205.000000  \n",
       "mean             0.409048            0.488924           8.658658  \n",
       "std              0.552132            0.588820          11.393876  \n",
       "min              0.000000            0.000000           0.000000  \n",
       "25%              0.000000            0.000000           1.000000  \n",
       "50%              0.000000            0.000000           5.000000  \n",
       "75%              1.000000            1.000000          11.000000  \n",
       "max             10.000000            7.000000         122.000000  \n",
       "\n",
       "[8 rows x 33 columns]"
      ]
     },
     "execution_count": 57,
     "metadata": {},
     "output_type": "execute_result"
    }
   ],
   "source": [
    "#Resumen estadistico de los campos\n",
    "df.describe()"
   ]
  },
  {
   "cell_type": "code",
   "execution_count": 58,
   "metadata": {},
   "outputs": [
    {
     "data": {
      "text/plain": [
       "Index(['CLAVE CT', 'NOM TURNO', 'NOMBRE CT', 'DOMICILIO', 'LOCALIDAD INEGI',\n",
       "       ' NOMBRE LOCALIDAD', 'NOMBRE COLONIA', 'MUNICIPIO', 'NOMBRE MUNICIPIO',\n",
       "       'SOSTENIMIENTO', 'NIVEL', 'PROGRAMA', 'HOMBRES 1¡', 'MUJERES 1¡',\n",
       "       'TOTAL 1¡', 'HOMBRES 2¡', 'MUJERES 2¡', 'TOTAL 2¡', 'HOMBRES 3¡',\n",
       "       'MUJERES 3¡', 'TOTAL 3¡', 'HOMBRES 4¡', 'MUJERES 4¡', 'TOTAL 4¡',\n",
       "       'HOMBRES 5¡', 'MUJERES 5¡', 'TOTAL 5¡', 'HOMBRES 6¡', 'MUJERES 6¡',\n",
       "       'TOTAL 6¡', 'HOMBRES TOTAL', 'MUJERES TOTAL', 'MATRICULA TOTAL',\n",
       "       'DOCENTES', 'GRUPOS', 'DOCENETE EDUCACION FISICA',\n",
       "       'DOCENTE ACTIVIDADES ARTISTICAS', 'DOCENTE ACTIVIDADES TECNONOLOGICAS',\n",
       "       'DOCENTE DE IDIOMAS', 'PERSONAL DE ADMINISTRATIVO Y SERVICIOS',\n",
       "       'DIRECTOR CON GRUPO', 'DIRECTOR SIN GRUPO', 'TOTAL DE PERSONAL'],\n",
       "      dtype='object')"
      ]
     },
     "execution_count": 58,
     "metadata": {},
     "output_type": "execute_result"
    }
   ],
   "source": [
    "#Mostrar los nombres de las columnas del dataframe\n",
    "df.columns"
   ]
  },
  {
   "cell_type": "markdown",
   "metadata": {},
   "source": [
    "<div class=\"alert alert-success\">\n",
    "    <b>EJERCICIO 6 </b>:\n",
    " <ul>\n",
    "  <li> Encuentre el número de estudiantes por nivel educativo (PRIMARIA, SECUNDARIA y BACHILLERATO). </li>\n",
    "</ul> \n",
    "\n",
    "</div>"
   ]
  },
  {
   "cell_type": "code",
   "execution_count": 68,
   "metadata": {},
   "outputs": [
    {
     "name": "stdout",
     "output_type": "stream",
     "text": [
      "Primaria\n",
      "196298\n",
      "Secundaria\n",
      "102051\n",
      "Bachillerato\n",
      "29768\n"
     ]
    }
   ],
   "source": [
    "print('Primaria')\n",
    "print(df[df['NIVEL'] == 'PRIMARIA']['MATRICULA TOTAL'].sum())\n",
    "print('Secundaria')\n",
    "print(df[df['NIVEL'] == 'SECUNDARIA']['MATRICULA TOTAL'].sum())\n",
    "print('Bachillerato')\n",
    "print(df[df['NIVEL'] == 'BACHILLERATO']['MATRICULA TOTAL'].sum())"
   ]
  },
  {
   "cell_type": "markdown",
   "metadata": {},
   "source": [
    "<div class=\"alert alert-success\">\n",
    "    <b>EJERCICIO 7 </b>:\n",
    " <ul>\n",
    "  <li>  Encuentre el número de estudiantes hombres y mujeres por nivel educativo (PRIMARIA, SECUNDARIA y BACHILLERATO).    </li>\n",
    "</ul> \n",
    "\n",
    "</div>"
   ]
  },
  {
   "cell_type": "code",
   "execution_count": 72,
   "metadata": {},
   "outputs": [
    {
     "name": "stdout",
     "output_type": "stream",
     "text": [
      "Primaria\n",
      "96326\n",
      "99972\n",
      "Secundaria\n",
      "50184\n",
      "51867\n",
      "Bachillerato\n",
      "14315\n",
      "15453\n"
     ]
    }
   ],
   "source": [
    "print('Primaria')\n",
    "\n",
    "print(df[df['NIVEL'] == 'PRIMARIA']['MUJERES TOTAL'].sum())\n",
    "print(df[df['NIVEL'] == 'PRIMARIA']['HOMBRES TOTAL'].sum())\n",
    "print('Secundaria')\n",
    "print(df[df['NIVEL'] == 'SECUNDARIA']['MUJERES TOTAL'].sum())\n",
    "print(df[df['NIVEL'] == 'SECUNDARIA']['HOMBRES TOTAL'].sum())\n",
    "print('Bachillerato')\n",
    "print(df[df['NIVEL'] == 'BACHILLERATO']['MUJERES TOTAL'].sum())\n",
    "print(df[df['NIVEL'] == 'BACHILLERATO']['HOMBRES TOTAL'].sum())"
   ]
  },
  {
   "cell_type": "markdown",
   "metadata": {},
   "source": [
    "<div class=\"alert alert-success\">\n",
    "    <b>EJERCICIO 8 </b>:\n",
    " <ul>\n",
    "  <li>  ¿Cuál es el promedio de docentes por nivel educativo?  </li>\n",
    "</ul> \n",
    "\n",
    "</div>"
   ]
  },
  {
   "cell_type": "code",
   "execution_count": 73,
   "metadata": {},
   "outputs": [
    {
     "name": "stdout",
     "output_type": "stream",
     "text": [
      "Primaria\n",
      "5.662754303599374\n",
      "Secundaria\n",
      "12.412371134020619\n",
      "Bachillerato\n",
      "10.348993288590604\n"
     ]
    }
   ],
   "source": [
    "print('Primaria')\n",
    "print(df[df['NIVEL'] == 'PRIMARIA']['DOCENTES'].mean())\n",
    "print('Secundaria')\n",
    "print(df[df['NIVEL'] == 'SECUNDARIA']['DOCENTES'].mean())\n",
    "print('Bachillerato')\n",
    "print(df[df['NIVEL'] == 'BACHILLERATO']['DOCENTES'].mean())"
   ]
  },
  {
   "cell_type": "markdown",
   "metadata": {},
   "source": [
    "<div class=\"alert alert-success\">\n",
    "    <b>EJERCICIO 9 </b>:\n",
    " <ul>\n",
    "  <li>   Encuentre el porcentaje de  escuelas Particulares </li>\n",
    "</ul> \n",
    "\n",
    "</div>\n"
   ]
  },
  {
   "cell_type": "code",
   "execution_count": 78,
   "metadata": {},
   "outputs": [
    {
     "data": {
      "text/plain": [
       "np.float64(17.254290171606865)"
      ]
     },
     "execution_count": 78,
     "metadata": {},
     "output_type": "execute_result"
    }
   ],
   "source": [
    "((df['SOSTENIMIENTO']=='PARTICULAR').sum()/df['SOSTENIMIENTO'].count())*100"
   ]
  },
  {
   "cell_type": "markdown",
   "metadata": {},
   "source": [
    "<div class=\"alert alert-success\">\n",
    "    <b>EJERCICIO 10 </b>:\n",
    " <ul>\n",
    "  <li>   Encuentre el porcentaje de  escuelas PREESCOLAR, PRIMARIA,  SECUNDARIA y BACHILLERATO  </li>\n",
    "</ul> \n",
    "\n",
    "</div>\n",
    "\n"
   ]
  },
  {
   "cell_type": "code",
   "execution_count": 84,
   "metadata": {},
   "outputs": [
    {
     "data": {
      "text/plain": [
       "(1278, 43)"
      ]
     },
     "execution_count": 84,
     "metadata": {},
     "output_type": "execute_result"
    }
   ],
   "source": [
    "df[df['NIVEL'] == 'PRIMARIA'].shape"
   ]
  },
  {
   "cell_type": "code",
   "execution_count": 90,
   "metadata": {},
   "outputs": [
    {
     "data": {
      "text/plain": [
       "array(['PRIMARIA', 'SECUNDARIA', 'PREESCOLAR', 'BACHILLERATO'],\n",
       "      dtype=object)"
      ]
     },
     "execution_count": 90,
     "metadata": {},
     "output_type": "execute_result"
    }
   ],
   "source": [
    "df['NIVEL'].unique()"
   ]
  },
  {
   "cell_type": "code",
   "execution_count": 85,
   "metadata": {},
   "outputs": [
    {
     "data": {
      "text/plain": [
       "(485, 43)"
      ]
     },
     "execution_count": 85,
     "metadata": {},
     "output_type": "execute_result"
    }
   ],
   "source": [
    "df[df['NIVEL'] == 'SECUNDARIA'].shape"
   ]
  },
  {
   "cell_type": "code",
   "execution_count": 92,
   "metadata": {},
   "outputs": [
    {
     "name": "stdout",
     "output_type": "stream",
     "text": [
      "Primaria\n",
      "39.875195007800315\n",
      "Secundaria\n",
      "15.132605304212168\n",
      "Bachillerato\n",
      "4.648985959438377\n"
     ]
    }
   ],
   "source": [
    "print('Primaria')\n",
    "print(df[df['NIVEL'] == 'PRIMARIA'].shape[0]/df.shape[0]*100)\n",
    "print('Secundaria')\n",
    "print(df[df['NIVEL'] == 'SECUNDARIA'].shape[0]/df.shape[0]*100)\n",
    "print('Bachillerato')\n",
    "print(df[df['NIVEL'] == 'BACHILLERATO'].shape[0]/df.shape[0]*100)"
   ]
  },
  {
   "cell_type": "code",
   "execution_count": null,
   "metadata": {},
   "outputs": [],
   "source": []
  }
 ],
 "metadata": {
  "kernelspec": {
   "display_name": "Python 3 (ipykernel)",
   "language": "python",
   "name": "python3"
  },
  "language_info": {
   "codemirror_mode": {
    "name": "ipython",
    "version": 3
   },
   "file_extension": ".py",
   "mimetype": "text/x-python",
   "name": "python",
   "nbconvert_exporter": "python",
   "pygments_lexer": "ipython3",
   "version": "3.10.12"
  }
 },
 "nbformat": 4,
 "nbformat_minor": 4
}
