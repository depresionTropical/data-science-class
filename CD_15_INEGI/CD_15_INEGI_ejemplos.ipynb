{
 "cells": [
  {
   "cell_type": "markdown",
   "metadata": {},
   "source": [
    "<!--Información del curso-->\n",
    "<img align=\"left\" style=\"padding-right:10px;\" src=\"figuras/logo_cd.png\">"
   ]
  },
  {
   "cell_type": "markdown",
   "metadata": {},
   "source": [
    "<center><h1 style=\"font-size:2em;color:#2467C0\"> Datos del INEGI  </h1></center>\n",
    "<br>\n",
    "<table>\n",
    "<col width=\"550\">\n",
    "<col width=\"450\">\n",
    "<tr>\n",
    "<td><img src=\"figuras/inegi.png\" align=\"middle\" style=\"width:500\"/></td>\n",
    "<td>\n",
    "    \n",
    "El **INEGI** es un organismo público autónomo responsable de normar y coordinar el Sistema Nacional de Información Estadística y Geográfica, así como de captar y difundir información de México en cuanto al territorio, los recursos, la población y economía, que permita dar a conocer las características de nuestro país y ayudar a la toma de decisiones.\n",
    "    \n",
    "</td>\n",
    "</tr>\n",
    "</table>"
   ]
  },
  {
   "cell_type": "markdown",
   "metadata": {},
   "source": [
    "# API del Banco de Indicadores"
   ]
  },
  {
   "cell_type": "markdown",
   "metadata": {},
   "source": [
    "La API de Indicadores del INEGI permite consultar los datos y metadatos de los indicadores disponibles a nivel nacional, por entidad federativa y municipio. Puede utilizar la API para crear aplicaciones que muestren la información directamente de las bases de datos del INEGI en el preciso momento en que se actualiza.\n",
    "[[1]](https://www.inegi.org.mx/servicios/api_indicadores.html) "
   ]
  },
  {
   "cell_type": "markdown",
   "metadata": {},
   "source": [
    "<img src=\"figuras/Inegi_token.jpg\" align=\"middle\" style=\"width:1000px\"/>\n"
   ]
  },
  {
   "cell_type": "markdown",
   "metadata": {},
   "source": [
    "#  Historico de Población en México"
   ]
  },
  {
   "cell_type": "markdown",
   "metadata": {},
   "source": [
    "<div class=\"alert alert-success\">\n",
    "1. Graficar el crecimiento de la población total, así como el de hombres y mujeres\n",
    "</div>"
   ]
  },
  {
   "cell_type": "code",
   "execution_count": 1,
   "metadata": {},
   "outputs": [],
   "source": [
    "import matplotlib.pyplot as plt\n",
    "import numpy as np\n",
    "import pandas as pd\n",
    "import requests\n",
    "import json                      "
   ]
  },
  {
   "cell_type": "code",
   "execution_count": 5,
   "metadata": {},
   "outputs": [
    {
     "data": {
      "text/plain": [
       "200"
      ]
     },
     "execution_count": 5,
     "metadata": {},
     "output_type": "execute_result"
    }
   ],
   "source": [
    "#Llamado al API\n",
    "url='https://www.inegi.org.mx/app/api/indicadores/desarrolladores/jsonxml/INDICATOR/1002000001/es/0700/false/BISE/2.0/be24ce9d-c1fd-a823-14b5-cbd86b6418a1?type=json'\n",
    "respuesta = requests.get(url)\n",
    "respuesta.status_code"
   ]
  },
  {
   "cell_type": "code",
   "execution_count": 6,
   "metadata": {},
   "outputs": [
    {
     "name": "stdout",
     "output_type": "stream",
     "text": [
      "{'Header': {'Name': 'Datos compactos BISE', 'Email': 'atencion.usuarios@inegi.org.mx'}, 'Series': [{'INDICADOR': '1002000001', 'FREQ': '7', 'TOPIC': '123', 'UNIT': '188', 'UNIT_MULT': '', 'NOTE': '1398', 'SOURCE': '2,3,343,487,781,1668,1669,1670,1671,1672,1677,1678,1679,1714,3001', 'LASTUPDATE': '21/10/2024 12:00:00 a. m.', 'STATUS': None, 'OBSERVATIONS': [{'TIME_PERIOD': '1910', 'OBS_VALUE': '15160369.00000000000000000000', 'OBS_EXCEPTION': None, 'OBS_STATUS': '3', 'OBS_SOURCE': '', 'OBS_NOTE': '', 'COBER_GEO': '0700'}, {'TIME_PERIOD': '1921', 'OBS_VALUE': '14334780.00000000000000000000', 'OBS_EXCEPTION': None, 'OBS_STATUS': '3', 'OBS_SOURCE': '', 'OBS_NOTE': '', 'COBER_GEO': '0700'}, {'TIME_PERIOD': '1930', 'OBS_VALUE': '16552722.00000000000000000000', 'OBS_EXCEPTION': None, 'OBS_STATUS': '3', 'OBS_SOURCE': '', 'OBS_NOTE': '', 'COBER_GEO': '0700'}, {'TIME_PERIOD': '1940', 'OBS_VALUE': '19653552.00000000000000000000', 'OBS_EXCEPTION': None, 'OBS_STATUS': '3', 'OBS_SOURCE': '', 'OBS_NOTE': '', 'COBER_GEO': '0700'}, {'TIME_PERIOD': '1950', 'OBS_VALUE': '25791017.00000000000000000000', 'OBS_EXCEPTION': None, 'OBS_STATUS': '3', 'OBS_SOURCE': '', 'OBS_NOTE': '', 'COBER_GEO': '0700'}, {'TIME_PERIOD': '1960', 'OBS_VALUE': '34923129.00000000000000000000', 'OBS_EXCEPTION': None, 'OBS_STATUS': '3', 'OBS_SOURCE': '', 'OBS_NOTE': '', 'COBER_GEO': '0700'}, {'TIME_PERIOD': '1970', 'OBS_VALUE': '48225238.00000000000000000000', 'OBS_EXCEPTION': None, 'OBS_STATUS': '3', 'OBS_SOURCE': '', 'OBS_NOTE': '', 'COBER_GEO': '0700'}, {'TIME_PERIOD': '1980', 'OBS_VALUE': '66846833.00000000000000000000', 'OBS_EXCEPTION': None, 'OBS_STATUS': '3', 'OBS_SOURCE': '', 'OBS_NOTE': '', 'COBER_GEO': '0700'}, {'TIME_PERIOD': '1990', 'OBS_VALUE': '81249645.00000000000000000000', 'OBS_EXCEPTION': None, 'OBS_STATUS': '3', 'OBS_SOURCE': '', 'OBS_NOTE': '', 'COBER_GEO': '0700'}, {'TIME_PERIOD': '1995', 'OBS_VALUE': '91158290.00000000000000000000', 'OBS_EXCEPTION': None, 'OBS_STATUS': '3', 'OBS_SOURCE': '', 'OBS_NOTE': '422,425', 'COBER_GEO': '0700'}, {'TIME_PERIOD': '2000', 'OBS_VALUE': '97483412.00000000000000000000', 'OBS_EXCEPTION': None, 'OBS_STATUS': '3', 'OBS_SOURCE': '', 'OBS_NOTE': '9,425', 'COBER_GEO': '0700'}, {'TIME_PERIOD': '2005', 'OBS_VALUE': '103263388.00000000000000000000', 'OBS_EXCEPTION': None, 'OBS_STATUS': '3', 'OBS_SOURCE': '', 'OBS_NOTE': '49,425', 'COBER_GEO': '0700'}, {'TIME_PERIOD': '2010', 'OBS_VALUE': '112336538.00000000000000000000', 'OBS_EXCEPTION': None, 'OBS_STATUS': '3', 'OBS_SOURCE': '', 'OBS_NOTE': '115,425', 'COBER_GEO': '0700'}, {'TIME_PERIOD': '2015', 'OBS_VALUE': '119938473.00000000000000000000', 'OBS_EXCEPTION': None, 'OBS_STATUS': '3', 'OBS_SOURCE': '', 'OBS_NOTE': '8230', 'COBER_GEO': '0700'}, {'TIME_PERIOD': '2020', 'OBS_VALUE': '126014024.00000000000000000000', 'OBS_EXCEPTION': None, 'OBS_STATUS': '3', 'OBS_SOURCE': '', 'OBS_NOTE': '', 'COBER_GEO': '0700'}]}]}\n"
     ]
    }
   ],
   "source": [
    "#url='https://www.inegi.org.mx/app/api/indicadores/desarrolladores/jsonxml/INDICATOR/1002000001/es/0700/false/BISE/2.0/[TOKEN]?type=json'\n",
    "respuesta = requests.get(url)\n",
    "if respuesta.status_code == 200:\n",
    "    # print(respuesta.content)\n",
    "    contenido = json.loads(respuesta.content)\n",
    "    print(contenido)"
   ]
  },
  {
   "cell_type": "code",
   "execution_count": 29,
   "metadata": {},
   "outputs": [
    {
     "data": {
      "text/plain": [
       "{'TIME_PERIOD': '1910',\n",
       " 'OBS_VALUE': '15160369.00000000000000000000',\n",
       " 'OBS_EXCEPTION': None,\n",
       " 'OBS_STATUS': '3',\n",
       " 'OBS_SOURCE': '',\n",
       " 'OBS_NOTE': '',\n",
       " 'COBER_GEO': '0700'}"
      ]
     },
     "execution_count": 29,
     "metadata": {},
     "output_type": "execute_result"
    }
   ],
   "source": [
    "contenido['Series'][0]['OBSERVATIONS'][0]"
   ]
  },
  {
   "cell_type": "code",
   "execution_count": 35,
   "metadata": {},
   "outputs": [],
   "source": [
    "poblacion_total = [int(element['OBS_VALUE'].split('.')[0]) for element in contenido['Series'][0]['OBSERVATIONS']]\n",
    "periodos = [int(element['TIME_PERIOD']) for element in contenido['Series'][0]['OBSERVATIONS']]"
   ]
  },
  {
   "cell_type": "code",
   "execution_count": 36,
   "metadata": {},
   "outputs": [
    {
     "data": {
      "text/plain": [
       "[15160369,\n",
       " 14334780,\n",
       " 16552722,\n",
       " 19653552,\n",
       " 25791017,\n",
       " 34923129,\n",
       " 48225238,\n",
       " 66846833,\n",
       " 81249645,\n",
       " 91158290,\n",
       " 97483412,\n",
       " 103263388,\n",
       " 112336538,\n",
       " 119938473,\n",
       " 126014024]"
      ]
     },
     "execution_count": 36,
     "metadata": {},
     "output_type": "execute_result"
    }
   ],
   "source": [
    "poblacion_total"
   ]
  },
  {
   "cell_type": "code",
   "execution_count": 37,
   "metadata": {},
   "outputs": [
    {
     "data": {
      "text/plain": [
       "[1910,\n",
       " 1921,\n",
       " 1930,\n",
       " 1940,\n",
       " 1950,\n",
       " 1960,\n",
       " 1970,\n",
       " 1980,\n",
       " 1990,\n",
       " 1995,\n",
       " 2000,\n",
       " 2005,\n",
       " 2010,\n",
       " 2015,\n",
       " 2020]"
      ]
     },
     "execution_count": 37,
     "metadata": {},
     "output_type": "execute_result"
    }
   ],
   "source": [
    "periodos"
   ]
  },
  {
   "cell_type": "code",
   "execution_count": 40,
   "metadata": {},
   "outputs": [
    {
     "data": {
      "text/plain": [
       "[<matplotlib.lines.Line2D at 0x74f6df5ddf00>]"
      ]
     },
     "execution_count": 40,
     "metadata": {},
     "output_type": "execute_result"
    },
    {
     "data": {
      "image/png": "[encoded data removed]",
      "text/plain": [
       "<Figure size 1000x500 with 1 Axes>"
      ]
     },
     "metadata": {},
     "output_type": "display_data"
    }
   ],
   "source": [
    "plt.figure(figsize=(10,5))\n",
    "plt.plot(periodos, poblacion_total,'ko--')"
   ]
  },
  {
   "cell_type": "code",
   "execution_count": 41,
   "metadata": {},
   "outputs": [
    {
     "name": "stdout",
     "output_type": "stream",
     "text": [
      "{'Header': {'Name': 'Datos compactos BISE', 'Email': 'atencion.usuarios@inegi.org.mx'}, 'Series': [{'INDICADOR': '1002000001', 'FREQ': '7', 'TOPIC': '123', 'UNIT': '188', 'UNIT_MULT': '', 'NOTE': '1398', 'SOURCE': '2,3,343,487,781,1668,1669,1670,1671,1672,1677,1678,1679,1714,3001', 'LASTUPDATE': '21/10/2024 12:00:00 a. m.', 'STATUS': None, 'OBSERVATIONS': [{'TIME_PERIOD': '2020', 'OBS_VALUE': '1425607.00000000000000000000', 'OBS_EXCEPTION': None, 'OBS_STATUS': '3', 'OBS_SOURCE': '', 'OBS_NOTE': '', 'COBER_GEO': '07000001'}]}]}\n"
     ]
    }
   ],
   "source": [
    "url= 'https://www.inegi.org.mx/app/api/indicadores/desarrolladores/jsonxml/INDICATOR/1002000001/es/07000001/true/BISE/2.0/be24ce9d-c1fd-a823-14b5-cbd86b6418a1?type=json'\n",
    "# url='https://www.inegi.org.mx/app/api/indicadores/desarrolladores/jsonxml/INDICATOR/1002000001/es/0700/false/BISE/2.0/be24ce9d-c1fd-a823-14b5-cbd86b6418a1?type=json'\n",
    "respuesta = requests.get(url)\n",
    "if respuesta.status_code == 200:\n",
    "    # print(respuesta.content)\n",
    "    contenido = json.loads(respuesta.content)\n",
    "    print(contenido)"
   ]
  },
  {
   "cell_type": "code",
   "execution_count": 45,
   "metadata": {},
   "outputs": [
    {
     "name": "stdout",
     "output_type": "stream",
     "text": [
      "['1425607.00000000000000000000', '3769020.00000000000000000000', '798447.00000000000000000000', '928363.00000000000000000000', '3146771.00000000000000000000', '731391.00000000000000000000', '5543828.00000000000000000000', '3741869.00000000000000000000', '9209944.00000000000000000000', '1832650.00000000000000000000', '6166934.00000000000000000000', '3540685.00000000000000000000', '3082841.00000000000000000000', '8348151.00000000000000000000', '16992418.00000000000000000000', '4748846.00000000000000000000', '1971520.00000000000000000000', '1235456.00000000000000000000', '5784442.00000000000000000000', '4132148.00000000000000000000', '6583278.00000000000000000000', '2368467.00000000000000000000', '1857985.00000000000000000000', '2822255.00000000000000000000', '3026943.00000000000000000000', '2944840.00000000000000000000', '2402598.00000000000000000000', '3527735.00000000000000000000', '1342977.00000000000000000000', '8062579.00000000000000000000', '2320898.00000000000000000000', '1622138.00000000000000000000']\n"
     ]
    }
   ],
   "source": [
    "poblacion_estados = []\n",
    "for estado in range(7000001,7000033):\n",
    "  url= f'https://www.inegi.org.mx/app/api/indicadores/desarrolladores/jsonxml/INDICATOR/1002000001/es/0{estado}/true/BISE/2.0/be24ce9d-c1fd-a823-14b5-cbd86b6418a1?type=json'\n",
    "  # url='https://www.inegi.org.mx/app/api/indicadores/desarrolladores/jsonxml/INDICATOR/1002000001/es/0700/false/BISE/2.0/be24ce9d-c1fd-a823-14b5-cbd86b6418a1?type=json'\n",
    "  respuesta = requests.get(url)\n",
    "  if respuesta.status_code == 200:\n",
    "      # print(respuesta.content)\n",
    "      contenido = json.loads(respuesta.content)\n",
    "      poblacion_estados.append(contenido['Series'][0]['OBSERVATIONS'][0]['OBS_VALUE'])\n",
    "\n",
    "print(poblacion_estados)\n",
    "\n",
    "# poblacion_estados = [int(float(poblacion)) for poblacion in poblacion_estados]\n"
   ]
  },
  {
   "cell_type": "code",
   "execution_count": 46,
   "metadata": {},
   "outputs": [
    {
     "data": {
      "text/plain": [
       "[1425607,\n",
       " 3769020,\n",
       " 798447,\n",
       " 928363,\n",
       " 3146771,\n",
       " 731391,\n",
       " 5543828,\n",
       " 3741869,\n",
       " 9209944,\n",
       " 1832650,\n",
       " 6166934,\n",
       " 3540685,\n",
       " 3082841,\n",
       " 8348151,\n",
       " 16992418,\n",
       " 4748846,\n",
       " 1971520,\n",
       " 1235456,\n",
       " 5784442,\n",
       " 4132148,\n",
       " 6583278,\n",
       " 2368467,\n",
       " 1857985,\n",
       " 2822255,\n",
       " 3026943,\n",
       " 2944840,\n",
       " 2402598,\n",
       " 3527735,\n",
       " 1342977,\n",
       " 8062579,\n",
       " 2320898,\n",
       " 1622138]"
      ]
     },
     "execution_count": 46,
     "metadata": {},
     "output_type": "execute_result"
    }
   ],
   "source": [
    "poblacion_estados = [int(float(poblacion)) for poblacion in poblacion_estados]\n",
    "poblacion_estados"
   ]
  },
  {
   "cell_type": "code",
   "execution_count": null,
   "metadata": {},
   "outputs": [],
   "source": []
  },
  {
   "cell_type": "markdown",
   "metadata": {},
   "source": [
    "<div class=\"alert alert-success\">\n",
    "2. Mostrar en un mapa  el porcentaje de población de 12 años y más económicamente activa por estados. \n",
    "Utilizar alguna gama de color que a continuación se presenta.\n",
    "\n",
    "</div>"
   ]
  },
  {
   "cell_type": "markdown",
   "metadata": {},
   "source": [
    "<img align=\"left\" style=\"padding-right:10px;\" src=\"figuras/colores.png\">\n"
   ]
  },
  {
   "cell_type": "code",
   "execution_count": null,
   "metadata": {},
   "outputs": [],
   "source": []
  },
  {
   "cell_type": "code",
   "execution_count": null,
   "metadata": {},
   "outputs": [],
   "source": []
  },
  {
   "cell_type": "code",
   "execution_count": null,
   "metadata": {},
   "outputs": [],
   "source": []
  },
  {
   "cell_type": "code",
   "execution_count": null,
   "metadata": {},
   "outputs": [],
   "source": []
  }
 ],
 "metadata": {
  "kernelspec": {
   "display_name": ".env",
   "language": "python",
   "name": "python3"
  },
  "language_info": {
   "codemirror_mode": {
    "name": "ipython",
    "version": 3
   },
   "file_extension": ".py",
   "mimetype": "text/x-python",
   "name": "python",
   "nbconvert_exporter": "python",
   "pygments_lexer": "ipython3",
   "version": "3.10.12"
  }
 },
 "nbformat": 4,
 "nbformat_minor": 4
}
