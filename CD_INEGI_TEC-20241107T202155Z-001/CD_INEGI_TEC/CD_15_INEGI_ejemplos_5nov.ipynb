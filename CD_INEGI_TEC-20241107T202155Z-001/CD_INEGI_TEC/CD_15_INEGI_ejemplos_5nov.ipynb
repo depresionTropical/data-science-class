{
 "cells": [
  {
   "cell_type": "markdown",
   "metadata": {},
   "source": [
    "<!--Información del curso-->\n",
    "<img align=\"left\" style=\"padding-right:10px;\" src=\"figuras/logo_cd.png\">"
   ]
  },
  {
   "cell_type": "markdown",
   "metadata": {},
   "source": [
    "<center><h1 style=\"font-size:2em;color:#2467C0\"> Datos del INEGI  </h1></center>\n",
    "<br>\n",
    "<table>\n",
    "<col width=\"550\">\n",
    "<col width=\"450\">\n",
    "<tr>\n",
    "<td><img src=\"figuras/inegi.png\" align=\"middle\" style=\"width:500\"/></td>\n",
    "<td>\n",
    "    \n",
    "El **INEGI** es un organismo público autónomo responsable de normar y coordinar el Sistema Nacional de Información Estadística y Geográfica, así como de captar y difundir información de México en cuanto al territorio, los recursos, la población y economía, que permita dar a conocer las características de nuestro país y ayudar a la toma de decisiones.\n",
    "    \n",
    "</td>\n",
    "</tr>\n",
    "</table>"
   ]
  },
  {
   "cell_type": "markdown",
   "metadata": {},
   "source": [
    "# API del Banco de Indicadores"
   ]
  },
  {
   "cell_type": "markdown",
   "metadata": {},
   "source": [
    "La API de Indicadores del INEGI permite consultar los datos y metadatos de los indicadores disponibles a nivel nacional, por entidad federativa y municipio. Puede utilizar la API para crear aplicaciones que muestren la información directamente de las bases de datos del INEGI en el preciso momento en que se actualiza.\n",
    "[[1]](https://www.inegi.org.mx/servicios/api_indicadores.html) "
   ]
  },
  {
   "cell_type": "markdown",
   "metadata": {},
   "source": [
    "<img src=\"figuras/Inegi_token.jpg\" align=\"middle\" style=\"width:1000px\"/>\n"
   ]
  },
  {
   "cell_type": "markdown",
   "metadata": {},
   "source": [
    "#  Historico de Población en México"
   ]
  },
  {
   "cell_type": "markdown",
   "metadata": {},
   "source": [
    "<div class=\"alert alert-success\">\n",
    "1. Graficar el crecimiento de la población total, así como el de hombres y mujeres\n",
    "</div>"
   ]
  },
  {
   "cell_type": "code",
   "execution_count": 1,
   "metadata": {},
   "outputs": [],
   "source": [
    "import matplotlib.pyplot as plt\n",
    "import numpy as np\n",
    "import pandas as pd\n",
    "import requests\n",
    "import json                      "
   ]
  },
  {
   "cell_type": "code",
   "execution_count": 2,
   "metadata": {},
   "outputs": [
    {
     "data": {
      "text/plain": [
       "200"
      ]
     },
     "execution_count": 2,
     "metadata": {},
     "output_type": "execute_result"
    }
   ],
   "source": [
    "#Llamado al API\n",
    "#     https://www.inegi.org.mx/app/api/indicadores/desarrolladores/jsonxml/INDICATOR/1002000001/es/0700/false/BISE/2.0/[Aquí va tu Token]?type=json\n",
    "url='https://www.inegi.org.mx/app/api/indicadores/desarrolladores/jsonxml/INDICATOR/1002000001/es/0700/false/BISE/2.0/4f7019f8-60f7-2212-a6ed-db6ca9251086?type=json'\n",
    "respuesta = requests.get(url)\n",
    "respuesta.status_code"
   ]
  },
  {
   "cell_type": "code",
   "execution_count": 3,
   "metadata": {},
   "outputs": [
    {
     "data": {
      "text/plain": [
       "'1910'"
      ]
     },
     "execution_count": 3,
     "metadata": {},
     "output_type": "execute_result"
    }
   ],
   "source": [
    "url='https://www.inegi.org.mx/app/api/indicadores/desarrolladores/jsonxml/INDICATOR/1002000001/es/0700/false/BISE/2.0/4f7019f8-60f7-2212-a6ed-db6ca9251086?type=json'\n",
    "respuesta = requests.get(url)\n",
    "if respuesta.status_code == 200:\n",
    "    #print(respuesta.content)\n",
    "    contenido = json.loads(respuesta.content)\n",
    "    #print(contenido)\n",
    "\n",
    "contenido['Series'][0]['OBSERVATIONS'][0]['TIME_PERIOD']"
   ]
  },
  {
   "cell_type": "code",
   "execution_count": 4,
   "metadata": {},
   "outputs": [],
   "source": [
    "poblacion_total=[]\n",
    "periodos=[]\n",
    "poblacion_total = [int(element['OBS_VALUE'].split('.')[0]) for element in contenido['Series'][0]['OBSERVATIONS']]\n",
    "periodos = [int(element['TIME_PERIOD']) for element in contenido['Series'][0]['OBSERVATIONS']]"
   ]
  },
  {
   "cell_type": "code",
   "execution_count": 5,
   "metadata": {},
   "outputs": [
    {
     "data": {
      "text/plain": [
       "[<matplotlib.lines.Line2D at 0x1d6a9811f00>]"
      ]
     },
     "execution_count": 5,
     "metadata": {},
     "output_type": "execute_result"
    },
    {
     "data": {
      "image/png": "[encoded data removed]",
      "text/plain": [
       "<Figure size 800x400 with 1 Axes>"
      ]
     },
     "metadata": {},
     "output_type": "display_data"
    }
   ],
   "source": [
    "plt.figure(figsize=(8,4))\n",
    "plt.plot( periodos , poblacion_total, 'ko--' )"
   ]
  },
  {
   "cell_type": "code",
   "execution_count": 7,
   "metadata": {},
   "outputs": [
    {
     "data": {
      "text/plain": [
       "[1425607,\n",
       " 3769020,\n",
       " 798447,\n",
       " 928363,\n",
       " 3146771,\n",
       " 731391,\n",
       " 5543828,\n",
       " 3741869,\n",
       " 9209944,\n",
       " 1832650,\n",
       " 6166934,\n",
       " 3540685,\n",
       " 3082841,\n",
       " 8348151,\n",
       " 16992418,\n",
       " 4748846,\n",
       " 1971520,\n",
       " 1235456,\n",
       " 5784442,\n",
       " 4132148,\n",
       " 6583278,\n",
       " 2368467,\n",
       " 1857985,\n",
       " 2822255,\n",
       " 3026943,\n",
       " 2944840,\n",
       " 2402598,\n",
       " 3527735,\n",
       " 1342977,\n",
       " 8062579,\n",
       " 2320898,\n",
       " 1622138]"
      ]
     },
     "execution_count": 7,
     "metadata": {},
     "output_type": "execute_result"
    }
   ],
   "source": [
    "#     https://www.inegi.org.mx/app/api/indicadores/desarrolladores/jsonxml/INDICATOR/1002000001/es/07000002/true/BISE/2.0/[Aquí va tu Token]?type=json\n",
    "poblacion_estados = []\n",
    "for estado in range(7000001,7000033):\n",
    "  url= f'https://www.inegi.org.mx/app/api/indicadores/desarrolladores/jsonxml/INDICATOR/1002000001/es/0{estado}/true/BISE/2.0/4f7019f8-60f7-2212-a6ed-db6ca9251086?type=json'\n",
    "  # url='https://www.inegi.org.mx/app/api/indicadores/desarrolladores/jsonxml/INDICATOR/1002000001/es/0700/false/BISE/2.0/be24ce9d-c1fd-a823-14b5-cbd86b6418a1?type=json'\n",
    "  respuesta = requests.get(url)\n",
    "  if respuesta.status_code == 200:\n",
    "      #print(respuesta.content)\n",
    "      contenido = json.loads(respuesta.content)\n",
    "      poblacion_estados.append(contenido['Series'][0]['OBSERVATIONS'][0]['OBS_VALUE'])\n",
    "poblacion_estados = [int(float(poblacion)) for poblacion in poblacion_estados]\n",
    "poblacion_estados"
   ]
  },
  {
   "cell_type": "code",
   "execution_count": null,
   "metadata": {},
   "outputs": [],
   "source": []
  },
  {
   "cell_type": "code",
   "execution_count": null,
   "metadata": {},
   "outputs": [],
   "source": []
  },
  {
   "cell_type": "code",
   "execution_count": null,
   "metadata": {},
   "outputs": [],
   "source": []
  },
  {
   "cell_type": "code",
   "execution_count": null,
   "metadata": {},
   "outputs": [],
   "source": []
  },
  {
   "cell_type": "code",
   "execution_count": null,
   "metadata": {},
   "outputs": [],
   "source": []
  },
  {
   "cell_type": "markdown",
   "metadata": {},
   "source": [
    "<div class=\"alert alert-success\">\n",
    "2. Mostrar en un mapa  el porcentaje de población de 12 años y más económicamente activa por estados. \n",
    "Utilizar alguna gama de color que a continuación se presenta.\n",
    "\n",
    "</div>"
   ]
  },
  {
   "cell_type": "markdown",
   "metadata": {},
   "source": [
    "<img align=\"left\" style=\"padding-right:10px;\" src=\"figuras/colores.png\">\n"
   ]
  },
  {
   "cell_type": "code",
   "execution_count": null,
   "metadata": {},
   "outputs": [],
   "source": []
  },
  {
   "cell_type": "code",
   "execution_count": null,
   "metadata": {},
   "outputs": [],
   "source": []
  },
  {
   "cell_type": "code",
   "execution_count": null,
   "metadata": {},
   "outputs": [],
   "source": []
  },
  {
   "cell_type": "code",
   "execution_count": null,
   "metadata": {},
   "outputs": [],
   "source": []
  }
 ],
 "metadata": {
  "kernelspec": {
   "display_name": "Python 3 (ipykernel)",
   "language": "python",
   "name": "python3"
  },
  "language_info": {
   "codemirror_mode": {
    "name": "ipython",
    "version": 3
   },
   "file_extension": ".py",
   "mimetype": "text/x-python",
   "name": "python",
   "nbconvert_exporter": "python",
   "pygments_lexer": "ipython3",
   "version": "3.10.11"
  }
 },
 "nbformat": 4,
 "nbformat_minor": 4
}
