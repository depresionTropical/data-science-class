{
 "cells": [
  {
   "cell_type": "markdown",
   "metadata": {},
   "source": [
    "<center><h1 style=\"font-size:2em;color:#2467C0\"> Datos del INEGI - Proyecto  </h1></center>\n",
    "<br>\n",
    "<table>\n",
    "<col width=\"550\">\n",
    "<col width=\"450\">\n",
    "<tr>\n",
    "<td><img src=\"figuras/inegi.png\" align=\"middle\" style=\"width:500\"/></td>\n",
    "<td>\n",
    "    \n",
    "El **INEGI** es un organismo público autónomo responsable de normar y coordinar el Sistema Nacional de Información Estadística y Geográfica, así como de captar y difundir información de México en cuanto al territorio, los recursos, la población y economía, que permita dar a conocer las características de nuestro país y ayudar a la toma de decisiones.\n",
    "    \n",
    "</td>\n",
    "</tr>\n",
    "</table>"
   ]
  },
  {
   "cell_type": "markdown",
   "metadata": {},
   "source": [
    "# API del Banco de indicadores"
   ]
  },
  {
   "cell_type": "markdown",
   "metadata": {},
   "source": [
    "La API de Indicadores del INEGI permite consultar los datos y metadatos de los indicadores disponibles a nivel nacional, por entidad federativa y municipio. Puede utilizar la API para crear aplicaciones que muestren la información directamente de las bases de datos del INEGI en el preciso momento en que se actualiza.\n",
    "[[1]](https://www.inegi.org.mx/servicios/api_indicadores.html) "
   ]
  },
  {
   "cell_type": "markdown",
   "metadata": {},
   "source": [
    "<img src=\"figuras/Inegi_token.jpg\" align=\"middle\" style=\"width:1000px\"/>\n"
   ]
  },
  {
   "cell_type": "markdown",
   "metadata": {},
   "source": [
    "## Consultas INEGI"
   ]
  },
  {
   "cell_type": "markdown",
   "metadata": {},
   "source": [
    "A continuación se mostrarán cuatro gráficas y un mapa con información obtenida del INEGI con el método mencionado anteriormente."
   ]
  },
  {
   "cell_type": "markdown",
   "metadata": {},
   "source": [
    "Importamos las librerías"
   ]
  },
  {
   "cell_type": "code",
   "execution_count": null,
   "metadata": {},
   "outputs": [],
   "source": [
    "import matplotlib.pyplot as plt\n",
    "import seaborn as sns\n",
    "import folium\n",
    "import numpy as np\n",
    "import pandas as pd\n",
    "import requests\n",
    "import json"
   ]
  },
  {
   "cell_type": "markdown",
   "metadata": {},
   "source": [
    "### Analfabetismo en México"
   ]
  },
  {
   "cell_type": "markdown",
   "metadata": {},
   "source": [
    "El URL siguiente corresponde a la información del *porcentaje total de analfabetas en México de forma histórica*."
   ]
  },
  {
   "cell_type": "code",
   "execution_count": null,
   "metadata": {},
   "outputs": [],
   "source": [
    "url = 'https://www.inegi.org.mx/app/api/indicadores/desarrolladores/jsonxml/INDICATOR/3108001001/es/0700/false/BISE/2.0/2df7d990-4bbc-c1bd-f33e-2da2413413df?type=json'\n",
    "respuesta = requests.get(url)\n",
    "if respuesta.status_code == 200:\n",
    "    contenido = json.loads(respuesta.content)\n",
    "\n",
    "contenido"
   ]
  },
  {
   "cell_type": "markdown",
   "metadata": {},
   "source": [
    "Para acceder a la información se debe ejecutar éste código repetidas veces."
   ]
  },
  {
   "cell_type": "code",
   "execution_count": null,
   "metadata": {},
   "outputs": [],
   "source": [
    "contenido['Series'][0]['OBSERVATIONS']"
   ]
  },
  {
   "cell_type": "markdown",
   "metadata": {},
   "source": [
    "El código para acceder de forma directa al conjunto de datos es el siguiente:"
   ]
  },
  {
   "cell_type": "code",
   "execution_count": null,
   "metadata": {},
   "outputs": [],
   "source": [
    "url = 'https://www.inegi.org.mx/app/api/indicadores/desarrolladores/jsonxml/INDICATOR/3108001001/es/0700/false/BISE/2.0/2df7d990-4bbc-c1bd-f33e-2da2413413df?type=json'\n",
    "respuesta = requests.get(url)\n",
    "if respuesta.status_code == 200:\n",
    "    contenido = json.loads(respuesta.content)\n",
    "    # Cargar el contenido a la variable 'datos'\n",
    "    datos = contenido['Series'][0]['OBSERVATIONS']\n",
    "    pob_analfabeta = []\n",
    "    periodo = []\n",
    "    for dato in datos:\n",
    "        pob_analfabeta.append(round(float(dato['OBS_VALUE']),2))\n",
    "        periodo.append(str(dato['TIME_PERIOD']))\n",
    "    \n",
    "print('Lista del porcentaje de la población analfabeta en México: \\n', pob_analfabeta)\n",
    "print('Periodo: \\n', periodo)\n"
   ]
  },
  {
   "cell_type": "markdown",
   "metadata": {},
   "source": [
    "Con los datos anteriores se puede crear un gráfico."
   ]
  },
  {
   "cell_type": "code",
   "execution_count": null,
   "metadata": {},
   "outputs": [],
   "source": [
    "# Gráfico con estilo MATLAB\n",
    "plt.figure(figsize=(10,4))\n",
    "plt.title('Porcentaje de analfabetismo en México')\n",
    "plt.bar(periodo, pob_analfabeta, facecolor = 'yellowgreen', width = 0.6)\n",
    "plt.xlabel('Periodo')\n",
    "plt.ylabel('Porcentaje de la población')\n",
    "plt.show()"
   ]
  },
  {
   "cell_type": "markdown",
   "metadata": {},
   "source": [
    "El siguiente gráfico consiste en el porcentaje de población analfabeta dividida por sexo."
   ]
  },
  {
   "cell_type": "code",
   "execution_count": null,
   "metadata": {},
   "outputs": [],
   "source": [
    "# Porcentaje de analfabetas mujeres\n",
    "url = 'https://www.inegi.org.mx/app/api/indicadores/desarrolladores/jsonxml/INDICATOR/3108001003/es/0700/false/BISE/2.0/2df7d990-4bbc-c1bd-f33e-2da2413413df?type=json'\n",
    "respuesta = requests.get(url)\n",
    "if respuesta.status_code == 200:\n",
    "    contenido = json.loads(respuesta.content)\n",
    "    # Cargar el contenido a la variable 'datos'\n",
    "    datos = contenido['Series'][0]['OBSERVATIONS']\n",
    "    pob_analfabeta_muj = []\n",
    "    periodo = []\n",
    "    for dato in datos:\n",
    "        pob_analfabeta_muj.append(round(float(dato['OBS_VALUE']),2))\n",
    "        periodo.append(str(dato['TIME_PERIOD']))\n",
    "    \n",
    "print('Lista del Porcentaje de analfabetas mujeres en México: \\n', pob_analfabeta_muj)\n",
    "print('Periodo: \\n', periodo)"
   ]
  },
  {
   "cell_type": "code",
   "execution_count": null,
   "metadata": {},
   "outputs": [],
   "source": [
    "# Porcentaje de analfabetas hombres\n",
    "url = 'https://www.inegi.org.mx/app/api/indicadores/desarrolladores/jsonxml/INDICATOR/3108001002/es/0700/false/BISE/2.0/2df7d990-4bbc-c1bd-f33e-2da2413413df?type=json'\n",
    "respuesta = requests.get(url)\n",
    "if respuesta.status_code == 200:\n",
    "    contenido = json.loads(respuesta.content)\n",
    "    # Cargar el contenido a la variable 'datos'\n",
    "    datos = contenido['Series'][0]['OBSERVATIONS']\n",
    "    pob_analfabeta_hom = []\n",
    "    periodo = []\n",
    "    for dato in datos:\n",
    "        pob_analfabeta_hom.append(round(float(dato['OBS_VALUE']),2))\n",
    "        periodo.append(str(dato['TIME_PERIOD']))\n",
    "    \n",
    "print('Lista del Porcentaje de analfabetas hombres en México: \\n', pob_analfabeta_hom)\n",
    "print('Periodo: \\n', periodo)"
   ]
  },
  {
   "cell_type": "code",
   "execution_count": null,
   "metadata": {},
   "outputs": [],
   "source": [
    "# DataFrame del analfabetismo en Méxicos\n",
    "df_analfabetismo = pd.DataFrame()\n",
    "df_analfabetismo['periodo'] = periodo\n",
    "df_analfabetismo['porcentaje_mujeres'] = pob_analfabeta_muj\n",
    "df_analfabetismo['porcentaje_hombres'] = pob_analfabeta_hom\n",
    "\n",
    "df_analfabetismo"
   ]
  },
  {
   "cell_type": "code",
   "execution_count": null,
   "metadata": {},
   "outputs": [],
   "source": [
    " # Definiendo posiciones auxiliares de los ejes\n",
    "x_vals = np.arange(len(periodo[:]))\n",
    "ancho = 0.25\n",
    "\n",
    " # Estilo MATLAB\n",
    "plt.figure(figsize=(10,4))\n",
    "\n",
    "plt.bar(x_vals - ancho/2, df_analfabetismo['porcentaje_mujeres'], width= ancho, label='Mujeres')\n",
    "plt.bar(x_vals + ancho/2, df_analfabetismo['porcentaje_hombres'], width=ancho, label='Hombres')\n",
    "\n",
    "plt.xticks(x_vals, periodo)\n",
    "plt.title('Analfabetismo en México')\n",
    "plt.xlabel('Periodo')\n",
    "plt.ylabel('Porcentaje de la población')\n",
    "plt.legend()\n",
    "\n",
    "plt.show()"
   ]
  },
  {
   "cell_type": "markdown",
   "metadata": {},
   "source": [
    "### Porcentaje de la población analfabeta de 15 años y más por estado"
   ]
  },
  {
   "cell_type": "markdown",
   "metadata": {},
   "source": [
    "Cargamos el DataFrame con la clave de la entidad federativa y su abreviación"
   ]
  },
  {
   "cell_type": "code",
   "execution_count": null,
   "metadata": {},
   "outputs": [],
   "source": [
    "df_estados = pd.read_csv('datos/Catalogo_entidades.csv')[:32]\n",
    "df_estados.head(8)"
   ]
  },
  {
   "cell_type": "code",
   "execution_count": null,
   "metadata": {},
   "outputs": [],
   "source": [
    "lista_porcentajes = []\n",
    "#3108001001\n",
    "for numero in df_estados['CLAVE_ENTIDAD']:\n",
    "    if numero < 10:\n",
    "        idnum = '0700000'+str(numero)\n",
    "    else:\n",
    "        idnum = '070000'+str(numero)\n",
    "    #3108001001    \n",
    "    #url = 'https://www.inegi.org.mx/app/api/indicadores/desarrolladores/jsonxml/INDICATOR/3108001001/es/' + idnum + '/true/BISE/2.0/2df7d990-4bbc-c1bd-f33e-2da2413413df?type=json'\n",
    "    #1002000041\n",
    "    url = 'https://www.inegi.org.mx/app/api/indicadores/desarrolladores/jsonxml/INDICATOR/1002000041/es/' + idnum + '/true/BISE/2.0/2df7d990-4bbc-c1bd-f33e-2da2413413df?type=json'\n",
    "    response = requests.get(url)\n",
    "    if response.status_code == 200:\n",
    "        content = json.loads(response.content)\n",
    "        lista_porcentajes.append(round(100 - float(content['Series'][0]['OBSERVATIONS'][0]['OBS_VALUE']),4))\n",
    "    \n",
    "df_estados['PORCENTAJES'] = lista_porcentajes\n",
    "df_estados.head(30)"
   ]
  },
  {
   "cell_type": "code",
   "execution_count": null,
   "metadata": {},
   "outputs": [],
   "source": [
    "# Gráfica estilo seaborn\n",
    "fig, ax = plt.subplots(figsize=(5,8))\n",
    "sns.barplot(data = df_estados, y = 'ENTIDAD_FEDERATIVA', x = 'PORCENTAJES', color = 'lightcoral', order = df_estados.sort_values('PORCENTAJES', ascending = False)['ENTIDAD_FEDERATIVA'])"
   ]
  },
  {
   "cell_type": "code",
   "execution_count": null,
   "metadata": {},
   "outputs": [],
   "source": [
    "estados_geo = ('datos/mexico_estados_geo.json')\n",
    "map = folium.Map(location=[24,-102], zoom_start=5,min_zoom=5,max_zoom=6)\n",
    "\n",
    "titulo=\"Analfabetismo en México\"\n",
    "\n",
    "folium.Choropleth(geo_data=estados_geo, data=df_estados, \n",
    "             columns=['ABREVIATURA', 'PORCENTAJES'],\n",
    "             key_on='feature.id',\n",
    "             fill_color='Reds', fill_opacity=0.9, line_opacity=0.9,\n",
    "             legend_name=titulo).add_to(map)\n",
    "map"
   ]
  },
  {
   "cell_type": "markdown",
   "metadata": {},
   "source": [
    "### Analfabetismo en Yucatán"
   ]
  },
  {
   "cell_type": "markdown",
   "metadata": {},
   "source": [
    "Cargamos el DataFrame de los municipios [[2]](https://ide.sedatu.gob.mx/layers/geonode:a__31_MUN_INEGI_2020/metadata_detail)"
   ]
  },
  {
   "cell_type": "code",
   "execution_count": null,
   "metadata": {},
   "outputs": [],
   "source": [
    "df_municipios = pd.read_csv('datos/Catalogo_municipios.csv')\n",
    "df_municipios\n"
   ]
  },
  {
   "cell_type": "code",
   "execution_count": null,
   "metadata": {},
   "outputs": [],
   "source": [
    "df_municipios = pd.read_csv('datos/Catalogo_municipios.csv')#[:106]\n",
    "df_municipios.tail()"
   ]
  },
  {
   "cell_type": "markdown",
   "metadata": {},
   "source": [
    "Obtenemos la información del INEGI"
   ]
  },
  {
   "cell_type": "code",
   "execution_count": null,
   "metadata": {},
   "outputs": [],
   "source": [
    "# Por municipio\n",
    "lista_porcentajes = []\n",
    "#070000310001\n",
    "for numero in df_municipios['CVE_MUN']:\n",
    "    if numero < 10:\n",
    "        idnum = '07000031000'+ str(numero)\n",
    "    elif numero < 100 :\n",
    "        idnum = '0700003100'+ str(numero)\n",
    "    else:\n",
    "        idnum = '070000310'+ str(numero)\n",
    "        \n",
    "    url = 'https://www.inegi.org.mx/app/api/indicadores/desarrolladores/jsonxml/INDICATOR/1002000041/es/' + idnum + '/true/BISE/2.0/2df7d990-4bbc-c1bd-f33e-2da2413413df?type=json'\n",
    "    response = requests.get(url)\n",
    "    if response.status_code == 200:\n",
    "        content = json.loads(response.content)\n",
    "        lista_porcentajes.append(round(100 - float(content['Series'][0]['OBSERVATIONS'][0]['OBS_VALUE']),4))\n",
    "    \n",
    "df_municipios['PORCENTAJES'] = lista_porcentajes\n",
    "df_municipios.head()\n"
   ]
  },
  {
   "cell_type": "code",
   "execution_count": null,
   "metadata": {},
   "outputs": [],
   "source": [
    "municipios_geo = ('datos/yucatan_municipios_geo.json')\n",
    "map = folium.Map(location = [20.50, -88.80], zoom_start = 8, max_zoom=13, min_zoom=7)\n",
    "\n",
    "titulo=\"Analfabetismo en Yucatán\"\n",
    "\n",
    "folium.Choropleth(geo_data=municipios_geo, data=df_municipios, \n",
    "             columns=['FID', 'PORCENTAJES'],\n",
    "             key_on='feature.id',\n",
    "             fill_color='Reds', fill_opacity=0.9, line_opacity=0.9,\n",
    "             legend_name=titulo).add_to(map)\n",
    "map"
   ]
  },
  {
   "cell_type": "code",
   "execution_count": null,
   "metadata": {},
   "outputs": [],
   "source": [
    "# Gráfica estilo seaborn\n",
    "fig, ax = plt.subplots(figsize=(5,25))\n",
    "sns.barplot(data = df_municipios, y = 'NOMGEO', x = 'PORCENTAJES', color = 'lightcoral', order = df_municipios.sort_values('PORCENTAJES', ascending = False)['NOMGEO'])"
   ]
  },
  {
   "cell_type": "markdown",
   "metadata": {},
   "source": [
    "### Gastos en educación como porcentaje del PIB"
   ]
  },
  {
   "cell_type": "markdown",
   "metadata": {},
   "source": [
    "Serie histórica de gastos en educación"
   ]
  },
  {
   "cell_type": "code",
   "execution_count": null,
   "metadata": {},
   "outputs": [],
   "source": [
    "# Gastos en educación, registro histórico\n",
    "url = 'https://www.inegi.org.mx/app/api/indicadores/desarrolladores/jsonxml/INDICATOR/6207067825/es/0700/false/BISE/2.0/2df7d990-4bbc-c1bd-f33e-2da2413413df?type=json'\n",
    "respuesta = requests.get(url)\n",
    "if respuesta.status_code == 200:\n",
    "    contenido = json.loads(respuesta.content)\n",
    "    # Cargar el contenido a la variable 'datos'\n",
    "    datos = contenido['Series'][0]['OBSERVATIONS']\n",
    "    gastos_educacion = []\n",
    "    periodo = []\n",
    "    for dato in datos:\n",
    "        gastos_educacion.append(round(float(dato['OBS_VALUE']),4))\n",
    "        periodo.append(str(dato['TIME_PERIOD']))\n",
    "    \n",
    "print('Lista de gastos realizados en educación: \\n', gastos_educacion)\n",
    "print('Periodo: \\n', periodo)"
   ]
  },
  {
   "cell_type": "code",
   "execution_count": null,
   "metadata": {},
   "outputs": [],
   "source": [
    "# Base de datos\n",
    "\n",
    "df_gasto_educ = pd.DataFrame()\n",
    "df_gasto_educ['PERIODO'] = periodo\n",
    "df_gasto_educ['PORCENTAJE'] = gastos_educacion\n",
    "\n",
    "fig, ax = plt.subplots(figsize = (10,4))\n",
    "sns.lineplot(data = df_gasto_educ, x = 'PERIODO', y = 'PORCENTAJE', linewidth=2.5, color= 'green')\n",
    "plt.xticks(rotation = 90)\n",
    "plt.show()\n"
   ]
  }
 ],
 "metadata": {
  "kernelspec": {
   "display_name": "Python 3 (ipykernel)",
   "language": "python",
   "name": "python3"
  },
  "language_info": {
   "codemirror_mode": {
    "name": "ipython",
    "version": 3
   },
   "file_extension": ".py",
   "mimetype": "text/x-python",
   "name": "python",
   "nbconvert_exporter": "python",
   "pygments_lexer": "ipython3",
   "version": "3.10.11"
  },
  "vscode": {
   "interpreter": {
    "hash": "0cc95108adb0eef77222e4285ccd064197a982c043357c28a8f9770fc5b3cfd4"
   }
  }
 },
 "nbformat": 4,
 "nbformat_minor": 4
}
