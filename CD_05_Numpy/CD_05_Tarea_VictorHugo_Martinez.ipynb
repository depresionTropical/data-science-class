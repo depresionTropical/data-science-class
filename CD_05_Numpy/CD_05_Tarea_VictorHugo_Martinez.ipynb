{
 "cells": [
  {
   "cell_type": "markdown",
   "metadata": {},
   "source": [
    "<!--Información del curso-->\n",
    "<img align=\"left\" style=\"padding-right:10px;\" src=\"figuras/banner_cd.png\">"
   ]
  },
  {
   "cell_type": "markdown",
   "metadata": {},
   "source": [
    "### Considere ahora los datos de un archivo de velocidades de viento\n"
   ]
  },
  {
   "cell_type": "markdown",
   "metadata": {},
   "source": [
    "Use funciones de arreglos de Numpy sobre diferentes ejes y la indexación para responder las preguntas concernientes al archivo *files/viento.data*.\n",
    "\n",
    "Los datos en el archivo tienen la siguiente forma:\n",
    "\n",
    "<img align=\"left\" width=\"700\"  float= \"none\" align=\"middle\" src=\"figuras/datos_viento2.png\">\n"
   ]
  },
  {
   "cell_type": "markdown",
   "metadata": {},
   "source": [
    "**Las primeras tres columnas son año, mes y día, las 12 columnas restantes son velocidades de viento promedio en nudos de 12 municipios en Yucatán en ese día**. Use la función 'genfromtxt' de numpy para leer los datos:"
   ]
  },
  {
   "cell_type": "code",
   "execution_count": 6,
   "metadata": {},
   "outputs": [
    {
     "name": "stdout",
     "output_type": "stream",
     "text": [
      "(6574, 15)\n"
     ]
    },
    {
     "data": {
      "text/plain": [
       "array([[61.  ,  1.  ,  1.  , ..., 12.58, 18.5 , 15.04],\n",
       "       [61.  ,  1.  ,  2.  , ...,  9.67, 17.54, 13.83],\n",
       "       [61.  ,  1.  ,  3.  , ...,  7.67, 12.75, 12.71],\n",
       "       ...,\n",
       "       [78.  , 12.  , 29.  , ..., 16.42, 18.88, 29.58],\n",
       "       [78.  , 12.  , 30.  , ..., 12.12, 14.67, 28.79],\n",
       "       [78.  , 12.  , 31.  , ..., 11.38, 12.08, 22.08]])"
      ]
     },
     "execution_count": 6,
     "metadata": {},
     "output_type": "execute_result"
    }
   ],
   "source": [
    "#Importar los datos\n",
    "import numpy as np\n",
    "from numpy import genfromtxt\n",
    "my_data = genfromtxt('datos/viento.csv')\n",
    "print(my_data.shape)\n",
    "my_data\n"
   ]
  },
  {
   "cell_type": "markdown",
   "metadata": {},
   "source": [
    "<div class=\"alert alert-success\">  \n",
    "    \n",
    "1. (Ejemplo)  Encuentre la velocidad de viento mínima, máxima, el promedio  y la desviación estándar para **el primer municipio durante todos los días** . \n",
    "\n",
    "</div> "
   ]
  },
  {
   "cell_type": "code",
   "execution_count": 10,
   "metadata": {},
   "outputs": [
    {
     "name": "stdout",
     "output_type": "stream",
     "text": [
      "velocidad minima: 0.67\n",
      "velocidad máxima: 35.8\n",
      "velocidad promedio: 12.363714633404323\n",
      "velocidad desviación estandar: 5.619183006341271\n"
     ]
    }
   ],
   "source": [
    "col = my_data[:,3]\n",
    "\n",
    "print(f'velocidad minima: {col.min()}')\n",
    "print(f'velocidad máxima: {col.max()}')\n",
    "print(f'velocidad promedio: {col.mean()}')\n",
    "print(f'velocidad desviación estandar: {col.std()}')"
   ]
  },
  {
   "cell_type": "markdown",
   "metadata": {},
   "source": [
    "<div class=\"alert alert-success\">   \n",
    "    \n",
    "2. ¿Cuantos elementos en total tiene, asi como número de filas y columnas en el arreglo *my_data* ?. \n",
    "    \n",
    "</div> "
   ]
  },
  {
   "cell_type": "code",
   "execution_count": 17,
   "metadata": {},
   "outputs": [
    {
     "name": "stdout",
     "output_type": "stream",
     "text": [
      "total de datos: 98610\n",
      "número de filas 6574  ,número de columnas 15\n"
     ]
    }
   ],
   "source": [
    "print(f'total de datos: {my_data.size}')\n",
    "print(f'número de filas {my_data.shape[0]}  ,número de columnas {my_data.shape[1]}')"
   ]
  },
  {
   "cell_type": "markdown",
   "metadata": {},
   "source": [
    "<div class=\"alert alert-success\">   \n",
    "    \n",
    "3.  Encuentre la velocidad de viento mínima, máxima, el promedio  y la desviación estándar  en **considerando todos los municipios y  durante todos los días** . \n",
    "    \n",
    "</div> \n",
    "\n",
    " "
   ]
  },
  {
   "cell_type": "code",
   "execution_count": 18,
   "metadata": {},
   "outputs": [
    {
     "name": "stdout",
     "output_type": "stream",
     "text": [
      "velocidad minima: 0.0\n",
      "velocidad máxima: 42.54\n",
      "velocidad promedio: 10.22837377040868\n",
      "velocidad desviación estandar: 5.603840181095793\n"
     ]
    }
   ],
   "source": [
    "data = my_data[:,3:]\n",
    "print(f'velocidad minima: {data.min()}')\n",
    "print(f'velocidad máxima: {data.max()}')\n",
    "print(f'velocidad promedio: {data.mean()}')\n",
    "print(f'velocidad desviación estandar: {data.std()}')"
   ]
  },
  {
   "cell_type": "markdown",
   "metadata": {},
   "source": [
    "<div class=\"alert alert-success\">   \n",
    "    \n",
    "4. Encuentre las velocidades de viento mínimas, máximas, promedios y las desviaciones estándar **en cada municipio durante todos los días**\n",
    "   \n",
    "</div> \n"
   ]
  },
  {
   "cell_type": "code",
   "execution_count": 30,
   "metadata": {},
   "outputs": [
    {
     "name": "stdout",
     "output_type": "stream",
     "text": [
      "Municipio 1:\n",
      "  Mínimo: 0.67\n",
      "  Máximo: 35.8\n",
      "  Promedio: 12.363714633404342\n",
      "  Desviación estándar: 5.619183006341266\n",
      "\n",
      "Municipio 2:\n",
      "  Mínimo: 0.21\n",
      "  Máximo: 33.37\n",
      "  Promedio: 10.646448128992985\n",
      "  Desviación estándar: 5.2682008054718175\n",
      "\n",
      "Municipio 3:\n",
      "  Mínimo: 1.5\n",
      "  Máximo: 33.84\n",
      "  Promedio: 11.660103437785196\n",
      "  Desviación estándar: 5.007383774176846\n",
      "\n",
      "Municipio 4:\n",
      "  Mínimo: 0.0\n",
      "  Máximo: 28.46\n",
      "  Promedio: 6.306274718588371\n",
      "  Desviación estándar: 3.6051330885174107\n",
      "\n",
      "Municipio 5:\n",
      "  Mínimo: 0.13\n",
      "  Máximo: 37.54\n",
      "  Promedio: 10.456880133860636\n",
      "  Desviación estándar: 4.935363328283336\n",
      "\n",
      "Municipio 6:\n",
      "  Mínimo: 0.0\n",
      "  Máximo: 26.16\n",
      "  Promedio: 7.092254335260125\n",
      "  Desviación estándar: 3.968381256991881\n",
      "\n",
      "Municipio 7:\n",
      "  Mínimo: 0.0\n",
      "  Máximo: 30.37\n",
      "  Promedio: 9.796834499543653\n",
      "  Desviación estándar: 4.976893738542982\n",
      "\n",
      "Municipio 8:\n",
      "  Mínimo: 0.0\n",
      "  Máximo: 31.08\n",
      "  Promedio: 8.494420444174015\n",
      "  Desviación estándar: 4.498657828809356\n",
      "\n",
      "Municipio 9:\n",
      "  Mínimo: 0.0\n",
      "  Máximo: 25.88\n",
      "  Promedio: 8.495818375418294\n",
      "  Desviación estándar: 4.167461005966943\n",
      "\n",
      "Municipio 10:\n",
      "  Mínimo: 0.04\n",
      "  Máximo: 28.21\n",
      "  Promedio: 8.70726802555519\n",
      "  Desviación estándar: 4.503272219571279\n",
      "\n",
      "Municipio 11:\n",
      "  Mínimo: 0.13\n",
      "  Máximo: 42.38\n",
      "  Promedio: 13.121006997261915\n",
      "  Desviación estándar: 5.834593187148449\n",
      "\n",
      "Municipio 12:\n",
      "  Mínimo: 0.67\n",
      "  Máximo: 42.54\n",
      "  Promedio: 15.599461515059279\n",
      "  Desviación estándar: 6.697347191218374\n",
      "\n"
     ]
    }
   ],
   "source": [
    "vientos_municipios = my_data[:, 3:] \n",
    "min_vientos = np.min(vientos_municipios, axis=0)  # Mínimo por municipio\n",
    "max_vientos = np.max(vientos_municipios, axis=0)  # Máximo por municipio\n",
    "promedio_vientos = np.mean(vientos_municipios, axis=0)  # Promedio por municipio\n",
    "desviacion_std_vientos = np.std(vientos_municipios, axis=0)  # Desviación estándar por municipio\n",
    "\n",
    "for i in range(vientos_municipios.shape[1]):\n",
    "    print(f\"Municipio {i+1}:\")\n",
    "    print(f\"  Mínimo: {min_vientos[i]}\")\n",
    "    print(f\"  Máximo: {max_vientos[i]}\")\n",
    "    print(f\"  Promedio: {promedio_vientos[i]}\")\n",
    "    print(f\"  Desviación estándar: {desviacion_std_vientos[i]}\\n\")\n"
   ]
  },
  {
   "cell_type": "markdown",
   "metadata": {},
   "source": [
    "<div class=\"alert alert-success\">   \n",
    "    \n",
    "5.  Encuentre el año, mes y día en que se registró la mayor velocidad del viento.    \n",
    "\n",
    "</div> "
   ]
  },
  {
   "cell_type": "code",
   "execution_count": 29,
   "metadata": {},
   "outputs": [
    {
     "name": "stdout",
     "output_type": "stream",
     "text": [
      "El mayor registro de velocidad de viento ocurrió el 2/12/66.\n"
     ]
    }
   ],
   "source": [
    "# año , mes , dia  con la mayor velocidad\n",
    "max_index = np.argmax(my_data[:, 3:], axis=None)\n",
    "fila_max, columna_max = np.unravel_index(max_index, my_data[:, 3:].shape)\n",
    "columna_viento = columna_max + 3\n",
    "anio = my_data[fila_max, 0]\n",
    "mes = my_data[fila_max, 1]\n",
    "dia = my_data[fila_max, 2]\n",
    "\n",
    "print(f\"El mayor registro de velocidad de viento ocurrió el {int(dia)}/{int(mes)}/{int(anio)}.\")"
   ]
  },
  {
   "cell_type": "code",
   "execution_count": null,
   "metadata": {},
   "outputs": [],
   "source": []
  },
  {
   "cell_type": "code",
   "execution_count": null,
   "metadata": {},
   "outputs": [],
   "source": []
  }
 ],
 "metadata": {
  "kernelspec": {
   "display_name": "Python 3 (ipykernel)",
   "language": "python",
   "name": "python3"
  },
  "language_info": {
   "codemirror_mode": {
    "name": "ipython",
    "version": 3
   },
   "file_extension": ".py",
   "mimetype": "text/x-python",
   "name": "python",
   "nbconvert_exporter": "python",
   "pygments_lexer": "ipython3",
   "version": "3.10.12"
  }
 },
 "nbformat": 4,
 "nbformat_minor": 4
}
