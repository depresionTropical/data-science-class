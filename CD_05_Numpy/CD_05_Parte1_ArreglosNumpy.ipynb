{
 "cells": [
  {
   "cell_type": "markdown",
   "metadata": {},
   "source": [
    "<!--Información del curso-->\n",
    "<img align=\"left\" style=\"padding-right:10px;\" src=\"figuras/banner_cd.png\">"
   ]
  },
  {
   "cell_type": "markdown",
   "metadata": {},
   "source": [
    "<center><h1 style=\"font-size:2em;color:#2467C0\"> Numpy - Parte 1 </h1></center>\n",
    "\n",
    "<center><h4 style=\"font-size:2em;color:#840700\"> Arreglos de Numpy </h4></center>\n",
    "\n",
    "<br>\n",
    "<table>\n",
    "<col width=\"550\">\n",
    "<col width=\"450\">\n",
    "<tr>\n",
    "<td><img src=\"figuras/arreglos_numpy.png\" align=\"middle\" style=\"width:500px\"/></td>\n",
    "<td align=\"left-align\">\n",
    "\n",
    "Numpy es un paquete que provee a Python con arreglos multidimensionales de alta eficiencia y diseñados para cálculo científico, los cuales son variables tipo array, como los que se muestran a continuación:\n",
    "\n",
    "Un arreglo o array puede contener:\n",
    "\n",
    "* tiempos discretos de un experimento o simulación.\n",
    "    \n",
    "* señales grabadas por un instrumento de medida.\n",
    "   \n",
    "* pixeles de una imagen, etc.\n",
    "\n",
    "**Importante** Numpy solo permite un tipo de objeto para los elementos del arreglo \n",
    "\n",
    "Para mayor información  http://www.numpy.org/ \n",
    "    \n",
    "<br>\n",
    "</td>\n",
    "</tr>\n",
    "</table>"
   ]
  },
  {
   "cell_type": "code",
   "execution_count": null,
   "metadata": {},
   "outputs": [],
   "source": [
    "#Versión instalada numpy\n",
    "import numpy\n",
    "numpy.__version__"
   ]
  },
  {
   "cell_type": "markdown",
   "metadata": {},
   "source": [
    "A manera de convención se utiliza **_np_** como el alias de numpy "
   ]
  },
  {
   "cell_type": "code",
   "execution_count": null,
   "metadata": {},
   "outputs": [],
   "source": [
    "import numpy as np"
   ]
  },
  {
   "cell_type": "markdown",
   "metadata": {},
   "source": [
    "# ¿Por qué aprender a utilizar la librería NumPy?"
   ]
  },
  {
   "cell_type": "markdown",
   "metadata": {},
   "source": [
    "La respuesta vendría dada por el rendimiento del lenguaje de programación Python a la hora de llevar a cabo cálculos numéricos.\n"
   ]
  },
  {
   "cell_type": "markdown",
   "metadata": {},
   "source": [
    "<img align=\"left\" width=\"600\"  float= \"none\" align=\"middle\" src=\"figuras/NumpyPython1.png\">\n"
   ]
  },
  {
   "cell_type": "markdown",
   "metadata": {},
   "source": [
    "## Ilustremos este hecho con un sencillo ejemplo:\n",
    "\n",
    "<img align=\"left\" width=\"900\"  float= \"none\" align=\"middle\" src=\"figuras/NumpyPython2.png\">\n",
    "\n"
   ]
  },
  {
   "cell_type": "markdown",
   "metadata": {},
   "source": [
    "### Ejemplo 1"
   ]
  },
  {
   "cell_type": "code",
   "execution_count": null,
   "metadata": {},
   "outputs": [],
   "source": [
    "#timeit — Mide el tiempo de ejecución de pequeños fragmentos de código\n",
    "test_list = list(range(1001))\n",
    "%timeit sum(test_list)"
   ]
  },
  {
   "cell_type": "code",
   "execution_count": null,
   "metadata": {},
   "outputs": [],
   "source": [
    "import numpy as np\n",
    "test_array = np.arange(1001)\n",
    "%timeit np.sum(test_array)"
   ]
  },
  {
   "cell_type": "markdown",
   "metadata": {},
   "source": [
    "### Ejemplo 2"
   ]
  },
  {
   "cell_type": "markdown",
   "metadata": {},
   "source": [
    "<img align=\"left\" width=\"900\"  float= \"none\" align=\"middle\" src=\"figuras/NumpyPython3.png\">\n"
   ]
  },
  {
   "cell_type": "code",
   "execution_count": null,
   "metadata": {},
   "outputs": [],
   "source": [
    "n = 10000001"
   ]
  },
  {
   "cell_type": "code",
   "execution_count": null,
   "metadata": {},
   "outputs": [],
   "source": [
    "test_list  = list(range(n)) # Python\n",
    "%timeit sum(test_list)"
   ]
  },
  {
   "cell_type": "code",
   "execution_count": null,
   "metadata": {},
   "outputs": [],
   "source": [
    "test_array = np.arange(n)   # NumPy\n",
    "%timeit np.sum(test_array)"
   ]
  },
  {
   "cell_type": "markdown",
   "metadata": {},
   "source": [
    "### ¿Por qué esta diferencia? \n",
    "* Es más eficiente la manera en que se accede a los elementos de un array de **NumPy** con respecto a como *Python* procede a realizar tal tarea en sus estructuras de datos básicas.\n",
    "* El número de comprobaciones intermedias a la hora de llevar a cabo cálculos numéricos es menor en  **NumPy**\n",
    "* **Numpy** está escrito utilizando el lenguaje de programación C, que es bastante más rápido que *Python*\n"
   ]
  },
  {
   "cell_type": "markdown",
   "metadata": {},
   "source": [
    "# Creando arreglos desde una lista\n",
    "\n",
    "Se puede hacer uso de ``np.array`` para crear arreglos provenientes de una lista:"
   ]
  },
  {
   "cell_type": "code",
   "execution_count": null,
   "metadata": {},
   "outputs": [],
   "source": [
    "# Arreglo de enteros\n",
    "a1= np.array([1, 4, 2, 5, 3])"
   ]
  },
  {
   "cell_type": "code",
   "execution_count": null,
   "metadata": {},
   "outputs": [],
   "source": [
    "a1.dtype"
   ]
  },
  {
   "cell_type": "markdown",
   "metadata": {},
   "source": [
    "Recuerde que, a diferencia de las listas de Python, **NumPy está restringido a matrices que contienen el mismo tipo**. Si los tipos no coinciden, NumPy se ajustará si es posible (aquí, los enteros se cambian a flotante):"
   ]
  },
  {
   "cell_type": "code",
   "execution_count": null,
   "metadata": {},
   "outputs": [],
   "source": [
    "a2 = np.array([3.14, 4, 2, 3])"
   ]
  },
  {
   "cell_type": "code",
   "execution_count": null,
   "metadata": {},
   "outputs": [],
   "source": [
    "a2.dtype"
   ]
  },
  {
   "cell_type": "code",
   "execution_count": null,
   "metadata": {},
   "outputs": [],
   "source": [
    "print(a2)"
   ]
  },
  {
   "cell_type": "markdown",
   "metadata": {},
   "source": [
    "En el caso de tener un elemento string, todo el arreglo se cambiará a string "
   ]
  },
  {
   "cell_type": "code",
   "execution_count": null,
   "metadata": {},
   "outputs": [],
   "source": [
    "a3 = np.array([1, 4, 'string', 5, 3.1])"
   ]
  },
  {
   "cell_type": "code",
   "execution_count": null,
   "metadata": {},
   "outputs": [],
   "source": [
    "a3.dtype"
   ]
  },
  {
   "cell_type": "code",
   "execution_count": null,
   "metadata": {},
   "outputs": [],
   "source": [
    "#No es necesario el print para tener una salida\n",
    "a3"
   ]
  },
  {
   "cell_type": "markdown",
   "metadata": {},
   "source": [
    "Si queremos establecer explícitamente el tipo de datos del arreglo, podemos usar la opción ``dtype``:"
   ]
  },
  {
   "cell_type": "code",
   "execution_count": null,
   "metadata": {},
   "outputs": [],
   "source": [
    "np.array([1, 2, 3, 4], dtype='float32')"
   ]
  },
  {
   "cell_type": "code",
   "execution_count": null,
   "metadata": {},
   "outputs": [],
   "source": [
    "np.array([1, 2, 3.1, 4.7], dtype='int')"
   ]
  },
  {
   "cell_type": "markdown",
   "metadata": {},
   "source": [
    "Para crear una matriz de 2 filas y 3 columnas podríamos hacer lo siguiente"
   ]
  },
  {
   "cell_type": "code",
   "execution_count": null,
   "metadata": {},
   "outputs": [],
   "source": [
    "a4 = np.array([[1,2,3],[8,9,10]])\n",
    "print(a4)"
   ]
  },
  {
   "cell_type": "markdown",
   "metadata": {},
   "source": [
    "A diferencia de las listas de Python, los arreglos de NumPy pueden ser explícitamente multidimensionales; aquí hay una forma de inicializar una matriz multidimensional utilizando una lista de listas:\n"
   ]
  },
  {
   "cell_type": "code",
   "execution_count": null,
   "metadata": {},
   "outputs": [],
   "source": [
    "# las listas anidadas dan como resultado matrices multidimensionales\n",
    "import numpy as np\n",
    "a5 = np.array([[2, 3, 4], [4, 5, 6], [6, 7, 8], [8, 9, 10]])\n",
    "print(a5)"
   ]
  },
  {
   "cell_type": "code",
   "execution_count": null,
   "metadata": {},
   "outputs": [],
   "source": [
    "# Para obtener la dimensión\n",
    "a5.ndim"
   ]
  },
  {
   "cell_type": "code",
   "execution_count": null,
   "metadata": {},
   "outputs": [],
   "source": [
    "# Para obtener la forma (Filas, Columnas)\n",
    "a5.shape"
   ]
  },
  {
   "cell_type": "code",
   "execution_count": null,
   "metadata": {},
   "outputs": [],
   "source": [
    "# Para obtener el número de elementos\n",
    "a5.size"
   ]
  },
  {
   "cell_type": "markdown",
   "metadata": {},
   "source": [
    "Para obtener algún  elemento **Arreglo[fila, columna]**\n",
    "\n",
    "\n",
    "<font color='Green'> \n",
    "¿Cómo obtendría el **elemento 10** de a5 ?\n",
    "\n",
    "[[ 2  3  4]<br>[ 4  5  6]<br>[ 6  7  8]<br> [ 8  9 **10**]]\n",
    "</font> "
   ]
  },
  {
   "cell_type": "code",
   "execution_count": null,
   "metadata": {},
   "outputs": [],
   "source": []
  },
  {
   "cell_type": "markdown",
   "metadata": {},
   "source": [
    "<font color='Green'> \n",
    "¿Cómo obtendría los elementos de la primera fila?\n",
    "    \n",
    "[**[ 2  3  4]**<br>[ 4  5  6]<br>[ 6  7  8]<br> [ 8  9 10]]\n",
    "\n",
    "</font> "
   ]
  },
  {
   "cell_type": "code",
   "execution_count": null,
   "metadata": {},
   "outputs": [],
   "source": [
    "# Método 1 \n",
    "#  indice_inicio : indice_final (pero no esta incluido)\n",
    "#     0  : 3 (el indice 3 no esta incluido)\n",
    "#     0  : 3  --> [0,1,2] \n"
   ]
  },
  {
   "cell_type": "code",
   "execution_count": null,
   "metadata": {},
   "outputs": [],
   "source": [
    "# Método 2 \n",
    "# indice_inicio : indice_final\n",
    "# Cuando no se coloca el inicio y final se tomarán todos los indices\n"
   ]
  },
  {
   "cell_type": "markdown",
   "metadata": {},
   "source": [
    "<font color='Green'> \n",
    "¿Cómo obtendría los elementos de la ultima columna?\n",
    "\n",
    "[[ 2  3  **4**]<br>[ 4  5  **6**]<br>[ 6  7  **8**]<br> [ 8  9 **10**]]\n",
    "\n",
    "    \n",
    "</font> "
   ]
  },
  {
   "cell_type": "code",
   "execution_count": null,
   "metadata": {},
   "outputs": [],
   "source": [
    "# Método 1 \n",
    "# Necesitamos las filas con índice 0,1,2,3\n",
    "# Necesitamos los elementos de la columna con índice 2 o -1\n",
    "# Utilizando indices numericos \n"
   ]
  },
  {
   "cell_type": "code",
   "execution_count": null,
   "metadata": {},
   "outputs": [],
   "source": [
    "# Método 2\n",
    "# Necesitamos las filas con índice 0,1,2,3\n",
    "# Necesitamos los elementos de la columna con índice 2 o -1\n",
    "# Utilizando indices numericos \n"
   ]
  },
  {
   "cell_type": "code",
   "execution_count": null,
   "metadata": {},
   "outputs": [],
   "source": [
    "# Método 3 \n",
    "# Ya que se estan considerando todos los indices para las filas, se puede colocar solamente \":\"\n"
   ]
  },
  {
   "cell_type": "markdown",
   "metadata": {},
   "source": [
    "### Ejemplo de arreglo 3D"
   ]
  },
  {
   "cell_type": "markdown",
   "metadata": {},
   "source": [
    "Matriz de ejemplo:\n",
    "![Matriz 3D](figuras/3D_numpy.png )"
   ]
  },
  {
   "cell_type": "code",
   "execution_count": null,
   "metadata": {},
   "outputs": [],
   "source": [
    "a6 = np.array([[[1,2],[4,3],[7,4]] , [[2,3],[9,4],[7,5]] , [[1,0],[3,1],[0,2]] , [[9,6],[6,7],[9,8]] ])"
   ]
  },
  {
   "cell_type": "code",
   "execution_count": null,
   "metadata": {},
   "outputs": [],
   "source": [
    "print(a6)"
   ]
  },
  {
   "cell_type": "markdown",
   "metadata": {},
   "source": [
    "<div class=\"alert alert-success\">\n",
    " 1.   ¿Como obtendría la dimensión del arreglo?\n",
    "</div> "
   ]
  },
  {
   "cell_type": "code",
   "execution_count": null,
   "metadata": {},
   "outputs": [],
   "source": []
  },
  {
   "cell_type": "markdown",
   "metadata": {},
   "source": [
    "<div class=\"alert alert-success\">\n",
    "    \n",
    "2. ¿Cómo obtendría la fila **[ 1 2 ]** ?\n",
    "    \n",
    "</div> "
   ]
  },
  {
   "cell_type": "code",
   "execution_count": null,
   "metadata": {},
   "outputs": [],
   "source": []
  },
  {
   "cell_type": "markdown",
   "metadata": {},
   "source": [
    "<div class=\"alert alert-success\">\n",
    "    \n",
    "3. ¿Cómo obtendría el elemento **8**?\n",
    "    \n",
    "</div> "
   ]
  },
  {
   "cell_type": "code",
   "execution_count": null,
   "metadata": {},
   "outputs": [],
   "source": []
  },
  {
   "cell_type": "markdown",
   "metadata": {},
   "source": [
    "## Crear arreglos desde cero\n",
    "\n",
    "Algunas veces es más eficiente crear arreglos desde cero utilizando rutinas integradas en NumPy.\n",
    "Aquí hay varios ejemplos:"
   ]
  },
  {
   "cell_type": "code",
   "execution_count": null,
   "metadata": {},
   "outputs": [],
   "source": [
    "# Matriz entera de longitud 10 llena de ceros\n",
    "np.zeros(10, dtype=int)"
   ]
  },
  {
   "cell_type": "code",
   "execution_count": null,
   "metadata": {},
   "outputs": [],
   "source": [
    "# Matriz de elementos flotantes 3x5 llena de unos\n",
    "np.ones((3, 5), dtype=float)"
   ]
  },
  {
   "cell_type": "code",
   "execution_count": null,
   "metadata": {},
   "outputs": [],
   "source": [
    "# Matriz de 3x5 con un número en particular 3.14\n",
    "np.full((3, 5), 3.14)"
   ]
  },
  {
   "cell_type": "code",
   "execution_count": null,
   "metadata": {},
   "outputs": [],
   "source": [
    "# Matriz llena de una secuencia lineal Comenzando en 0, terminando en 20, con un paso o delta de 2 \n",
    "#(esto es similar a la función incorporada range ())\n",
    "np.arange(0, 21, 2)"
   ]
  },
  {
   "cell_type": "code",
   "execution_count": null,
   "metadata": {},
   "outputs": [],
   "source": [
    "# Matriz de 50 valores espaciados uniformemente entre 0 y 1\n",
    "np.linspace(0, 1)"
   ]
  },
  {
   "cell_type": "code",
   "execution_count": null,
   "metadata": {},
   "outputs": [],
   "source": [
    "# Matriz de cinco valores espaciados uniformemente entre 0 y 1\n",
    "np.linspace(0, 1, 5)"
   ]
  },
  {
   "cell_type": "code",
   "execution_count": null,
   "metadata": {},
   "outputs": [],
   "source": [
    "#  Haga una matriz de 3x3 de distribución uniforme valores aleatorios entre 0 y 1\n",
    "np.random.random((3, 3))"
   ]
  },
  {
   "cell_type": "code",
   "execution_count": null,
   "metadata": {},
   "outputs": [],
   "source": [
    "#  Matriz 3x3 de valores aleatorios normalmente distribuidos con media 0 y desviación estándar 1\n",
    "np.random.normal(0, 1, (3, 3))"
   ]
  },
  {
   "cell_type": "code",
   "execution_count": null,
   "metadata": {},
   "outputs": [],
   "source": [
    "# Matriz 3x3 de valores enteros aleatorios en el intervalo [0, 10) \n",
    "np.random.randint(0, 10, (3, 3))"
   ]
  },
  {
   "cell_type": "code",
   "execution_count": null,
   "metadata": {},
   "outputs": [],
   "source": [
    "# Crear una matriz identidad de 3x3 \n",
    "np.identity(3)"
   ]
  },
  {
   "cell_type": "markdown",
   "metadata": {},
   "source": [
    "## Tipos de datos en NumPy \n",
    "\n",
    "**Los arreglos de NumPy contienen valores de un solo tipo**, por lo que es importante tener un conocimiento detallado de esos tipos y sus limitaciones. Debido a que NumPy está construido en C, los tipos serán familiares para los usuarios de C, Fortran y otros lenguajes relacionados.\n",
    "\n",
    "Para construir un arreglo de un tipo en particular  se puede especificar utilizando un ``dtype`` y el tipo de dato:\n",
    "\n"
   ]
  },
  {
   "cell_type": "code",
   "execution_count": null,
   "metadata": {},
   "outputs": [],
   "source": [
    "a7 = np.zeros(10, dtype='int16')\n",
    "a7"
   ]
  },
  {
   "cell_type": "code",
   "execution_count": null,
   "metadata": {},
   "outputs": [],
   "source": [
    "#utilizamos dtype para verificar el tipo de dato\n",
    "a7.dtype"
   ]
  },
  {
   "cell_type": "markdown",
   "metadata": {},
   "source": [
    "Los tipos de datos estándar de NumPy se enumeran en la siguiente tabla:\n",
    "\n",
    "\n",
    "| Data type\t    | Description |\n",
    "|---------------|-------------|\n",
    "| ``bool_``     | Boolean (True or False) stored as a byte |\n",
    "| ``int_``      | Default integer type (same as C ``long``; normally either ``int64`` or ``int32``)| \n",
    "| ``intc``      | Identical to C ``int`` (normally ``int32`` or ``int64``)| \n",
    "| ``intp``      | Integer used for indexing (same as C ``ssize_t``; normally either ``int32`` or ``int64``)| \n",
    "| ``int8``      | Byte (-128 to 127)| \n",
    "| ``int16``     | Integer (-32768 to 32767)|\n",
    "| ``int32``     | Integer (-2147483648 to 2147483647)|\n",
    "| ``int64``     | Integer (-9223372036854775808 to 9223372036854775807)| \n",
    "| ``uint8``     | Unsigned integer (0 to 255)| \n",
    "| ``uint16``    | Unsigned integer (0 to 65535)| \n",
    "| ``uint32``    | Unsigned integer (0 to 4294967295)| \n",
    "| ``uint64``    | Unsigned integer (0 to 18446744073709551615)| \n",
    "| ``float_``    | Shorthand for ``float64``.| \n",
    "| ``float16``   | Half precision float: sign bit, 5 bits exponent, 10 bits mantissa| \n",
    "| ``float32``   | Single precision float: sign bit, 8 bits exponent, 23 bits mantissa| \n",
    "| ``float64``   | Double precision float: sign bit, 11 bits exponent, 52 bits mantissa| \n",
    "| ``complex_``  | Shorthand for ``complex128``.| \n",
    "| ``complex64`` | Complex number, represented by two 32-bit floats| \n",
    "| ``complex128``| Complex number, represented by two 64-bit floats| "
   ]
  },
  {
   "cell_type": "code",
   "execution_count": null,
   "metadata": {},
   "outputs": [],
   "source": []
  }
 ],
 "metadata": {
  "kernelspec": {
   "display_name": "Python 3 (ipykernel)",
   "language": "python",
   "name": "python3"
  },
  "language_info": {
   "codemirror_mode": {
    "name": "ipython",
    "version": 3
   },
   "file_extension": ".py",
   "mimetype": "text/x-python",
   "name": "python",
   "nbconvert_exporter": "python",
   "pygments_lexer": "ipython3",
   "version": "3.10.7"
  }
 },
 "nbformat": 4,
 "nbformat_minor": 4
}
