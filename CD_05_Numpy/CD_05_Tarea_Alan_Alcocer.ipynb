{
 "cells": [
  {
   "cell_type": "markdown",
   "metadata": {},
   "source": [
    "<!--Información del curso-->\n",
    "<img align=\"left\" style=\"padding-right:10px;\" src=\"figuras/banner_cd.png\">"
   ]
  },
  {
   "cell_type": "markdown",
   "metadata": {},
   "source": [
    "### Considere ahora los datos de un archivo de velocidades de viento\n"
   ]
  },
  {
   "cell_type": "markdown",
   "metadata": {},
   "source": [
    "Use funciones de arreglos de Numpy sobre diferentes ejes y la indexación para responder las preguntas concernientes al archivo *files/viento.data*.\n",
    "\n",
    "Los datos en el archivo tienen la siguiente forma:\n",
    "\n",
    "<img align=\"left\" width=\"700\"  float= \"none\" align=\"middle\" src=\"figuras/datos_viento2.png\">\n"
   ]
  },
  {
   "cell_type": "markdown",
   "metadata": {},
   "source": [
    "**Las primeras tres columnas son año, mes y día, las 12 columnas restantes son velocidades de viento promedio en nudos de 12 municipios en Yucatán en ese día**. Use la función 'genfromtxt' de numpy para leer los datos:"
   ]
  },
  {
   "cell_type": "code",
   "execution_count": 19,
   "metadata": {},
   "outputs": [
    {
     "name": "stdout",
     "output_type": "stream",
     "text": [
      "(6574, 15)\n"
     ]
    },
    {
     "data": {
      "text/plain": [
       "array([[61.  ,  1.  ,  1.  , ..., 12.58, 18.5 , 15.04],\n",
       "       [61.  ,  1.  ,  2.  , ...,  9.67, 17.54, 13.83],\n",
       "       [61.  ,  1.  ,  3.  , ...,  7.67, 12.75, 12.71],\n",
       "       ...,\n",
       "       [78.  , 12.  , 29.  , ..., 16.42, 18.88, 29.58],\n",
       "       [78.  , 12.  , 30.  , ..., 12.12, 14.67, 28.79],\n",
       "       [78.  , 12.  , 31.  , ..., 11.38, 12.08, 22.08]])"
      ]
     },
     "execution_count": 19,
     "metadata": {},
     "output_type": "execute_result"
    }
   ],
   "source": [
    "#Importar los datos\n",
    "import numpy as np\n",
    "from numpy import genfromtxt \n",
    "my_data = genfromtxt('datos/viento.csv')\n",
    "\n",
    "print(my_data.shape)\n",
    "my_data\n"
   ]
  },
  {
   "cell_type": "markdown",
   "metadata": {},
   "source": [
    "<div class=\"alert alert-success\">  \n",
    "    \n",
    "1. (Ejemplo)  Encuentre la velocidad de viento mínima, máxima, el promedio  y la desviación estándar para **el primer municipio durante todos los días** . \n",
    "\n",
    "</div> "
   ]
  },
  {
   "cell_type": "code",
   "execution_count": 20,
   "metadata": {},
   "outputs": [
    {
     "name": "stdout",
     "output_type": "stream",
     "text": [
      "velocidad de viento mínima: 0.67\n",
      "velocidad de viento máximo: 35.8\n",
      "Promedio: 12.363714633404323\n",
      "Desviación estándar: 5.619183006341271\n"
     ]
    }
   ],
   "source": [
    "\n",
    "\n",
    "\n",
    "columna = my_data[:, 3]\n",
    "\n",
    "\n",
    "v_minimo = np.min(columna)\n",
    "v_maximo = np.max(columna)\n",
    "v_promedio = np.mean(columna)\n",
    "v_desviacion_estandar = np.std(columna)\n",
    "\n",
    "print(f\"velocidad de viento mínima: {v_minimo}\")\n",
    "print(f\"velocidad de viento máximo: {v_maximo}\")\n",
    "print(f\"Promedio: {v_promedio}\")\n",
    "print(f\"Desviación estándar: {v_desviacion_estandar}\")\n",
    "\n"
   ]
  },
  {
   "cell_type": "markdown",
   "metadata": {},
   "source": [
    "<div class=\"alert alert-success\">   \n",
    "    \n",
    "2. ¿Cuantos elementos en total tiene, asi como número de filas y columnas en el arreglo *my_data* ?. \n",
    "    \n",
    "</div> "
   ]
  },
  {
   "cell_type": "code",
   "execution_count": 21,
   "metadata": {},
   "outputs": [
    {
     "name": "stdout",
     "output_type": "stream",
     "text": [
      "Número total de elementos: 98610\n",
      "Número de filas: 6574\n",
      "Número de columnas: 15\n"
     ]
    }
   ],
   "source": [
    "\n",
    "# Obtener las dimensiones del arreglo\n",
    "num_filas, num_columnas = my_data.shape\n",
    "num_elementos = my_data.size\n",
    "\n",
    "# Imprimir los resultados\n",
    "print(f\"Número total de elementos: {num_elementos}\")\n",
    "print(f\"Número de filas: {num_filas}\")\n",
    "print(f\"Número de columnas: {num_columnas}\")"
   ]
  },
  {
   "cell_type": "markdown",
   "metadata": {},
   "source": [
    "<div class=\"alert alert-success\">   \n",
    "    \n",
    "3.  Encuentre la velocidad de viento mínima, máxima, el promedio  y la desviación estándar  en **considerando todos los municipios y  durante todos los días** . \n",
    "    \n",
    "</div> \n",
    "\n",
    " "
   ]
  },
  {
   "cell_type": "code",
   "execution_count": 22,
   "metadata": {},
   "outputs": [
    {
     "name": "stdout",
     "output_type": "stream",
     "text": [
      "velocidad de viento mínima: 0.0\n",
      "velocidad de viento máximo: 42.54\n",
      "Promedio: 10.22837377040868\n",
      "Desviación estándar: 5.603840181095793\n"
     ]
    }
   ],
   "source": [
    "\n",
    "columna = my_data[:, 3:]\n",
    "\n",
    "\n",
    "v_minimo = np.min(columna)\n",
    "v_maximo = np.max(columna)\n",
    "v_promedio = np.mean(columna)\n",
    "v_desviacion_estandar = np.std(columna)\n",
    "\n",
    "print(f\"velocidad de viento mínima: {v_minimo}\")\n",
    "print(f\"velocidad de viento máximo: {v_maximo}\")\n",
    "print(f\"Promedio: {v_promedio}\")\n",
    "print(f\"Desviación estándar: {v_desviacion_estandar}\")"
   ]
  },
  {
   "cell_type": "markdown",
   "metadata": {},
   "source": [
    "<div class=\"alert alert-success\">   \n",
    "    \n",
    "4. Encuentre las velocidades de viento mínimas, máximas, promedios y las desviaciones estándar **en cada municipio durante todos los días**\n",
    "   \n",
    "</div> \n"
   ]
  },
  {
   "cell_type": "code",
   "execution_count": 23,
   "metadata": {},
   "outputs": [
    {
     "name": "stdout",
     "output_type": "stream",
     "text": [
      "velocidad de viento mínima del municipio 1 : 0.67\n",
      "velocidad de viento máximo del municipio 1 : 35.8\n",
      "Promedio del municipio 1 : 12.363714633404323\n",
      "Desviación estándar del municipio 1 : 5.619183006341271\n",
      " \n",
      "velocidad de viento mínima del municipio 2 : 0.21\n",
      "velocidad de viento máximo del municipio 2 : 33.37\n",
      "Promedio del municipio 2 : 10.646448128993002\n",
      "Desviación estándar del municipio 2 : 5.268200805471822\n",
      " \n",
      "velocidad de viento mínima del municipio 3 : 1.5\n",
      "velocidad de viento máximo del municipio 3 : 33.84\n",
      "Promedio del municipio 3 : 11.660103437785216\n",
      "Desviación estándar del municipio 3 : 5.007383774176851\n",
      " \n",
      "velocidad de viento mínima del municipio 4 : 0.0\n",
      "velocidad de viento máximo del municipio 4 : 28.46\n",
      "Promedio del municipio 4 : 6.306274718588379\n",
      "Desviación estándar del municipio 4 : 3.605133088517408\n",
      " \n",
      "velocidad de viento mínima del municipio 5 : 0.13\n",
      "velocidad de viento máximo del municipio 5 : 37.54\n",
      "Promedio del municipio 5 : 10.456880133860663\n",
      "Desviación estándar del municipio 5 : 4.935363328283329\n",
      " \n",
      "velocidad de viento mínima del municipio 6 : 0.0\n",
      "velocidad de viento máximo del municipio 6 : 26.16\n",
      "Promedio del municipio 6 : 7.092254335260115\n",
      "Desviación estándar del municipio 6 : 3.96838125699188\n",
      " \n",
      "velocidad de viento mínima del municipio 7 : 0.0\n",
      "velocidad de viento máximo del municipio 7 : 30.37\n",
      "Promedio del municipio 7 : 9.796834499543657\n",
      "Desviación estándar del municipio 7 : 4.976893738542981\n",
      " \n",
      "velocidad de viento mínima del municipio 8 : 0.0\n",
      "velocidad de viento máximo del municipio 8 : 31.08\n",
      "Promedio del municipio 8 : 8.494420444174018\n",
      "Desviación estándar del municipio 8 : 4.498657828809353\n",
      " \n",
      "velocidad de viento mínima del municipio 9 : 0.0\n",
      "velocidad de viento máximo del municipio 9 : 25.88\n",
      "Promedio del municipio 9 : 8.495818375418313\n",
      "Desviación estándar del municipio 9 : 4.16746100596694\n",
      " \n",
      "velocidad de viento mínima del municipio 10 : 0.04\n",
      "velocidad de viento máximo del municipio 10 : 28.21\n",
      "Promedio del municipio 10 : 8.707268025555218\n",
      "Desviación estándar del municipio 10 : 4.50327221957127\n",
      " \n",
      "velocidad de viento mínima del municipio 11 : 0.13\n",
      "velocidad de viento máximo del municipio 11 : 42.38\n",
      "Promedio del municipio 11 : 13.121006997261942\n",
      "Desviación estándar del municipio 11 : 5.834593187148443\n",
      " \n",
      "velocidad de viento mínima del municipio 12 : 0.67\n",
      "velocidad de viento máximo del municipio 12 : 42.54\n",
      "Promedio del municipio 12 : 15.599461515059325\n",
      "Desviación estándar del municipio 12 : 6.6973471912183715\n",
      " \n"
     ]
    }
   ],
   "source": [
    "for i in range(1, 13):\n",
    "    columna = my_data[:, 2+i]\n",
    "\n",
    "\n",
    "    v_minimo = np.min(columna)\n",
    "    v_maximo = np.max(columna)\n",
    "    v_promedio = np.mean(columna)\n",
    "    v_desviacion_estandar = np.std(columna)\n",
    "\n",
    "    print(f\"velocidad de viento mínima del municipio {i} : {v_minimo}\")\n",
    "    print(f\"velocidad de viento máximo del municipio {i} : {v_maximo}\")\n",
    "    print(f\"Promedio del municipio {i} : {v_promedio}\")\n",
    "    print(f\"Desviación estándar del municipio {i} : {v_desviacion_estandar}\")\n",
    "    print(\" \")"
   ]
  },
  {
   "cell_type": "markdown",
   "metadata": {},
   "source": [
    "<div class=\"alert alert-success\">   \n",
    "    \n",
    "5.  Encuentre el año, mes y día en que se registró la mayor velocidad del viento.    \n",
    "\n",
    "</div> "
   ]
  },
  {
   "cell_type": "code",
   "execution_count": 26,
   "metadata": {},
   "outputs": [
    {
     "name": "stdout",
     "output_type": "stream",
     "text": [
      "La mayor velocidad del viento fue registrada en el año 66.0, mes 12.0, día 2.0 con una velocidad de 42.54.\n"
     ]
    }
   ],
   "source": [
    "\n",
    "\n",
    "# Inicializar variables para almacenar el valor máximo y su índice\n",
    "valor_maximo = -np.inf\n",
    "indice_maximo = None\n",
    "\n",
    "# Iterar sobre cada municipio\n",
    "for i in range(1, 13):\n",
    "    columna = my_data[:, 2+i]\n",
    "\n",
    "    # Encontrar el valor máximo en la columna actual\n",
    "    max_columna = np.max(columna)\n",
    "    \n",
    "    # Si el valor máximo de esta columna es mayor que el valor máximo conocido, actualizar\n",
    "    if max_columna > valor_maximo:\n",
    "        valor_maximo = max_columna\n",
    "        indice_maximo = np.argmax(columna)\n",
    "\n",
    "# Obtener el año, mes y día del índice del valor máximo\n",
    "año_maximo = my_data[indice_maximo, 0]\n",
    "mes_maximo = my_data[indice_maximo, 1]\n",
    "día_maximo = my_data[indice_maximo, 2]\n",
    "\n",
    "# Imprimir el resultado\n",
    "print(f\"La mayor velocidad del viento fue registrada en el año {año_maximo}, mes {mes_maximo}, día {día_maximo} con una velocidad de {valor_maximo}.\")\n"
   ]
  },
  {
   "cell_type": "code",
   "execution_count": null,
   "metadata": {},
   "outputs": [],
   "source": []
  },
  {
   "cell_type": "code",
   "execution_count": null,
   "metadata": {},
   "outputs": [],
   "source": []
  }
 ],
 "metadata": {
  "kernelspec": {
   "display_name": "Python 3 (ipykernel)",
   "language": "python",
   "name": "python3"
  },
  "language_info": {
   "codemirror_mode": {
    "name": "ipython",
    "version": 3
   },
   "file_extension": ".py",
   "mimetype": "text/x-python",
   "name": "python",
   "nbconvert_exporter": "python",
   "pygments_lexer": "ipython3",
   "version": "3.10.11"
  }
 },
 "nbformat": 4,
 "nbformat_minor": 4
}
