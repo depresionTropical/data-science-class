{
 "cells": [
  {
   "cell_type": "markdown",
   "metadata": {},
   "source": [
    "<!--Información del curso-->\n",
    "<img align=\"left\" style=\"padding-right:10px;\" src=\"figuras/logo_ciencia_datos.png\">"
   ]
  },
  {
   "cell_type": "markdown",
   "metadata": {},
   "source": [
    "<center><h2 style=\"font-size:2em;color:#840700\">   Análisis exploratorio con Folium  </h4></center>"
   ]
  },
  {
   "cell_type": "markdown",
   "metadata": {},
   "source": [
    "<br><center><h1 style=\"font-size:2em;color:#2467C0\"> Visualización geoespacial con  Folium </h1></center>\n",
    "<table>\n",
    "<col width=\"550\">\n",
    "<col width=\"450\">\n",
    "<tr>\n",
    "<td><img src=\"figuras/MapaMerida.png\" align=\"middle\" style=\"width:550px\"/></td>\n",
    "<td>\n",
    "    \n",
    "    \n",
    "Folium (https://python-visualization.github.io/folium/) es una de las librerías más asequibles para análisis y representación geoespacial, por la sencillez de la sintaxis.\n",
    "    \n",
    "    \n",
    "Una de las características que más atrae es que no necesita convertir el DataFrame en un GeoDataFrame. Solo teniendo una serie con la latitud y otra serie con la longitud del punto espacial, es suficiente para que Folium lo represente en un mapa.\n",
    "\n",
    "</td>\n",
    "</tr>\n",
    "</table>"
   ]
  },
  {
   "cell_type": "markdown",
   "metadata": {},
   "source": [
    "# Folium"
   ]
  },
  {
   "cell_type": "markdown",
   "metadata": {},
   "source": [
    "_**Folium**_ es una poderosa biblioteca de visualización de datos en Python que se creó principalmente para ayudar a visualizar datos *geoespaciales*. Con Folium, se puede crear un mapa de cualquier lugar del mundo siempre que se conozcan sus valores de *latitud* y *longitud*. Además, los mapas creados por _**Folium**_ son de naturaleza interactiva, por lo que se puede acercar y alejar después de renderizar el mapa, lo cual es una característica muy útil."
   ]
  },
  {
   "cell_type": "markdown",
   "metadata": {},
   "source": [
    "# Configuración inicial"
   ]
  },
  {
   "cell_type": "markdown",
   "metadata": {},
   "source": [
    "Folium proporciona la clase ``folium.Map()`` que toma el parámetro de ubicación en términos de latitud y longitud, para generar un mapa a su alrededor. Entonces, tracemos un mapa de la ciudad de Merida con latitud y longitud como _21.0530 y -89.6332_ respectivamente:"
   ]
  },
  {
   "cell_type": "code",
   "execution_count": null,
   "metadata": {},
   "outputs": [],
   "source": [
    "import folium\n",
    "mapa = folium.Map(location=[21.0530, -89.6332])\n",
    "mapa"
   ]
  },
  {
   "cell_type": "markdown",
   "metadata": {},
   "source": [
    "Puede ver que estos mapas son interactivos. Puede acercar y alejar haciendo clic en los botones positivo y negativo en la esquina superior izquierda del mapa. También puede arrastrar el mapa y ver diferentes regiones.\n",
    "\n",
    "A continuación, pasemos al segundo problema y cambiemos el nivel de zoom. De forma predeterminada, puede acercar y alejar tanto como desee. Además, el nivel de zoom inicial se fija en 10 (el mapa se traza con un zoom de 10x).  Para hacer esto, Folium nos da tres parámetros: ``zoom_start``, ``min_zoom`` y ``max_zoom``.\n",
    "\n",
    "Entonces, tracemos nuevamente el mapa de Mérida pero esta vez de con un nivel de zoom desde el inicio:"
   ]
  },
  {
   "cell_type": "code",
   "execution_count": null,
   "metadata": {},
   "outputs": [],
   "source": [
    "mapa = folium.Map(location=[20.9785, -89.6332],zoom_start=12)\n",
    "mapa"
   ]
  },
  {
   "cell_type": "markdown",
   "metadata": {},
   "source": [
    "Ahora tracemos nuevamente el mapa de Mérida  con un nivel de zoom restringido:"
   ]
  },
  {
   "cell_type": "code",
   "execution_count": null,
   "metadata": {},
   "outputs": [],
   "source": [
    "mapa = folium.Map(location=[20.9785, -89.6332],zoom_start=12,min_zoom=10,max_zoom=13)\n",
    "mapa"
   ]
  },
  {
   "cell_type": "markdown",
   "metadata": {},
   "source": [
    "# Marcadores en el mapa"
   ]
  },
  {
   "cell_type": "markdown",
   "metadata": {},
   "source": [
    "Los marcadores son los elementos que se utilizan para marcar una ubicación en un mapa. Por ejemplo, cuando utiliza _Google Maps_ para la navegación, su ubicación se marca con un marcador y su destino se marca con otro marcador. Los marcadores se encuentran entre los elementos más importantes y útiles de un mapa.\n",
    "\n",
    "_**Folium**_ proporciona una clase  ``folium.Marker ()``  para trazar marcadores en un mapa. Simplemente pase la latitud y la longitud de la ubicación, mencione la ventana emergente y la información sobre herramientas y agréguela al mapa.\n",
    "\n",
    "Agregar marcadores es un proceso de dos pasos. Primero, debe crear un mapa base en el que se colocarán sus marcadores, y luego agregar sus marcadores. En el siguiente ejemplo se muestra su implementación junto con algunas opciones extras de visualización:\n"
   ]
  },
  {
   "cell_type": "code",
   "execution_count": null,
   "metadata": {},
   "outputs": [],
   "source": [
    "# Mapa de base\n",
    "mapa=folium.Map(location=[20.9785, -89.6332],zoom_start=12)\n",
    "# Agregar marcadores al mapa\n",
    "folium.Marker(location=[21.04829, -89.64025],popup='FIUADY').add_to(mapa)\n",
    "folium.Marker(location=[20.96972, -89.62272],popup='<strong>Edificio Central UADY</strong>',tooltip='<strong>Click here to see Popup</strong>').add_to(mapa)\n",
    "folium.Marker(location=[20.94167,-89.59466],popup='<h3 style=\"color:green;\">Estadio Kukulc&aacute;n</h3>',tooltip='<strong>Click here to see Popup</strong>').add_to(mapa)\n",
    "\n",
    "mapa"
   ]
  },
  {
   "cell_type": "markdown",
   "metadata": {},
   "source": [
    "En el mapa anteriorcuando pasa el cursor sobre un marcador el texto que aparece se conoce como ``tooltip`` (información sobre herramienta)  y el texto cuando hace clic en un marcador se conoce como una ``popup`` (ventana emergente). Si se observa detenidamente, se ha  personalizado la información  de los marcadores 2 y 3. \n"
   ]
  },
  {
   "cell_type": "markdown",
   "metadata": {},
   "source": [
    "## Marcadores personalizados"
   ]
  },
  {
   "cell_type": "markdown",
   "metadata": {},
   "source": [
    "Para mejorar la visualización puede cambiar el icono del marcador, Folium proporciona la clase ``folium.Icon()`` que se puede utilizar para crear iconos personalizados para marcadores. Puede elegir iconos entre una amplia gama de opciones.\n",
    "\n",
    "``Icon()`` toma tres argumentos: color, prefijo e icono. El color se utiliza para cambiar el color del marcador, el prefijo se utiliza para seleccionar el proveedor de iconos (prefix='fa' para https://fontawesome.com/icons?d=gallery&m=free y  prefix='glyphicon' para  https://getbootstrap.com/docs/3.3/components/) y el icono se utiliza para seleccionar el nombre del icono.\n",
    "\n"
   ]
  },
  {
   "cell_type": "code",
   "execution_count": null,
   "metadata": {},
   "outputs": [],
   "source": [
    "# Mapa de base\n",
    "mapa=folium.Map(location=[20.9785, -89.6332],zoom_start=12)\n",
    "# Agregar marcadores al mapa\n",
    "folium.Marker(location=[21.04829, -89.64025], popup='FIUADY',  \n",
    "             icon=folium.Icon(color='red',icon='none') ).add_to(mapa)\n",
    "\n",
    "folium.Marker(location=[20.96972, -89.62272],popup='<strong>Edificio Central UADY</strong>',\n",
    "              tooltip='<strong>Click here to see Popup</strong>',\n",
    "              icon=folium.Icon(color='green',prefix='fa',icon='crosshairs')     ).add_to(mapa)\n",
    "\n",
    "\n",
    "folium.Marker(location=[20.94167,-89.59466],popup='<h3 style=\"color:green;\">Estadio Kukulc&aacute;n</h3>',\n",
    "              tooltip='<strong>Click here to see Popup</strong>',\n",
    "              icon=folium.Icon(color='purple',prefix='glyphicon',icon='camera')   ).add_to(mapa)\n",
    "\n",
    "mapa"
   ]
  },
  {
   "cell_type": "markdown",
   "metadata": {},
   "source": [
    "## Marcadores  tipo circunferencia"
   ]
  },
  {
   "cell_type": "markdown",
   "metadata": {},
   "source": [
    "Se realiza mediante la función ``folium.Circle``. Cada circunferencia tiene un tamaño relacionado con un valor específico, a través del parametro ``radius`` (metros).  "
   ]
  },
  {
   "cell_type": "code",
   "execution_count": null,
   "metadata": {},
   "outputs": [],
   "source": [
    "mapa=folium.Map(location=[20.9785, -89.6332],zoom_start=12 )\n",
    "# Agregar marcadores al mapa\n",
    "folium.Marker(location=[21.04829, -89.64025], popup='FIUADY',  \n",
    "             icon=folium.Icon(color='red',icon='none') ).add_to(mapa)\n",
    "\n",
    "folium.Marker(location=[20.96972, -89.62272],popup='<strong>Edificio Central UADY</strong>',\n",
    "              tooltip='<strong>Click here to see Popup</strong>',\n",
    "              icon=folium.Icon(color='green',prefix='fa',icon='crosshairs')     ).add_to(mapa)\n",
    "\n",
    "\n",
    "folium.Marker(location=[20.94167,-89.59466],popup='<h3 style=\"color:green;\">Estadio Kukulc&aacute;n</h3>',\n",
    "              tooltip='<strong>Click here to see Popup</strong>',\n",
    "              icon=folium.Icon(color='purple',prefix='glyphicon',icon='camera')   ).add_to(mapa)\n",
    "\n",
    "\n",
    "folium.Circle(\n",
    "    radius=500,\n",
    "    location=[20.956972, -89.62272],\n",
    "    popup='Sur',\n",
    "    color='crimson',\n",
    "    fill=False,\n",
    ").add_to(mapa)\n",
    "\n",
    "folium.Circle(\n",
    "    location=[20.996972, -89.62272],\n",
    "    radius=1500,\n",
    "    popup='Norte',\n",
    "    color='#3186cc',\n",
    "    fill=True,\n",
    "    fill_color='#3186cc'\n",
    ").add_to(mapa)\n",
    "\n",
    "\n",
    "mapa"
   ]
  },
  {
   "cell_type": "markdown",
   "metadata": {},
   "source": [
    "# Estilo del mapa"
   ]
  },
  {
   "cell_type": "markdown",
   "metadata": {},
   "source": [
    "El estilo predeterminado se encuentra con la opción **OpenStreetMap**, pero tambien cuenta con  **CartoDB Positron** y  **CartoDB Voyager**"
   ]
  },
  {
   "cell_type": "markdown",
   "metadata": {},
   "source": [
    "### cartodb positron"
   ]
  },
  {
   "cell_type": "code",
   "execution_count": null,
   "metadata": {},
   "outputs": [],
   "source": [
    "# Mapa de base\n",
    "# Mapa de base\n",
    "mapa=folium.Map(location=[20.9785, -89.6332], tiles=\"cartodb positron\" ,zoom_start=12)\n",
    "\n",
    "#folium.TileLayer('Stamen Terrain').add_to(mapa)\n",
    "\n",
    "# Agregar marcadores al mapa\n",
    "folium.Marker(location=[21.04829, -89.64025], popup='FIUADY',  \n",
    "             icon=folium.Icon(color='red',icon='none') ).add_to(mapa)\n",
    "\n",
    "folium.Marker(location=[20.96972, -89.62272],popup='<strong>Edificio Central UADY</strong>',\n",
    "              tooltip='<strong>Click here to see Popup</strong>',\n",
    "              icon=folium.Icon(color='green',prefix='fa',icon='crosshairs')     ).add_to(mapa)\n",
    "\n",
    "\n",
    "folium.Marker(location=[20.94167,-89.59466],popup='<h3 style=\"color:green;\">Estadio Kukulc&aacute;n</h3>',\n",
    "              tooltip='<strong>Click here to see Popup</strong>',\n",
    "              icon=folium.Icon(color='purple',prefix='glyphicon',icon='camera')   ).add_to(mapa)\n",
    "\n",
    "folium.Circle(\n",
    "    radius=500,\n",
    "    location=[20.956972, -89.62272],\n",
    "    popup='Sur',\n",
    "    color='crimson',\n",
    "    fill=False,\n",
    ").add_to(mapa)\n",
    "\n",
    "folium.Circle(\n",
    "    location=[20.996972, -89.62272],\n",
    "    radius=1500,\n",
    "    popup='Norte',\n",
    "    color='#3186cc',\n",
    "    fill=True,\n",
    "    fill_color='#3186cc'\n",
    ").add_to(mapa)\n",
    "\n",
    "mapa"
   ]
  },
  {
   "cell_type": "markdown",
   "metadata": {},
   "source": [
    "### Cartodb dark_matter"
   ]
  },
  {
   "cell_type": "code",
   "execution_count": null,
   "metadata": {},
   "outputs": [],
   "source": [
    "# Mapa de base\n",
    "# Mapa de base\n",
    "mapa=folium.Map(location=[20.9785, -89.6332], tiles ='Cartodb dark_matter',  zoom_start=12)\n",
    "# Agregar marcadores al mapa\n",
    "folium.Marker(location=[21.04829, -89.64025], popup='FIUADY',  \n",
    "             icon=folium.Icon(color='red',icon='none') ).add_to(mapa)\n",
    "\n",
    "folium.Marker(location=[20.96972, -89.62272],popup='<strong>Edificio Central UADY</strong>',\n",
    "              tooltip='<strong>Click here to see Popup</strong>',\n",
    "              icon=folium.Icon(color='green',prefix='fa',icon='crosshairs')     ).add_to(mapa)\n",
    "\n",
    "\n",
    "folium.Marker(location=[20.94167,-89.59466],popup='<h3 style=\"color:green;\">Estadio Kukulc&aacute;n</h3>',\n",
    "              tooltip='<strong>Click here to see Popup</strong>',\n",
    "              icon=folium.Icon(color='purple',prefix='glyphicon',icon='camera')   ).add_to(mapa)\n",
    "\n",
    "folium.Circle(\n",
    "    radius=500,\n",
    "    location=[20.956972, -89.62272],\n",
    "    popup='Sur',\n",
    "    color='crimson',\n",
    "    fill=False,\n",
    ").add_to(mapa)\n",
    "\n",
    "folium.Circle(\n",
    "    location=[20.996972, -89.62272],\n",
    "    radius=1500,\n",
    "    popup='Norte',\n",
    "    color='#3186cc',\n",
    "    fill=True,\n",
    "    fill_color='#3186cc'\n",
    ").add_to(mapa)\n",
    "\n",
    "mapa"
   ]
  },
  {
   "cell_type": "code",
   "execution_count": null,
   "metadata": {},
   "outputs": [],
   "source": []
  },
  {
   "cell_type": "code",
   "execution_count": null,
   "metadata": {},
   "outputs": [],
   "source": []
  },
  {
   "cell_type": "code",
   "execution_count": null,
   "metadata": {},
   "outputs": [],
   "source": []
  },
  {
   "cell_type": "code",
   "execution_count": null,
   "metadata": {},
   "outputs": [],
   "source": []
  }
 ],
 "metadata": {
  "kernelspec": {
   "display_name": "Python 3 (ipykernel)",
   "language": "python",
   "name": "python3"
  },
  "language_info": {
   "codemirror_mode": {
    "name": "ipython",
    "version": 3
   },
   "file_extension": ".py",
   "mimetype": "text/x-python",
   "name": "python",
   "nbconvert_exporter": "python",
   "pygments_lexer": "ipython3",
   "version": "3.10.11"
  }
 },
 "nbformat": 4,
 "nbformat_minor": 4
}
