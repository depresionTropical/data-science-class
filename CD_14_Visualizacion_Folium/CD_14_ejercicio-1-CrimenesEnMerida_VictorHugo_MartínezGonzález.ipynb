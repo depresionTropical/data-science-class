{
 "cells": [
  {
   "cell_type": "markdown",
   "metadata": {},
   "source": [
    "<!--Información del curso-->\n",
    "<img align=\"left\" style=\"padding-right:10px;\" src=\"figuras/logo_ciencia_datos.png\">"
   ]
  },
  {
   "cell_type": "markdown",
   "metadata": {},
   "source": [
    "<br><br><center><h1 style=\"font-size:2em;color:#2467C0\"> Ejericicio 1: Crimenes en la ciudad de Mérida (Ficticio)  </h1></center>\n",
    "<br>\n",
    "<table>\n",
    "<col width=\"550\">\n",
    "<col width=\"450\">\n",
    "<tr>\n",
    "<td><img src=\"figuras/policia.jpeg\" align=\"middle\" style=\"width:550px\"/></td>\n",
    "<td>\n",
    "    \n",
    "La Fiscalía General del Estado informó que al día en promedio en Yucatán se registran ocho robos en sus diferentes modalidades, aunque la mayor parte de ellos, cerca del 80 por ciento, ocurre en Mérida.\n",
    "\n",
    "En esta ciudad, las zonas de mayor incidencia son el Poniente, Sur y Centro.\n",
    "\n",
    "Aunque los casos más sonados, de mayor cuantía en cuanto al botín y que han llamado la atención de los medios, se dijo que se han registrado en el Norte.\n",
    "    \n",
    "https://www.yucatan.com.mx/merida/merida-el-blanco-principal-de-los-robos\n",
    "    \n",
    " <br>\n",
    "</td>\n",
    "</tr>\n",
    "</table>"
   ]
  },
  {
   "cell_type": "markdown",
   "metadata": {},
   "source": [
    "# Ejercicio"
   ]
  },
  {
   "cell_type": "markdown",
   "metadata": {},
   "source": [
    "<div class=\"alert alert-success\">\n",
    "\n",
    "Con los datos del archivo \"asaltos_yucatan.csv\", mostrar en un mapa la ubicación de los delitos en Mérida, de ser posible muestre como _popup_ la categoría.\n",
    "\n",
    "    \n",
    "</div>"
   ]
  },
  {
   "cell_type": "code",
   "execution_count": null,
   "metadata": {},
   "outputs": [],
   "source": [
    "import pandas as pd\n",
    "import numpy as np\n",
    "import matplotlib.pyplot as plt"
   ]
  },
  {
   "cell_type": "code",
   "execution_count": null,
   "metadata": {},
   "outputs": [],
   "source": [
    "#Cargar el archivo datos/asaltos_yucatan.csv en un DataFrame llamado data\n",
    "# si es necesario usar la opcion encoding = \"ISO-8859-1\"\n",
    "data = pd.read_csv('datos/asaltos_yucatan.csv', encoding = \"ISO-8859-1\")"
   ]
  },
  {
   "cell_type": "code",
   "execution_count": null,
   "metadata": {},
   "outputs": [],
   "source": [
    "#Mostrar las primeras filas del DataFrame data\n",
    "data.head()"
   ]
  },
  {
   "cell_type": "code",
   "execution_count": null,
   "metadata": {},
   "outputs": [],
   "source": []
  },
  {
   "cell_type": "code",
   "execution_count": null,
   "metadata": {},
   "outputs": [],
   "source": []
  }
 ],
 "metadata": {
  "kernelspec": {
   "display_name": ".env",
   "language": "python",
   "name": "python3"
  },
  "language_info": {
   "codemirror_mode": {
    "name": "ipython",
    "version": 3
   },
   "file_extension": ".py",
   "mimetype": "text/x-python",
   "name": "python",
   "nbconvert_exporter": "python",
   "pygments_lexer": "ipython3",
   "version": "3.10.12"
  }
 },
 "nbformat": 4,
 "nbformat_minor": 4
}
