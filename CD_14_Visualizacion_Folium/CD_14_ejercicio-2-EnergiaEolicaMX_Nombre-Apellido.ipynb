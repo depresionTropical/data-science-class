{
 "cells": [
  {
   "cell_type": "markdown",
   "metadata": {},
   "source": [
    "<!--Información del curso-->\n",
    "<img align=\"left\" style=\"padding-right:10px;\" src=\"figuras/logo_ciencia_datos.png\">"
   ]
  },
  {
   "cell_type": "markdown",
   "metadata": {},
   "source": [
    "<br><br><center><h1 style=\"font-size:2em;color:#2467C0\"> Ejericicio 2: Energía Eólica  en México (Ficticio)</h1></center>\n",
    "<br>\n",
    "<table>\n",
    "<col width=\"550\">\n",
    "<col width=\"450\">\n",
    "<tr>\n",
    "<td><img src=\"figuras/viento.jpg\" align=\"middle\" style=\"width:350px\"/></td>\n",
    "<td>\n",
    "\n",
    "México es pionero regional en esta fuente de energía. El primer parque eólico mexicano y de América Latina se construyó en 1994 en La Venta, Oaxaca, originalmente como un proyecto prototipo. Cuenta con siete aerogeneradores de 225 kiloWatts.\n",
    "\n",
    "Actualmente, nuestro país cuenta con 50 centrales eoloeléctricas de acuerdo con datos de la Secretaría de Energía (Sener).\n",
    "\n",
    "Fuente: https://www.forbes.com.mx/mexico-tendra-10-plantas-eolicas-mas-al-cierre-de-2019/\n",
    "<br>\n",
    "</td>\n",
    "</tr>\n",
    "</table>"
   ]
  },
  {
   "cell_type": "markdown",
   "metadata": {},
   "source": [
    "# Ejercicio"
   ]
  },
  {
   "cell_type": "markdown",
   "metadata": {},
   "source": [
    "<div class=\"alert alert-success\">\n",
    "\n",
    "Con los datos del archivo \"recurso_eolico.xlsx\", mostrar en un mapa lo siguiente.\n",
    "\n",
    "1.  La ubicación de las diferentes plantas,  de ser posible muestre como _popup_ el nombre de la planta.\n",
    "2.  Encontrar la generación total por estado y mostrar con colores a los estados dependiendo de su producción (como en el ejemplo de la imagen superior)\n",
    "    \n",
    "\n",
    "    \n",
    "</div>"
   ]
  },
  {
   "cell_type": "code",
   "execution_count": null,
   "metadata": {},
   "outputs": [],
   "source": [
    "import pandas as pd\n",
    "import numpy as np\n",
    "import matplotlib.pyplot as plt\n",
    "import xlrd"
   ]
  },
  {
   "cell_type": "code",
   "execution_count": null,
   "metadata": {},
   "outputs": [],
   "source": [
    "# Instalar xlrd para lectura de datos de formato EXCEL\n",
    "# pip install xlrd\n",
    "# En caso de que no funcione probar : pip install openpyxl --upgrade\n",
    "data=pd.read_excel('datos/recurso_eolico.xlsx')  \n",
    "data.head()"
   ]
  },
  {
   "cell_type": "code",
   "execution_count": null,
   "metadata": {},
   "outputs": [],
   "source": []
  }
 ],
 "metadata": {
  "kernelspec": {
   "display_name": "Python 3 (ipykernel)",
   "language": "python",
   "name": "python3"
  },
  "language_info": {
   "codemirror_mode": {
    "name": "ipython",
    "version": 3
   },
   "file_extension": ".py",
   "mimetype": "text/x-python",
   "name": "python",
   "nbconvert_exporter": "python",
   "pygments_lexer": "ipython3",
   "version": "3.10.11"
  }
 },
 "nbformat": 4,
 "nbformat_minor": 4
}
