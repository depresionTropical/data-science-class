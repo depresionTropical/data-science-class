{
 "cells": [
  {
   "cell_type": "markdown",
   "metadata": {},
   "source": [
    "<!--Información del curso-->\n",
    "<img align=\"left\" style=\"padding-right:10px;\" src=\"figuras/logo_ciencia_datos.png\">"
   ]
  },
  {
   "cell_type": "markdown",
   "metadata": {},
   "source": [
    "<center><h1 style=\"font-size:2em;color:#2467C0\"> Pandas y GLOB  </h1></center>\n",
    "\n",
    "<center><h2 style=\"font-size:2em;color:#840700\">   Manipulación de archivos con GLOB </h4></center>\n",
    "\n",
    "<br>\n",
    "<table>\n",
    "<col width=\"250\">\n",
    "<col width=\"750\">\n",
    "<tr>\n",
    "<td><img src=\"figuras/glob.png\" align=\"left\" style=\"width:150px\"/></td>\n",
    "<td>\n",
    "\n",
    "La función **glob.glob()** devuelve una lista con las entradas que coincidan con el patrón especificado en *pathname*.\n",
    "\n",
    "**glob.glob( *pathname* , recursive=False)** \n",
    "    \n",
    "<br>\n",
    "</td>\n",
    "</tr>\n",
    "</table>"
   ]
  },
  {
   "cell_type": "markdown",
   "metadata": {},
   "source": [
    "## Integrantes\n",
    "\n",
    "Nombre 1:\n",
    "\n",
    "Nombre 2:"
   ]
  },
  {
   "cell_type": "markdown",
   "metadata": {},
   "source": [
    "# Librerías\n",
    "\n",
    "Cargando las bibliotecas que necesitamos \n"
   ]
  },
  {
   "cell_type": "code",
   "execution_count": 1,
   "metadata": {},
   "outputs": [],
   "source": [
    "import pandas as pd\n",
    "import numpy as np\n",
    "import matplotlib.pyplot as plt\n",
    "import glob"
   ]
  },
  {
   "cell_type": "markdown",
   "metadata": {},
   "source": [
    "## Mostrando todos los archivos de \"/datos\"\n",
    "\n",
    "La salida serán los archivos en forma de lista"
   ]
  },
  {
   "cell_type": "code",
   "execution_count": 2,
   "metadata": {},
   "outputs": [
    {
     "data": {
      "text/plain": [
       "['datos/semestre2c.csv',\n",
       " 'datos/semestre2a.csv',\n",
       " 'datos/semestre3b.csv',\n",
       " 'datos/semestre1b.csv',\n",
       " 'datos/semestres.txt',\n",
       " 'datos/informacion.txt',\n",
       " 'datos/semestre3a.csv',\n",
       " 'datos/semestre3c.csv',\n",
       " 'datos/semestre2b.csv',\n",
       " 'datos/semestre1a.csv',\n",
       " 'datos/Ventas',\n",
       " 'datos/semestre1c.csv']"
      ]
     },
     "execution_count": 2,
     "metadata": {},
     "output_type": "execute_result"
    }
   ],
   "source": [
    "# establecer ruta de búsqueda  \n",
    "path = 'datos'\n",
    "files = glob.glob(path + '/*')\n",
    "files"
   ]
  },
  {
   "cell_type": "markdown",
   "metadata": {},
   "source": [
    "## Mostrando  los archivos  **.txt** de \"/datos\"\n",
    "\n",
    "La salida serán los archivos .txt en forma de lista"
   ]
  },
  {
   "cell_type": "code",
   "execution_count": 3,
   "metadata": {},
   "outputs": [
    {
     "data": {
      "text/plain": [
       "['datos/semestres.txt', 'datos/informacion.txt']"
      ]
     },
     "execution_count": 3,
     "metadata": {},
     "output_type": "execute_result"
    }
   ],
   "source": [
    "# establecer ruta de búsqueda  \n",
    "# aquí queremos buscar archivos txt  \n",
    "path = 'datos'\n",
    "files = glob.glob(path + '/*.txt')\n",
    "files"
   ]
  },
  {
   "cell_type": "markdown",
   "metadata": {},
   "source": [
    "## Mostrando  los archivos .csv de \"/datos\"\n",
    "\n",
    "La salida serán los archivos .csv en forma de lista"
   ]
  },
  {
   "cell_type": "code",
   "execution_count": 4,
   "metadata": {},
   "outputs": [
    {
     "data": {
      "text/plain": [
       "['datos/semestre2c.csv',\n",
       " 'datos/semestre2a.csv',\n",
       " 'datos/semestre3b.csv',\n",
       " 'datos/semestre1b.csv',\n",
       " 'datos/semestre3a.csv',\n",
       " 'datos/semestre3c.csv',\n",
       " 'datos/semestre2b.csv',\n",
       " 'datos/semestre1a.csv',\n",
       " 'datos/semestre1c.csv']"
      ]
     },
     "execution_count": 4,
     "metadata": {},
     "output_type": "execute_result"
    }
   ],
   "source": [
    "# establecer ruta de búsqueda  \n",
    "# aquí queremos buscar archivos csv  \n",
    "path = 'datos'\n",
    "files = glob.glob(path + '/*.csv')\n",
    "files"
   ]
  },
  {
   "cell_type": "markdown",
   "metadata": {},
   "source": [
    "## Concatenando todos los archivos .csv para formar un dataframe\n"
   ]
  },
  {
   "cell_type": "code",
   "execution_count": 4,
   "metadata": {},
   "outputs": [
    {
     "name": "stdout",
     "output_type": "stream",
     "text": [
      "['datos/semestre2c.csv', 'datos/semestre2a.csv', 'datos/semestre3b.csv', 'datos/semestre1b.csv', 'datos/semestre3a.csv', 'datos/semestre3c.csv', 'datos/semestre2b.csv', 'datos/semestre1a.csv', 'datos/semestre1c.csv']\n",
      "(7, 5)\n",
      "(7, 5)\n",
      "(6, 5)\n",
      "(11, 5)\n",
      "(5, 5)\n",
      "(5, 5)\n",
      "(7, 5)\n",
      "(10, 5)\n",
      "(11, 5)\n",
      "final= (69, 5)\n"
     ]
    }
   ],
   "source": [
    "# establecer ruta de búsqueda  \n",
    "# aquí queremos buscar archivos csv  \n",
    "path = 'datos'\n",
    "files = glob.glob(path + '/*.csv')\n",
    "print(files)\n",
    "# crear una lista vacía para almacenar  los dataframes\n",
    "lista_dfs=[]\n",
    "# recorrer la lista de archivos para crear la lista de archivos \n",
    "for file in files:\n",
    "    temp_df = pd.read_csv(file)\n",
    "    print(temp_df.shape)\n",
    "    lista_dfs.append(temp_df)\n",
    "\n",
    "df = pd.concat(  lista_dfs, axis=0  )\n",
    "df.head()\n",
    "print('final=', df.shape)\n",
    "# concatenación\n"
   ]
  },
  {
   "cell_type": "code",
   "execution_count": 7,
   "metadata": {},
   "outputs": [
    {
     "data": {
      "text/html": [
       "<div>\n",
       "<style scoped>\n",
       "    .dataframe tbody tr th:only-of-type {\n",
       "        vertical-align: middle;\n",
       "    }\n",
       "\n",
       "    .dataframe tbody tr th {\n",
       "        vertical-align: top;\n",
       "    }\n",
       "\n",
       "    .dataframe thead th {\n",
       "        text-align: right;\n",
       "    }\n",
       "</style>\n",
       "<table border=\"1\" class=\"dataframe\">\n",
       "  <thead>\n",
       "    <tr style=\"text-align: right;\">\n",
       "      <th></th>\n",
       "      <th>NOMBRE</th>\n",
       "      <th>APELLIDO</th>\n",
       "      <th>CALIFICACION</th>\n",
       "      <th>CARRERA</th>\n",
       "      <th>CIUDAD</th>\n",
       "    </tr>\n",
       "  </thead>\n",
       "  <tbody>\n",
       "    <tr>\n",
       "      <th>0</th>\n",
       "      <td>ALVARO</td>\n",
       "      <td>ORTIZ</td>\n",
       "      <td>89</td>\n",
       "      <td>MECATRONICA</td>\n",
       "      <td>MERIDA</td>\n",
       "    </tr>\n",
       "    <tr>\n",
       "      <th>1</th>\n",
       "      <td>ISABEL</td>\n",
       "      <td>SANCHEZ</td>\n",
       "      <td>96</td>\n",
       "      <td>RENOVABLES</td>\n",
       "      <td>MERIDA</td>\n",
       "    </tr>\n",
       "    <tr>\n",
       "      <th>2</th>\n",
       "      <td>ANA</td>\n",
       "      <td>ALARCON</td>\n",
       "      <td>84</td>\n",
       "      <td>FISICA</td>\n",
       "      <td>PROGRESO</td>\n",
       "    </tr>\n",
       "    <tr>\n",
       "      <th>3</th>\n",
       "      <td>ANGEL</td>\n",
       "      <td>MORCILLO</td>\n",
       "      <td>98</td>\n",
       "      <td>MECATRONICA</td>\n",
       "      <td>MERIDA</td>\n",
       "    </tr>\n",
       "    <tr>\n",
       "      <th>4</th>\n",
       "      <td>JESUS</td>\n",
       "      <td>ORTEGA</td>\n",
       "      <td>74</td>\n",
       "      <td>MECATRONICA</td>\n",
       "      <td>MERIDA</td>\n",
       "    </tr>\n",
       "  </tbody>\n",
       "</table>\n",
       "</div>"
      ],
      "text/plain": [
       "   NOMBRE  APELLIDO  CALIFICACION      CARRERA    CIUDAD\n",
       "0  ALVARO     ORTIZ            89  MECATRONICA    MERIDA\n",
       "1  ISABEL   SANCHEZ            96   RENOVABLES    MERIDA\n",
       "2     ANA   ALARCON            84       FISICA  PROGRESO\n",
       "3   ANGEL  MORCILLO            98  MECATRONICA    MERIDA\n",
       "4   JESUS    ORTEGA            74  MECATRONICA    MERIDA"
      ]
     },
     "execution_count": 7,
     "metadata": {},
     "output_type": "execute_result"
    }
   ],
   "source": [
    "df.head()"
   ]
  },
  {
   "cell_type": "code",
   "execution_count": 9,
   "metadata": {},
   "outputs": [
    {
     "data": {
      "text/html": [
       "<div>\n",
       "<style scoped>\n",
       "    .dataframe tbody tr th:only-of-type {\n",
       "        vertical-align: middle;\n",
       "    }\n",
       "\n",
       "    .dataframe tbody tr th {\n",
       "        vertical-align: top;\n",
       "    }\n",
       "\n",
       "    .dataframe thead th {\n",
       "        text-align: right;\n",
       "    }\n",
       "</style>\n",
       "<table border=\"1\" class=\"dataframe\">\n",
       "  <thead>\n",
       "    <tr style=\"text-align: right;\">\n",
       "      <th></th>\n",
       "      <th>NOMBRE</th>\n",
       "      <th>APELLIDO</th>\n",
       "      <th>CALIFICACION</th>\n",
       "      <th>CARRERA</th>\n",
       "      <th>CIUDAD</th>\n",
       "    </tr>\n",
       "  </thead>\n",
       "  <tbody>\n",
       "    <tr>\n",
       "      <th>0</th>\n",
       "      <td>ALVARO</td>\n",
       "      <td>ORTIZ</td>\n",
       "      <td>89</td>\n",
       "      <td>MECATRONICA</td>\n",
       "      <td>MERIDA</td>\n",
       "    </tr>\n",
       "    <tr>\n",
       "      <th>1</th>\n",
       "      <td>ISABEL</td>\n",
       "      <td>SANCHEZ</td>\n",
       "      <td>96</td>\n",
       "      <td>RENOVABLES</td>\n",
       "      <td>MERIDA</td>\n",
       "    </tr>\n",
       "    <tr>\n",
       "      <th>2</th>\n",
       "      <td>ANA</td>\n",
       "      <td>ALARCON</td>\n",
       "      <td>84</td>\n",
       "      <td>FISICA</td>\n",
       "      <td>PROGRESO</td>\n",
       "    </tr>\n",
       "    <tr>\n",
       "      <th>3</th>\n",
       "      <td>ANGEL</td>\n",
       "      <td>MORCILLO</td>\n",
       "      <td>98</td>\n",
       "      <td>MECATRONICA</td>\n",
       "      <td>MERIDA</td>\n",
       "    </tr>\n",
       "    <tr>\n",
       "      <th>4</th>\n",
       "      <td>JESUS</td>\n",
       "      <td>ORTEGA</td>\n",
       "      <td>74</td>\n",
       "      <td>MECATRONICA</td>\n",
       "      <td>MERIDA</td>\n",
       "    </tr>\n",
       "    <tr>\n",
       "      <th>...</th>\n",
       "      <td>...</td>\n",
       "      <td>...</td>\n",
       "      <td>...</td>\n",
       "      <td>...</td>\n",
       "      <td>...</td>\n",
       "    </tr>\n",
       "    <tr>\n",
       "      <th>6</th>\n",
       "      <td>JOSEFA</td>\n",
       "      <td>LOPEZ</td>\n",
       "      <td>98</td>\n",
       "      <td>MECATRONICA</td>\n",
       "      <td>MERIDA</td>\n",
       "    </tr>\n",
       "    <tr>\n",
       "      <th>7</th>\n",
       "      <td>LUIS</td>\n",
       "      <td>ALFARO</td>\n",
       "      <td>65</td>\n",
       "      <td>FISICA</td>\n",
       "      <td>MERIDA</td>\n",
       "    </tr>\n",
       "    <tr>\n",
       "      <th>8</th>\n",
       "      <td>ALBERTO</td>\n",
       "      <td>PEREZ</td>\n",
       "      <td>63</td>\n",
       "      <td>MECATRONICA</td>\n",
       "      <td>MERIDA</td>\n",
       "    </tr>\n",
       "    <tr>\n",
       "      <th>9</th>\n",
       "      <td>FRANCISCO</td>\n",
       "      <td>PECH</td>\n",
       "      <td>96</td>\n",
       "      <td>FISICA</td>\n",
       "      <td>MERIDA</td>\n",
       "    </tr>\n",
       "    <tr>\n",
       "      <th>10</th>\n",
       "      <td>ANA</td>\n",
       "      <td>NAVARRO</td>\n",
       "      <td>59</td>\n",
       "      <td>MECATRONICA</td>\n",
       "      <td>MERIDA</td>\n",
       "    </tr>\n",
       "  </tbody>\n",
       "</table>\n",
       "<p>69 rows × 5 columns</p>\n",
       "</div>"
      ],
      "text/plain": [
       "       NOMBRE  APELLIDO  CALIFICACION      CARRERA    CIUDAD\n",
       "0      ALVARO     ORTIZ            89  MECATRONICA    MERIDA\n",
       "1      ISABEL   SANCHEZ            96   RENOVABLES    MERIDA\n",
       "2         ANA   ALARCON            84       FISICA  PROGRESO\n",
       "3       ANGEL  MORCILLO            98  MECATRONICA    MERIDA\n",
       "4       JESUS    ORTEGA            74  MECATRONICA    MERIDA\n",
       "..        ...       ...           ...          ...       ...\n",
       "6      JOSEFA     LOPEZ            98  MECATRONICA    MERIDA\n",
       "7        LUIS    ALFARO            65       FISICA    MERIDA\n",
       "8     ALBERTO     PEREZ            63  MECATRONICA    MERIDA\n",
       "9   FRANCISCO      PECH            96       FISICA    MERIDA\n",
       "10        ANA   NAVARRO            59  MECATRONICA    MERIDA\n",
       "\n",
       "[69 rows x 5 columns]"
      ]
     },
     "execution_count": 9,
     "metadata": {},
     "output_type": "execute_result"
    }
   ],
   "source": [
    "df"
   ]
  },
  {
   "cell_type": "markdown",
   "metadata": {},
   "source": [
    "## Concatenando los archivos .csv del primer semestre \n",
    "\n",
    "El comodín * representa desde nada, hasta cualquier cantidad de caracteres y dígitos"
   ]
  },
  {
   "cell_type": "code",
   "execution_count": 10,
   "metadata": {},
   "outputs": [
    {
     "name": "stdout",
     "output_type": "stream",
     "text": [
      "['datos/semestre1b.csv', 'datos/semestre1a.csv', 'datos/semestre1c.csv']\n",
      "(11, 5)\n",
      "(10, 5)\n",
      "(11, 5)\n",
      "final= (32, 5)\n"
     ]
    }
   ],
   "source": [
    "# establecer ruta de búsqueda  \n",
    "# aquí queremos buscar archivos csv  \n",
    "path = 'datos'\n",
    "files = glob.glob(path + '/semestre1?.csv')\n",
    "print(files)\n",
    "lista_dfs=[]\n",
    "# recorrer la lista de archivos para crear la lista de archivos \n",
    "for file in files:\n",
    "    temp_df = pd.read_csv(file)\n",
    "    print(temp_df.shape)\n",
    "    lista_dfs.append(temp_df)\n",
    "\n",
    "df = pd.concat(  lista_dfs, axis=0  )\n",
    "df.head()\n",
    "print('final=', df.shape)\n",
    "# concatenación\n",
    "\n"
   ]
  },
  {
   "cell_type": "markdown",
   "metadata": {},
   "source": [
    "## Concatenando los archivos .csv del primer y segundo semestre \n",
    "\n",
    "El comodín **[ ]**  representa un rango,  ya sea de caracteres o de números. "
   ]
  },
  {
   "cell_type": "code",
   "execution_count": 11,
   "metadata": {},
   "outputs": [
    {
     "name": "stdout",
     "output_type": "stream",
     "text": [
      "['datos/semestre2c.csv', 'datos/semestre2a.csv', 'datos/semestre1b.csv', 'datos/semestre2b.csv', 'datos/semestre1a.csv', 'datos/semestre1c.csv']\n",
      "(7, 5)\n",
      "(7, 5)\n",
      "(11, 5)\n",
      "(7, 5)\n",
      "(10, 5)\n",
      "(11, 5)\n",
      "final= (53, 5)\n"
     ]
    }
   ],
   "source": [
    "# establecer ruta de búsqueda  \n",
    "# aquí queremos buscar archivos csv  \n",
    "path = 'datos'\n",
    "files = glob.glob(path + '/semestre[1-2]*.csv')\n",
    "print(files)\n",
    "lista_dfs=[]\n",
    "# recorrer la lista de archivos para crear la lista de archivos \n",
    "for file in files:\n",
    "    temp_df = pd.read_csv(file)\n",
    "    print(temp_df.shape)\n",
    "    lista_dfs.append(temp_df)\n",
    "\n",
    "df = pd.concat(  lista_dfs, axis=0  )\n",
    "df.head()\n",
    "print('final=', df.shape)\n",
    "# concatenación\n"
   ]
  },
  {
   "cell_type": "markdown",
   "metadata": {},
   "source": [
    "## Concatenando los archivos .csv de los grupos \"a\"\n",
    "El comodín **?** Representa un único carácter."
   ]
  },
  {
   "cell_type": "code",
   "execution_count": 12,
   "metadata": {},
   "outputs": [
    {
     "name": "stdout",
     "output_type": "stream",
     "text": [
      "['datos/semestre2a.csv', 'datos/semestre3a.csv', 'datos/semestre1a.csv']\n",
      "(7, 5)\n",
      "(5, 5)\n",
      "(10, 5)\n",
      "final= (22, 5)\n"
     ]
    }
   ],
   "source": [
    "# establecer ruta de búsqueda  \n",
    "# aquí queremos buscar archivos csv  \n",
    "path = 'datos'\n",
    "files = glob.glob(path + '/semestre?a.csv')\n",
    "print(files)\n",
    "lista_dfs=[]\n",
    "# recorrer la lista de archivos para crear la lista de archivos \n",
    "for file in files:\n",
    "    temp_df = pd.read_csv(file)\n",
    "    print(temp_df.shape)\n",
    "    lista_dfs.append(temp_df)\n",
    "\n",
    "df = pd.concat(  lista_dfs, axis=0  )\n",
    "df.head()\n",
    "print('final=', df.shape)\n",
    "# concatenación\n"
   ]
  },
  {
   "cell_type": "markdown",
   "metadata": {},
   "source": [
    "## Concatenando los archivos .csv de los grupos \"a\" y \"b\"\n",
    "\n",
    "El comodín **[ ]**  representa un rango,  ya sea de caracteres o de números. "
   ]
  },
  {
   "cell_type": "code",
   "execution_count": 13,
   "metadata": {},
   "outputs": [
    {
     "name": "stdout",
     "output_type": "stream",
     "text": [
      "['datos/semestre2a.csv', 'datos/semestre3b.csv', 'datos/semestre1b.csv', 'datos/semestre3a.csv', 'datos/semestre2b.csv', 'datos/semestre1a.csv']\n",
      "(7, 5)\n",
      "(6, 5)\n",
      "(11, 5)\n",
      "(5, 5)\n",
      "(7, 5)\n",
      "(10, 5)\n",
      "final= (46, 5)\n"
     ]
    }
   ],
   "source": [
    "# establecer ruta de búsqueda  \n",
    "# aquí queremos buscar archivos csv  \n",
    "path = 'datos'\n",
    "files = glob.glob(path + '/semestre?[a-b].csv')\n",
    "print(files)\n",
    "lista_dfs=[]\n",
    "# recorrer la lista de archivos para crear la lista de archivos \n",
    "for file in files:\n",
    "    temp_df = pd.read_csv(file)\n",
    "    print(temp_df.shape)\n",
    "    lista_dfs.append(temp_df)\n",
    "\n",
    "df = pd.concat(  lista_dfs, axis=0  )\n",
    "df.head()\n",
    "print('final=', df.shape)\n",
    "# concatenación\n"
   ]
  },
  {
   "cell_type": "markdown",
   "metadata": {},
   "source": [
    "# TAREA"
   ]
  },
  {
   "cell_type": "markdown",
   "metadata": {},
   "source": [
    "<div class=\"alert alert-success\">\n",
    "<b>EJERCICIO 1: Concatenar todos los archivos  .csv  </b>:\n",
    "\n",
    " <ul>\n",
    "  <li> a) Encontrar el promedio y   desviación estándar  </li>\n",
    "  <li> b) Datos del estudiante(s) con la calificación más alta </li>   \n",
    "  <li> c) Datos del estudiante(s) con la calificación más baja </li>  \n",
    "  <li> d) El nombre que más se repite </li>  \n",
    "  <li> e) El apellido que más se repite </li>       \n",
    "     \n",
    "</ul>\n",
    "</div>"
   ]
  },
  {
   "cell_type": "code",
   "execution_count": 7,
   "metadata": {},
   "outputs": [
    {
     "name": "stdout",
     "output_type": "stream",
     "text": [
      "['datos/semestre2c.csv', 'datos/semestre2a.csv', 'datos/semestre3b.csv', 'datos/semestre1b.csv', 'datos/semestre3a.csv', 'datos/semestre3c.csv', 'datos/semestre2b.csv', 'datos/semestre1a.csv', 'datos/semestre1c.csv']\n"
     ]
    }
   ],
   "source": [
    "path = 'datos'\n",
    "files = glob.glob(path + '/*.csv')\n",
    "print(files)\n",
    "# crear una lista vacía para almacenar  los dataframes\n",
    "lista_dfs=[]\n",
    "# recorrer la lista de archivos para crear la lista de archivos \n",
    "for file in files:\n",
    "    temp_df = pd.read_csv(file)\n",
    "    # print(temp_df.shape)\n",
    "    lista_dfs.append(temp_df)\n",
    "\n",
    "df = pd.concat(  lista_dfs, axis=0  )"
   ]
  },
  {
   "cell_type": "code",
   "execution_count": 46,
   "metadata": {},
   "outputs": [
    {
     "name": "stdout",
     "output_type": "stream",
     "text": [
      "Promedio y desviación estándar de calificaciones\n",
      "promedio de calificaciones=81.72\n",
      "desviación estándar de calificaciones=18.72\n"
     ]
    }
   ],
   "source": [
    "print('Promedio y desviación estándar de calificaciones')\n",
    "print(f'promedio de calificaciones={df.CALIFICACION.mean():.2f}')\n",
    "print(f'desviación estándar de calificaciones={df.CALIFICACION.std():.2f}')"
   ]
  },
  {
   "cell_type": "code",
   "execution_count": 53,
   "metadata": {},
   "outputs": [
    {
     "name": "stdout",
     "output_type": "stream",
     "text": [
      "Datos del alumo con la calificación más alta\n"
     ]
    },
    {
     "data": {
      "text/html": [
       "<div>\n",
       "<style scoped>\n",
       "    .dataframe tbody tr th:only-of-type {\n",
       "        vertical-align: middle;\n",
       "    }\n",
       "\n",
       "    .dataframe tbody tr th {\n",
       "        vertical-align: top;\n",
       "    }\n",
       "\n",
       "    .dataframe thead th {\n",
       "        text-align: right;\n",
       "    }\n",
       "</style>\n",
       "<table border=\"1\" class=\"dataframe\">\n",
       "  <thead>\n",
       "    <tr style=\"text-align: right;\">\n",
       "      <th></th>\n",
       "      <th>NOMBRE</th>\n",
       "      <th>APELLIDO</th>\n",
       "      <th>CALIFICACION</th>\n",
       "      <th>CARRERA</th>\n",
       "      <th>CIUDAD</th>\n",
       "    </tr>\n",
       "  </thead>\n",
       "  <tbody>\n",
       "    <tr>\n",
       "      <th>0</th>\n",
       "      <td>JUAN</td>\n",
       "      <td>BALAM</td>\n",
       "      <td>100</td>\n",
       "      <td>FISICA</td>\n",
       "      <td>MOTUL</td>\n",
       "    </tr>\n",
       "    <tr>\n",
       "      <th>1</th>\n",
       "      <td>RICK</td>\n",
       "      <td>SANCHEZ</td>\n",
       "      <td>100</td>\n",
       "      <td>FISICA</td>\n",
       "      <td>MERIDA</td>\n",
       "    </tr>\n",
       "  </tbody>\n",
       "</table>\n",
       "</div>"
      ],
      "text/plain": [
       "  NOMBRE APELLIDO  CALIFICACION CARRERA  CIUDAD\n",
       "0   JUAN    BALAM           100  FISICA   MOTUL\n",
       "1   RICK  SANCHEZ           100  FISICA  MERIDA"
      ]
     },
     "execution_count": 53,
     "metadata": {},
     "output_type": "execute_result"
    }
   ],
   "source": [
    "print('Datos del alumo con la calificación más alta')\n",
    "df = df.sort_values(by='CALIFICACION', ascending=False).reset_index(drop=True)\n",
    "df.iloc[0:2,:]"
   ]
  },
  {
   "cell_type": "code",
   "execution_count": 54,
   "metadata": {},
   "outputs": [
    {
     "name": "stdout",
     "output_type": "stream",
     "text": [
      "Datos del alumo con la calificación más baja\n"
     ]
    },
    {
     "data": {
      "text/html": [
       "<div>\n",
       "<style scoped>\n",
       "    .dataframe tbody tr th:only-of-type {\n",
       "        vertical-align: middle;\n",
       "    }\n",
       "\n",
       "    .dataframe tbody tr th {\n",
       "        vertical-align: top;\n",
       "    }\n",
       "\n",
       "    .dataframe thead th {\n",
       "        text-align: right;\n",
       "    }\n",
       "</style>\n",
       "<table border=\"1\" class=\"dataframe\">\n",
       "  <thead>\n",
       "    <tr style=\"text-align: right;\">\n",
       "      <th></th>\n",
       "      <th>NOMBRE</th>\n",
       "      <th>APELLIDO</th>\n",
       "      <th>CALIFICACION</th>\n",
       "      <th>CARRERA</th>\n",
       "      <th>CIUDAD</th>\n",
       "    </tr>\n",
       "  </thead>\n",
       "  <tbody>\n",
       "    <tr>\n",
       "      <th>0</th>\n",
       "      <td>VICENTE</td>\n",
       "      <td>CABALLERO</td>\n",
       "      <td>8</td>\n",
       "      <td>MECATRONICA</td>\n",
       "      <td>MERIDA</td>\n",
       "    </tr>\n",
       "  </tbody>\n",
       "</table>\n",
       "</div>"
      ],
      "text/plain": [
       "    NOMBRE   APELLIDO  CALIFICACION      CARRERA  CIUDAD\n",
       "0  VICENTE  CABALLERO             8  MECATRONICA  MERIDA"
      ]
     },
     "execution_count": 54,
     "metadata": {},
     "output_type": "execute_result"
    }
   ],
   "source": [
    "print('Datos del alumo con la calificación más baja')\n",
    "df = df.sort_values(by='CALIFICACION', ascending=True).reset_index(drop=True)\n",
    "df.iloc[0:1,:]"
   ]
  },
  {
   "cell_type": "code",
   "execution_count": 55,
   "metadata": {},
   "outputs": [
    {
     "name": "stdout",
     "output_type": "stream",
     "text": [
      "El nombre que más se repite\n"
     ]
    },
    {
     "data": {
      "text/plain": [
       "NOMBRE\n",
       "PEDRO    4\n",
       "Name: count, dtype: int64"
      ]
     },
     "execution_count": 55,
     "metadata": {},
     "output_type": "execute_result"
    }
   ],
   "source": [
    "print('El nombre que más se repite')\n",
    "df.NOMBRE.value_counts().head(1)"
   ]
  },
  {
   "cell_type": "code",
   "execution_count": 58,
   "metadata": {},
   "outputs": [
    {
     "name": "stdout",
     "output_type": "stream",
     "text": [
      "El apellido que más se repite\n"
     ]
    },
    {
     "data": {
      "text/plain": [
       "APELLIDO\n",
       "MAY    4\n",
       "Name: count, dtype: int64"
      ]
     },
     "execution_count": 58,
     "metadata": {},
     "output_type": "execute_result"
    }
   ],
   "source": [
    "print('El apellido que más se repite')\n",
    "df.APELLIDO.value_counts().head(1)\n"
   ]
  },
  {
   "cell_type": "markdown",
   "metadata": {},
   "source": [
    "<div class=\"alert alert-success\">\n",
    "<b>EJERCICIO 2: Concatenar todos los archivos  .csv del primer semestre </b>:\n",
    "\n",
    " <ul>\n",
    "  <li> a) Encontrar el promedio y   desviación estándar  </li>\n",
    "  <li> b) Datos del estudiante(s) con la calificación más alta </li>   \n",
    "  <li> c) Datos del estudiante(s) con la calificación más baja </li>   \n",
    "</ul>\n",
    "</div>"
   ]
  },
  {
   "cell_type": "code",
   "execution_count": 60,
   "metadata": {},
   "outputs": [
    {
     "name": "stdout",
     "output_type": "stream",
     "text": [
      "['datos/semestre1b.csv', 'datos/semestre1a.csv', 'datos/semestre1c.csv']\n"
     ]
    }
   ],
   "source": [
    "path = 'datos'\n",
    "files = glob.glob(path + '/semestre1?.csv')\n",
    "print(files)\n",
    "# crear una lista vacía para almacenar  los dataframes\n",
    "lista_dfs=[]\n",
    "# recorrer la lista de archivos para crear la lista de archivos \n",
    "for file in files:\n",
    "    temp_df = pd.read_csv(file)\n",
    "    # print(temp_df.shape)\n",
    "    lista_dfs.append(temp_df)\n",
    "\n",
    "df = pd.concat(  lista_dfs, axis=0  )\n"
   ]
  },
  {
   "cell_type": "code",
   "execution_count": 61,
   "metadata": {},
   "outputs": [
    {
     "name": "stdout",
     "output_type": "stream",
     "text": [
      "Promedio y desviación estándar de calificaciones\n",
      "promedio de calificaciones=78.34\n",
      "desviación estándar de calificaciones=20.06\n"
     ]
    }
   ],
   "source": [
    "print('Promedio y desviación estándar de calificaciones')\n",
    "print(f'promedio de calificaciones={df.CALIFICACION.mean():.2f}')\n",
    "print(f'desviación estándar de calificaciones={df.CALIFICACION.std():.2f}')"
   ]
  },
  {
   "cell_type": "code",
   "execution_count": 66,
   "metadata": {},
   "outputs": [
    {
     "name": "stdout",
     "output_type": "stream",
     "text": [
      "Datos del alumo con la calificación más alta\n"
     ]
    },
    {
     "data": {
      "text/html": [
       "<div>\n",
       "<style scoped>\n",
       "    .dataframe tbody tr th:only-of-type {\n",
       "        vertical-align: middle;\n",
       "    }\n",
       "\n",
       "    .dataframe tbody tr th {\n",
       "        vertical-align: top;\n",
       "    }\n",
       "\n",
       "    .dataframe thead th {\n",
       "        text-align: right;\n",
       "    }\n",
       "</style>\n",
       "<table border=\"1\" class=\"dataframe\">\n",
       "  <thead>\n",
       "    <tr style=\"text-align: right;\">\n",
       "      <th></th>\n",
       "      <th>NOMBRE</th>\n",
       "      <th>APELLIDO</th>\n",
       "      <th>CALIFICACION</th>\n",
       "      <th>CARRERA</th>\n",
       "      <th>CIUDAD</th>\n",
       "    </tr>\n",
       "  </thead>\n",
       "  <tbody>\n",
       "    <tr>\n",
       "      <th>0</th>\n",
       "      <td>JUAN</td>\n",
       "      <td>BALAM</td>\n",
       "      <td>100</td>\n",
       "      <td>FISICA</td>\n",
       "      <td>MOTUL</td>\n",
       "    </tr>\n",
       "  </tbody>\n",
       "</table>\n",
       "</div>"
      ],
      "text/plain": [
       "  NOMBRE APELLIDO  CALIFICACION CARRERA CIUDAD\n",
       "0   JUAN    BALAM           100  FISICA  MOTUL"
      ]
     },
     "execution_count": 66,
     "metadata": {},
     "output_type": "execute_result"
    }
   ],
   "source": [
    "print('Datos del alumo con la calificación más alta')\n",
    "df = df.sort_values(by='CALIFICACION', ascending=False).reset_index(drop=True)\n",
    "df.iloc[0:1,:]"
   ]
  },
  {
   "cell_type": "code",
   "execution_count": 65,
   "metadata": {},
   "outputs": [
    {
     "name": "stdout",
     "output_type": "stream",
     "text": [
      "Datos del alumo con la calificación más baja\n"
     ]
    },
    {
     "data": {
      "text/html": [
       "<div>\n",
       "<style scoped>\n",
       "    .dataframe tbody tr th:only-of-type {\n",
       "        vertical-align: middle;\n",
       "    }\n",
       "\n",
       "    .dataframe tbody tr th {\n",
       "        vertical-align: top;\n",
       "    }\n",
       "\n",
       "    .dataframe thead th {\n",
       "        text-align: right;\n",
       "    }\n",
       "</style>\n",
       "<table border=\"1\" class=\"dataframe\">\n",
       "  <thead>\n",
       "    <tr style=\"text-align: right;\">\n",
       "      <th></th>\n",
       "      <th>NOMBRE</th>\n",
       "      <th>APELLIDO</th>\n",
       "      <th>CALIFICACION</th>\n",
       "      <th>CARRERA</th>\n",
       "      <th>CIUDAD</th>\n",
       "    </tr>\n",
       "  </thead>\n",
       "  <tbody>\n",
       "    <tr>\n",
       "      <th>0</th>\n",
       "      <td>MANUEL</td>\n",
       "      <td>RODENAS</td>\n",
       "      <td>12</td>\n",
       "      <td>RENOVABLES</td>\n",
       "      <td>MERIDA</td>\n",
       "    </tr>\n",
       "  </tbody>\n",
       "</table>\n",
       "</div>"
      ],
      "text/plain": [
       "   NOMBRE APELLIDO  CALIFICACION     CARRERA  CIUDAD\n",
       "0  MANUEL  RODENAS            12  RENOVABLES  MERIDA"
      ]
     },
     "execution_count": 65,
     "metadata": {},
     "output_type": "execute_result"
    }
   ],
   "source": [
    "print('Datos del alumo con la calificación más baja')\n",
    "df = df.sort_values(by='CALIFICACION', ascending=True).reset_index(drop=True)\n",
    "df.iloc[0:1,:]"
   ]
  },
  {
   "cell_type": "markdown",
   "metadata": {},
   "source": [
    "<div class=\"alert alert-success\">\n",
    "<b>EJERCICIO 3: Concatenar todos los archivos .csv de los grupos \"c\", es decir semestre1c, semestre2c y semestre3c </b>:\n",
    "\n",
    " <ul>\n",
    "  <li> a) Encontrar el promedio y   desviación estándar  </li>\n",
    "  <li> b) Datos del estudiante(s) con la calificación más alta </li>   \n",
    "  <li> c) Datos del estudiante(s) con la calificación más baja </li>   \n",
    "</ul>\n",
    "</div>"
   ]
  },
  {
   "cell_type": "code",
   "execution_count": 69,
   "metadata": {},
   "outputs": [
    {
     "name": "stdout",
     "output_type": "stream",
     "text": [
      "['datos/semestre2c.csv', 'datos/semestre3c.csv', 'datos/semestre1c.csv']\n"
     ]
    }
   ],
   "source": [
    "path = 'datos'\n",
    "files = glob.glob(path + '/semestre?c.csv')\n",
    "print(files)\n",
    "lista_dfs=[]\n",
    "# recorrer la lista de archivos para crear la lista de archivos \n",
    "for file in files:\n",
    "    temp_df = pd.read_csv(file)\n",
    "    lista_dfs.append(temp_df)\n",
    "\n",
    "df = pd.concat(  lista_dfs, axis=0  , ignore_index=True)\n",
    "\n"
   ]
  },
  {
   "cell_type": "code",
   "execution_count": 71,
   "metadata": {},
   "outputs": [
    {
     "name": "stdout",
     "output_type": "stream",
     "text": [
      "Promedio y desviación estándar de calificaciones\n",
      "promedio de calificaciones=84.09\n",
      "desviación estándar de calificaciones=20.68\n"
     ]
    }
   ],
   "source": [
    "print('Promedio y desviación estándar de calificaciones')\n",
    "print(f'promedio de calificaciones={df.CALIFICACION.mean():.2f}')\n",
    "print(f'desviación estándar de calificaciones={df.CALIFICACION.std():.2f}')"
   ]
  },
  {
   "cell_type": "code",
   "execution_count": 72,
   "metadata": {},
   "outputs": [
    {
     "name": "stdout",
     "output_type": "stream",
     "text": [
      "Datos del alumo con la calificación más alta\n"
     ]
    },
    {
     "data": {
      "text/html": [
       "<div>\n",
       "<style scoped>\n",
       "    .dataframe tbody tr th:only-of-type {\n",
       "        vertical-align: middle;\n",
       "    }\n",
       "\n",
       "    .dataframe tbody tr th {\n",
       "        vertical-align: top;\n",
       "    }\n",
       "\n",
       "    .dataframe thead th {\n",
       "        text-align: right;\n",
       "    }\n",
       "</style>\n",
       "<table border=\"1\" class=\"dataframe\">\n",
       "  <thead>\n",
       "    <tr style=\"text-align: right;\">\n",
       "      <th></th>\n",
       "      <th>NOMBRE</th>\n",
       "      <th>APELLIDO</th>\n",
       "      <th>CALIFICACION</th>\n",
       "      <th>CARRERA</th>\n",
       "      <th>CIUDAD</th>\n",
       "    </tr>\n",
       "  </thead>\n",
       "  <tbody>\n",
       "    <tr>\n",
       "      <th>0</th>\n",
       "      <td>RICK</td>\n",
       "      <td>SANCHEZ</td>\n",
       "      <td>100</td>\n",
       "      <td>FISICA</td>\n",
       "      <td>MERIDA</td>\n",
       "    </tr>\n",
       "  </tbody>\n",
       "</table>\n",
       "</div>"
      ],
      "text/plain": [
       "  NOMBRE APELLIDO  CALIFICACION CARRERA  CIUDAD\n",
       "0   RICK  SANCHEZ           100  FISICA  MERIDA"
      ]
     },
     "execution_count": 72,
     "metadata": {},
     "output_type": "execute_result"
    }
   ],
   "source": [
    "print('Datos del alumo con la calificación más alta')\n",
    "df = df.sort_values(by='CALIFICACION', ascending=False).reset_index(drop=True)\n",
    "df.iloc[0:1,:]"
   ]
  },
  {
   "cell_type": "code",
   "execution_count": 73,
   "metadata": {},
   "outputs": [
    {
     "name": "stdout",
     "output_type": "stream",
     "text": [
      "Datos del alumo con la calificación más baja\n"
     ]
    },
    {
     "data": {
      "text/html": [
       "<div>\n",
       "<style scoped>\n",
       "    .dataframe tbody tr th:only-of-type {\n",
       "        vertical-align: middle;\n",
       "    }\n",
       "\n",
       "    .dataframe tbody tr th {\n",
       "        vertical-align: top;\n",
       "    }\n",
       "\n",
       "    .dataframe thead th {\n",
       "        text-align: right;\n",
       "    }\n",
       "</style>\n",
       "<table border=\"1\" class=\"dataframe\">\n",
       "  <thead>\n",
       "    <tr style=\"text-align: right;\">\n",
       "      <th></th>\n",
       "      <th>NOMBRE</th>\n",
       "      <th>APELLIDO</th>\n",
       "      <th>CALIFICACION</th>\n",
       "      <th>CARRERA</th>\n",
       "      <th>CIUDAD</th>\n",
       "    </tr>\n",
       "  </thead>\n",
       "  <tbody>\n",
       "    <tr>\n",
       "      <th>0</th>\n",
       "      <td>VICENTE</td>\n",
       "      <td>CABALLERO</td>\n",
       "      <td>8</td>\n",
       "      <td>MECATRONICA</td>\n",
       "      <td>MERIDA</td>\n",
       "    </tr>\n",
       "  </tbody>\n",
       "</table>\n",
       "</div>"
      ],
      "text/plain": [
       "    NOMBRE   APELLIDO  CALIFICACION      CARRERA  CIUDAD\n",
       "0  VICENTE  CABALLERO             8  MECATRONICA  MERIDA"
      ]
     },
     "execution_count": 73,
     "metadata": {},
     "output_type": "execute_result"
    }
   ],
   "source": [
    "print('Datos del alumo con la calificación más baja')\n",
    "df = df.sort_values(by='CALIFICACION', ascending=True).reset_index(drop=True)\n",
    "df.iloc[0:1,:]"
   ]
  },
  {
   "cell_type": "markdown",
   "metadata": {},
   "source": [
    "<div class=\"alert alert-success\">\n",
    "<b>EJERCICIO 4: Concatenar todos los archivos .csv de los semestres 2 y 3  </b>:\n",
    "\n",
    " <ul>\n",
    "  <li> a) Encontrar el promedio y   desviación estándar  </li>\n",
    "  <li> b) Datos del estudiante(s) con la calificación más alta </li>   \n",
    "  <li> c) Datos del estudiante(s) con la calificación más baja </li>   \n",
    "</ul>\n",
    "</div>"
   ]
  },
  {
   "cell_type": "code",
   "execution_count": 74,
   "metadata": {},
   "outputs": [
    {
     "name": "stdout",
     "output_type": "stream",
     "text": [
      "['datos/semestre2c.csv', 'datos/semestre2a.csv', 'datos/semestre3b.csv', 'datos/semestre3a.csv', 'datos/semestre3c.csv', 'datos/semestre2b.csv']\n"
     ]
    }
   ],
   "source": [
    "path = 'datos'\n",
    "files = glob.glob(path + '/semestre[2-3]?.csv')\n",
    "print(files)\n",
    "lista_dfs=[]\n",
    "# recorrer la lista de archivos para crear la lista de archivos \n",
    "for file in files:\n",
    "    temp_df = pd.read_csv(file)\n",
    "    lista_dfs.append(temp_df)\n",
    "\n",
    "df = pd.concat(  lista_dfs, axis=0  , ignore_index=True)"
   ]
  },
  {
   "cell_type": "code",
   "execution_count": 75,
   "metadata": {},
   "outputs": [
    {
     "name": "stdout",
     "output_type": "stream",
     "text": [
      "Promedio y desviación estándar de calificaciones\n",
      "promedio de calificaciones=84.65\n",
      "desviación estándar de calificaciones=17.23\n"
     ]
    }
   ],
   "source": [
    "print('Promedio y desviación estándar de calificaciones')\n",
    "print(f'promedio de calificaciones={df.CALIFICACION.mean():.2f}')\n",
    "print(f'desviación estándar de calificaciones={df.CALIFICACION.std():.2f}')"
   ]
  },
  {
   "cell_type": "code",
   "execution_count": 79,
   "metadata": {},
   "outputs": [
    {
     "name": "stdout",
     "output_type": "stream",
     "text": [
      "Datos del alumo con la calificación más alta\n"
     ]
    },
    {
     "data": {
      "text/html": [
       "<div>\n",
       "<style scoped>\n",
       "    .dataframe tbody tr th:only-of-type {\n",
       "        vertical-align: middle;\n",
       "    }\n",
       "\n",
       "    .dataframe tbody tr th {\n",
       "        vertical-align: top;\n",
       "    }\n",
       "\n",
       "    .dataframe thead th {\n",
       "        text-align: right;\n",
       "    }\n",
       "</style>\n",
       "<table border=\"1\" class=\"dataframe\">\n",
       "  <thead>\n",
       "    <tr style=\"text-align: right;\">\n",
       "      <th></th>\n",
       "      <th>NOMBRE</th>\n",
       "      <th>APELLIDO</th>\n",
       "      <th>CALIFICACION</th>\n",
       "      <th>CARRERA</th>\n",
       "      <th>CIUDAD</th>\n",
       "    </tr>\n",
       "  </thead>\n",
       "  <tbody>\n",
       "    <tr>\n",
       "      <th>0</th>\n",
       "      <td>RICK</td>\n",
       "      <td>SANCHEZ</td>\n",
       "      <td>100</td>\n",
       "      <td>FISICA</td>\n",
       "      <td>MERIDA</td>\n",
       "    </tr>\n",
       "  </tbody>\n",
       "</table>\n",
       "</div>"
      ],
      "text/plain": [
       "  NOMBRE APELLIDO  CALIFICACION CARRERA  CIUDAD\n",
       "0   RICK  SANCHEZ           100  FISICA  MERIDA"
      ]
     },
     "execution_count": 79,
     "metadata": {},
     "output_type": "execute_result"
    }
   ],
   "source": [
    "print('Datos del alumo con la calificación más alta')\n",
    "df = df.sort_values(by='CALIFICACION', ascending=False).reset_index(drop=True)\n",
    "df.iloc[0:1,:]"
   ]
  },
  {
   "cell_type": "code",
   "execution_count": 77,
   "metadata": {},
   "outputs": [
    {
     "name": "stdout",
     "output_type": "stream",
     "text": [
      "Datos del alumo con la calificación más baja\n"
     ]
    },
    {
     "data": {
      "text/html": [
       "<div>\n",
       "<style scoped>\n",
       "    .dataframe tbody tr th:only-of-type {\n",
       "        vertical-align: middle;\n",
       "    }\n",
       "\n",
       "    .dataframe tbody tr th {\n",
       "        vertical-align: top;\n",
       "    }\n",
       "\n",
       "    .dataframe thead th {\n",
       "        text-align: right;\n",
       "    }\n",
       "</style>\n",
       "<table border=\"1\" class=\"dataframe\">\n",
       "  <thead>\n",
       "    <tr style=\"text-align: right;\">\n",
       "      <th></th>\n",
       "      <th>NOMBRE</th>\n",
       "      <th>APELLIDO</th>\n",
       "      <th>CALIFICACION</th>\n",
       "      <th>CARRERA</th>\n",
       "      <th>CIUDAD</th>\n",
       "    </tr>\n",
       "  </thead>\n",
       "  <tbody>\n",
       "    <tr>\n",
       "      <th>0</th>\n",
       "      <td>VICENTE</td>\n",
       "      <td>CABALLERO</td>\n",
       "      <td>8</td>\n",
       "      <td>MECATRONICA</td>\n",
       "      <td>MERIDA</td>\n",
       "    </tr>\n",
       "  </tbody>\n",
       "</table>\n",
       "</div>"
      ],
      "text/plain": [
       "    NOMBRE   APELLIDO  CALIFICACION      CARRERA  CIUDAD\n",
       "0  VICENTE  CABALLERO             8  MECATRONICA  MERIDA"
      ]
     },
     "execution_count": 77,
     "metadata": {},
     "output_type": "execute_result"
    }
   ],
   "source": [
    "print('Datos del alumo con la calificación más baja')\n",
    "df = df.sort_values(by='CALIFICACION', ascending=True).reset_index(drop=True)\n",
    "df.iloc[0:1,:]"
   ]
  }
 ],
 "metadata": {
  "kernelspec": {
   "display_name": ".venv",
   "language": "python",
   "name": "python3"
  },
  "language_info": {
   "codemirror_mode": {
    "name": "ipython",
    "version": 3
   },
   "file_extension": ".py",
   "mimetype": "text/x-python",
   "name": "python",
   "nbconvert_exporter": "python",
   "pygments_lexer": "ipython3",
   "version": "3.10.12"
  }
 },
 "nbformat": 4,
 "nbformat_minor": 4
}
