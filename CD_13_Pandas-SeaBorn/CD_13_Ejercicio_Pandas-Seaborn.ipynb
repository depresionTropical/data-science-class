{
 "cells": [
  {
   "cell_type": "markdown",
   "metadata": {},
   "source": [
    "<!--Información del curso-->\n",
    "<img align=\"left\" style=\"padding-right:10px;\" src=\"figuras/logo_ciencia_datos.png\">"
   ]
  },
  {
   "cell_type": "markdown",
   "metadata": {},
   "source": [
    "# Librerías\n",
    "\n",
    "Cargando las bibliotecas que necesitamos \n"
   ]
  },
  {
   "cell_type": "code",
   "execution_count": null,
   "metadata": {},
   "outputs": [],
   "source": [
    "import pandas as pd\n",
    "import numpy as np\n",
    "import matplotlib.pyplot as plt\n",
    "import seaborn as sns"
   ]
  },
  {
   "cell_type": "markdown",
   "metadata": {},
   "source": [
    "## Instrucciones"
   ]
  },
  {
   "cell_type": "markdown",
   "metadata": {},
   "source": [
    " 1. Cada inciso podra resolverse con el estilo puramente de Pandas o Seaborn, no es necesario usar ambos\n",
    " 2. Puede agregar todas las opciones de visualización que crea convenientes"
   ]
  },
  {
   "cell_type": "markdown",
   "metadata": {},
   "source": [
    "## Ejercicio 1:  Datos de la estación meteorologica de Progreso, Yucatán\n",
    "\n",
    "Fuente:  https://smn.conagua.gob.mx/es/observando-el-tiempo/estaciones-meteorologicas-automaticas-ema-s"
   ]
  },
  {
   "cell_type": "code",
   "execution_count": null,
   "metadata": {},
   "outputs": [],
   "source": [
    "df= pd.read_csv(\"datos/Estacion_PROGRESO_90_dias_19Nov.csv\")\n",
    "df.head(5)"
   ]
  },
  {
   "cell_type": "markdown",
   "metadata": {},
   "source": [
    "<div class=\"alert alert-success\">\n",
    "    \n",
    "a). Hacer una grafica de dispersión para la TemperaturaAire(C) y la HumedadRelativa(%)\n",
    "    \n",
    "</div> "
   ]
  },
  {
   "cell_type": "markdown",
   "metadata": {},
   "source": [
    "<div class=\"alert alert-success\">\n",
    "    \n",
    "b). Hacer una grafica de dispersión comparando estas 4  columnas :  TemperaturaAire(C), la HumedadRelativa(%) , PresionAtmosferica(hpa)  y la\tRadiacionSolar(W/m2)\n",
    "    \n",
    "</div> "
   ]
  },
  {
   "cell_type": "markdown",
   "metadata": {},
   "source": [
    "# Ejercicio 2: Incendios en México"
   ]
  },
  {
   "cell_type": "code",
   "execution_count": null,
   "metadata": {},
   "outputs": [],
   "source": [
    "df= pd.read_csv(\"datos/Serie_historica_anual_incendios_2017.csv\")\n",
    "df.head(5)"
   ]
  },
  {
   "cell_type": "markdown",
   "metadata": {},
   "source": [
    "<div class=\"alert alert-success\">\n",
    "    \n",
    "a). Utilizar una grafica de barras para mostrar el número de incendios registrados segun la columna 'Region',  para todos los datos registrados\n",
    "    \n",
    "</div> "
   ]
  },
  {
   "cell_type": "markdown",
   "metadata": {},
   "source": [
    "<div class=\"alert alert-success\">\n",
    "    \n",
    "b). Utilizar una grafica de barras para mostrar el número de incendios registrados segun  la columna 'Duración días', para todos los datos registrados\n",
    "    \n",
    "</div> "
   ]
  },
  {
   "cell_type": "markdown",
   "metadata": {},
   "source": [
    "<div class=\"alert alert-success\">\n",
    "    \n",
    "c). Utilizar una grafica de Seaborn de dispersión para comparar las columnas 'Duracion H' y 'Total Hectareas', además deberá agregar la opción   hue=\"Mes Acontecimiento\", para todos los datos registrados\n",
    "    \n",
    "</div> "
   ]
  },
  {
   "cell_type": "markdown",
   "metadata": {},
   "source": [
    "<div class=\"alert alert-success\">\n",
    "    \n",
    "d). Utilizar una grafica de Seaborn de dispersión para comparar las columnas 'Duracion H' y 'Total Hectareas', además deberá agregar la opción   hue=\"Mes Acontecimiento\", para  los datos de Yucatán registrados\n",
    "    \n",
    "</div> "
   ]
  },
  {
   "cell_type": "markdown",
   "metadata": {},
   "source": [
    "# Ejercicio 3: Información de Casas de California"
   ]
  },
  {
   "cell_type": "markdown",
   "metadata": {},
   "source": [
    "Cargar el archivo **datos/info_Casas_SF.csv**, el cual contiene datos del  censo de California. Estos datos estan dados por  distritos en California. Los distritos son la unidad geográfica más pequeña para la cual la Oficina del Censo de los Estados Unidos publica datos de muestra (un grupo de bloques generalmente tiene una población de 600 a 3,000 personas).  Los datos son los siguientes\n",
    "\n",
    "1. longitud: una medida de qué tan al oeste está una casa; un valor más alto está más al oeste\n",
    "\n",
    "2. latitud: una medida de la distancia al norte de una casa; un valor más alto está más al norte\n",
    "\n",
    "3. housingMedianAge: Edad promedio de una casa dentro de un distrito; un número menor es un edificio más nuevo\n",
    "\n",
    "4. totalRooms: número total de habitaciones dentro de un distrito\n",
    "\n",
    "5. totalBedrooms: número total de dormitorios dentro de un distrito\n",
    "\n",
    "6. población: número total de personas que residen en un distrito\n",
    "\n",
    "7. hogares: número total de hogares, un grupo de personas que residen dentro de una unidad de vivienda, para un distrito\n",
    "\n",
    "8. ingreso medio: ingreso mediano de los hogares dentro de una cuadra de casas (medido en decenas de miles de dólares estadounidenses)\n",
    "\n",
    "9. medianHouseValue: valor medio de la vivienda para los hogares dentro de un distrito (medido en dólares estadounidenses)\n",
    "\n",
    "10. oceanProximity: Ubicación de la casa con respecto al oceano\n",
    "\n",
    "Fuente: https://www.kaggle.com/camnugent/california-housing-prices"
   ]
  },
  {
   "cell_type": "markdown",
   "metadata": {},
   "source": [
    "<div class=\"alert alert-success\">\n",
    "    \n",
    "a). Utilizar 4 diferentes graficas para mostrar algunos parametros  del archivo datos/info_Casas_SF.csv\n",
    "    \n",
    "</div> "
   ]
  },
  {
   "cell_type": "code",
   "execution_count": null,
   "metadata": {},
   "outputs": [],
   "source": []
  }
 ],
 "metadata": {
  "kernelspec": {
   "display_name": "Python 3 (ipykernel)",
   "language": "python",
   "name": "python3"
  },
  "language_info": {
   "codemirror_mode": {
    "name": "ipython",
    "version": 3
   },
   "file_extension": ".py",
   "mimetype": "text/x-python",
   "name": "python",
   "nbconvert_exporter": "python",
   "pygments_lexer": "ipython3",
   "version": "3.10.11"
  }
 },
 "nbformat": 4,
 "nbformat_minor": 4
}
