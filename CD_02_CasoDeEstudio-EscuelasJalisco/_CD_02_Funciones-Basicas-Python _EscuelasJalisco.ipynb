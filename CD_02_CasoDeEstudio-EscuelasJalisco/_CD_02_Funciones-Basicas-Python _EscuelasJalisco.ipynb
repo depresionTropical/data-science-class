{
 "cells": [
  {
   "cell_type": "markdown",
   "metadata": {},
   "source": [
    "<!--Información del curso-->\n",
    "<img align=\"left\" style=\"padding-right:10px;\" src=\"figuras/logo_ciencia_datos.png\">"
   ]
  },
  {
   "cell_type": "markdown",
   "metadata": {},
   "source": [
    "<center><h1 style=\"font-size:2em;color:#2467C0\">  Caso de estudio </h1></center>\n",
    "\n",
    "<center><h4 style=\"font-size:2em;color:#840700\">  Escuelas de Jalisco  </h4></center>\n",
    "\n",
    "<br>\n",
    "<table>\n",
    "<col width=\"550\">\n",
    "<col width=\"450\">\n",
    "<tr>\n",
    "<td><img src=\"figuras/escuelas_mexico.png\" align=\"middle\" style=\"width:500px\"/></td>\n",
    "<td align=\"left-align\">\n",
    "\n",
    "Aproximadamente 96 de cada 100 mexicanos entre tres y catorce años de edad asiste a la escuela en los tres niveles de educación básica (preescolar, primaria y secundaria).  El 90.1% acude a escuelas públicas y el 9.9%, a escuelas privadas.\n",
    "\n",
    "https://blog.uvm.mx/10-datos-sobre-la-educacion-en-mexico\n",
    "<br>\n",
    "</td>\n",
    "</tr>\n",
    "</table>"
   ]
  },
  {
   "cell_type": "markdown",
   "metadata": {},
   "source": [
    "# Librerías"
   ]
  },
  {
   "cell_type": "markdown",
   "metadata": {
    "collapsed": true,
    "jupyter": {
     "outputs_hidden": true
    }
   },
   "source": [
    "Cargamos las bibliotecas que necesitamos "
   ]
  },
  {
   "cell_type": "code",
   "execution_count": 1,
   "metadata": {},
   "outputs": [],
   "source": [
    "import csv\n",
    "import matplotlib.pyplot as plt"
   ]
  },
  {
   "cell_type": "markdown",
   "metadata": {},
   "source": [
    "# Información de los datos\n",
    "\n",
    "Fuente:\n",
    "https://datos.jalisco.gob.mx/dataset/cct-estadistica/resource/d6d05ee8-eb03-4283-bd65-684a4ccadcce#{}"
   ]
  },
  {
   "cell_type": "markdown",
   "metadata": {},
   "source": [
    "Descripción de las columnas : \n",
    "<img align=\"left\" width=\"800\"  float= \"none\" align=\"middle\" src=\"figuras/Descriptiva_Datos.png\">\n"
   ]
  },
  {
   "cell_type": "code",
   "execution_count": 2,
   "metadata": {
    "scrolled": true
   },
   "outputs": [
    {
     "ename": "UnicodeDecodeError",
     "evalue": "'utf-8' codec can't decode byte 0xa1 in position 153: invalid start byte",
     "output_type": "error",
     "traceback": [
      "\u001b[0;31m---------------------------------------------------------------------------\u001b[0m",
      "\u001b[0;31mUnicodeDecodeError\u001b[0m                        Traceback (most recent call last)",
      "Cell \u001b[0;32mIn[2], line 3\u001b[0m\n\u001b[1;32m      1\u001b[0m \u001b[38;5;66;03m#Leer el archivo datos/cct_estadistica_short.csv\u001b[39;00m\n\u001b[1;32m      2\u001b[0m \u001b[38;5;28;01mwith\u001b[39;00m \u001b[38;5;28mopen\u001b[39m (\u001b[38;5;124m'\u001b[39m\u001b[38;5;124mdatos/cct_estadistica_short.csv\u001b[39m\u001b[38;5;124m'\u001b[39m) \u001b[38;5;28;01mas\u001b[39;00m archivo_csv:\n\u001b[0;32m----> 3\u001b[0m     datos \u001b[38;5;241m=\u001b[39m \u001b[38;5;28;43mlist\u001b[39;49m\u001b[43m(\u001b[49m\u001b[43mcsv\u001b[49m\u001b[38;5;241;43m.\u001b[39;49m\u001b[43mreader\u001b[49m\u001b[43m(\u001b[49m\u001b[43marchivo_csv\u001b[49m\u001b[43m)\u001b[49m\u001b[43m)\u001b[49m\n\u001b[1;32m      4\u001b[0m     \u001b[38;5;28mprint\u001b[39m (datos)\n",
      "File \u001b[0;32m/usr/lib/python3.10/codecs.py:322\u001b[0m, in \u001b[0;36mBufferedIncrementalDecoder.decode\u001b[0;34m(self, input, final)\u001b[0m\n\u001b[1;32m    319\u001b[0m \u001b[38;5;28;01mdef\u001b[39;00m \u001b[38;5;21mdecode\u001b[39m(\u001b[38;5;28mself\u001b[39m, \u001b[38;5;28minput\u001b[39m, final\u001b[38;5;241m=\u001b[39m\u001b[38;5;28;01mFalse\u001b[39;00m):\n\u001b[1;32m    320\u001b[0m     \u001b[38;5;66;03m# decode input (taking the buffer into account)\u001b[39;00m\n\u001b[1;32m    321\u001b[0m     data \u001b[38;5;241m=\u001b[39m \u001b[38;5;28mself\u001b[39m\u001b[38;5;241m.\u001b[39mbuffer \u001b[38;5;241m+\u001b[39m \u001b[38;5;28minput\u001b[39m\n\u001b[0;32m--> 322\u001b[0m     (result, consumed) \u001b[38;5;241m=\u001b[39m \u001b[38;5;28;43mself\u001b[39;49m\u001b[38;5;241;43m.\u001b[39;49m\u001b[43m_buffer_decode\u001b[49m\u001b[43m(\u001b[49m\u001b[43mdata\u001b[49m\u001b[43m,\u001b[49m\u001b[43m \u001b[49m\u001b[38;5;28;43mself\u001b[39;49m\u001b[38;5;241;43m.\u001b[39;49m\u001b[43merrors\u001b[49m\u001b[43m,\u001b[49m\u001b[43m \u001b[49m\u001b[43mfinal\u001b[49m\u001b[43m)\u001b[49m\n\u001b[1;32m    323\u001b[0m     \u001b[38;5;66;03m# keep undecoded input until the next call\u001b[39;00m\n\u001b[1;32m    324\u001b[0m     \u001b[38;5;28mself\u001b[39m\u001b[38;5;241m.\u001b[39mbuffer \u001b[38;5;241m=\u001b[39m data[consumed:]\n",
      "\u001b[0;31mUnicodeDecodeError\u001b[0m: 'utf-8' codec can't decode byte 0xa1 in position 153: invalid start byte"
     ]
    }
   ],
   "source": [
    "#Leer el archivo datos/cct_estadistica_short.csv\n",
    "with open ('datos/cct_estadistica_short.csv') as archivo_csv:\n",
    "    datos = list(csv.reader(archivo_csv))\n",
    "    print (datos)\n"
   ]
  },
  {
   "cell_type": "markdown",
   "metadata": {},
   "source": [
    "<div class=\"alert alert-info\">\n",
    " <ul>\n",
    "  <li>Monstrar la primera fila del archivo</li>\n",
    "</ul> \n",
    "\n",
    "</div>"
   ]
  },
  {
   "cell_type": "code",
   "execution_count": 3,
   "metadata": {},
   "outputs": [
    {
     "name": "stdout",
     "output_type": "stream",
     "text": [
      "['CLAVE CT', 'NOM TURNO', 'NOMBRE CT', 'DOMICILIO', 'LOCALIDAD INEGI', ' NOMBRE LOCALIDAD', 'NOMBRE COLONIA', 'MUNICIPIO', 'NOMBRE MUNICIPIO', 'SOSTENIMIENTO', 'NIVEL', 'PROGRAMA', 'HOMBRES 1¡', 'MUJERES 1¡', 'TOTAL 1¡', 'HOMBRES 2¡', 'MUJERES 2¡', 'TOTAL 2¡', 'HOMBRES 3¡', 'MUJERES 3¡', 'TOTAL 3¡', 'HOMBRES 4¡', 'MUJERES 4¡', 'TOTAL 4¡', 'HOMBRES 5¡', 'MUJERES 5¡', 'TOTAL 5¡', 'HOMBRES 6¡', 'MUJERES 6¡', 'TOTAL 6¡', 'HOMBRES TOTAL', 'MUJERES TOTAL', 'MATRICULA TOTAL', 'DOCENTES', 'GRUPOS', 'DOCENETE EDUCACION FISICA', 'DOCENTE ACTIVIDADES ARTISTICAS', 'DOCENTE ACTIVIDADES TECNONOLOGICAS', 'DOCENTE DE IDIOMAS', 'PERSONAL DE ADMINISTRATIVO Y SERVICIOS', 'DIRECTOR CON GRUPO', 'DIRECTOR SIN GRUPO', 'TOTAL DE PERSONAL']\n"
     ]
    }
   ],
   "source": [
    "with open ('datos/cct_estadistica_short.csv') as archivo_csv:\n",
    "    datos = list(csv.reader(archivo_csv))\n",
    "    print (datos[0])\n"
   ]
  },
  {
   "cell_type": "markdown",
   "metadata": {},
   "source": [
    "<div class=\"alert alert-info\">\n",
    " <ul>\n",
    "  <li>Monstrar la segunda fila del archivo</li>\n",
    "</ul> \n",
    "\n",
    "</div>"
   ]
  },
  {
   "cell_type": "code",
   "execution_count": 4,
   "metadata": {},
   "outputs": [
    {
     "name": "stdout",
     "output_type": "stream",
     "text": [
      "['14DPR3480S', 'VESPERTINO', 'MIGUEL HIDALGO Y COSTILLA', 'RIO SANTIAGO', '1', 'TIZAPAN EL ALTO', 'ATRACADERO', '96', 'TIZAPAN EL ALTO', 'FEDERALIZADO', 'PRIMARIA', 'GENERAL', '4', '11', '15', '11', '8', '19', '11', '5', '16', '11', '5', '16', '5', '5', '10', '9', '8', '17', '51', '42', '93', '6', '6', '1', '0', '0', '0', '0', '0', '1', '8']\n"
     ]
    }
   ],
   "source": [
    "with open ('datos/cct_estadistica_short.csv') as archivo_csv:\n",
    "    datos = list(csv.reader(archivo_csv))\n",
    "    print (datos[1])"
   ]
  },
  {
   "cell_type": "markdown",
   "metadata": {},
   "source": [
    "\n",
    "<div class=\"alert alert-info\">\n",
    " <ul>\n",
    "  <li>Monstrar la tercera fila del archivo</li>\n",
    "</ul> \n",
    "\n",
    "</div>"
   ]
  },
  {
   "cell_type": "code",
   "execution_count": 5,
   "metadata": {},
   "outputs": [
    {
     "name": "stdout",
     "output_type": "stream",
     "text": [
      "['14DPR2780I', 'MATUTINO', 'CONSTITUCION DEL 57', 'CONOCIDO', '54', 'MESA DE MENDEZ', '0', '16', 'AYOTLAN', 'FEDERALIZADO', 'PRIMARIA', 'GENERAL', '1', '2', '3', '0', '0', '0', '1', '1', '2', '2', '0', '2', '0', '0', '0', '1', '0', '1', '5', '3', '8', '1', '1', '0', '0', '0', '0', '0', '1', '0', '1']\n"
     ]
    }
   ],
   "source": [
    "with open ('datos/cct_estadistica_short.csv') as archivo_csv:\n",
    "    datos = list(csv.reader(archivo_csv))\n",
    "    print (datos[2])"
   ]
  },
  {
   "cell_type": "markdown",
   "metadata": {},
   "source": [
    "<div class=\"alert alert-info\">\n",
    " <ul>\n",
    "  <li>Monstrar de la tercera fila del archivo, el municipio donde se encuentra la escuela </li>\n",
    "</ul> \n",
    "\n",
    "</div>"
   ]
  },
  {
   "cell_type": "code",
   "execution_count": 7,
   "metadata": {},
   "outputs": [
    {
     "name": "stdout",
     "output_type": "stream",
     "text": [
      "AYOTLAN\n"
     ]
    }
   ],
   "source": [
    "with open ('datos/cct_estadistica_short.csv') as archivo_csv:\n",
    "    datos = list(csv.reader(archivo_csv))\n",
    "    print (datos[2][8])"
   ]
  },
  {
   "cell_type": "markdown",
   "metadata": {},
   "source": [
    "<div class=\"alert alert-info\">\n",
    " <ul>\n",
    "  <li>Encuentre el número de escuelas en el archivo</li>\n",
    "</ul> \n",
    "\n",
    "</div>"
   ]
  },
  {
   "cell_type": "code",
   "execution_count": 11,
   "metadata": {},
   "outputs": [
    {
     "name": "stdout",
     "output_type": "stream",
     "text": [
      "El num de escuelas es: 3205\n"
     ]
    }
   ],
   "source": [
    "contador_escuelas=0\n",
    "with open ('datos/cct_estadistica_short.csv') as archivo_csv:\n",
    "    datos = list(csv.reader(archivo_csv))\n",
    "    for fila in datos:\n",
    "        contador_escuelas += 1  \n",
    "    print(\"El num de escuelas es: \"+str(contador_escuelas-1))"
   ]
  },
  {
   "cell_type": "markdown",
   "metadata": {},
   "source": [
    "<div class=\"alert alert-info\">\n",
    " <ul>\n",
    "  <li>Encuentre el número de escuelas de nivel: PRIMARIA</li>\n",
    "</ul> \n",
    "\n",
    "</div>"
   ]
  },
  {
   "cell_type": "code",
   "execution_count": 19,
   "metadata": {},
   "outputs": [
    {
     "name": "stdout",
     "output_type": "stream",
     "text": [
      "El num de escuelas primarias es: 1278\n"
     ]
    }
   ],
   "source": [
    "contador_PRIMARIA=0\n",
    "with open ('datos/cct_estadistica_short.csv') as archivo_csv:\n",
    "    datos = list(csv.reader(archivo_csv))\n",
    "    for fila in datos:\n",
    "        if fila[10]==\"PRIMARIA\":\n",
    "            contador_PRIMARIA += 1  \n",
    "    print(\"El num de escuelas primarias es: \"+str(contador_PRIMARIA))"
   ]
  },
  {
   "cell_type": "code",
   "execution_count": null,
   "metadata": {},
   "outputs": [],
   "source": [
    "\n"
   ]
  },
  {
   "cell_type": "markdown",
   "metadata": {},
   "source": [
    "<div class=\"alert alert-info\">\n",
    " <ul>\n",
    "  <li>Encuentre el porcentaje de  escuelas PREESCOLAR, PRIMARIA,  SECUNDARIA y BACHILLERATO </li>\n",
    "</ul> \n",
    "\n",
    "</div>"
   ]
  },
  {
   "cell_type": "code",
   "execution_count": 24,
   "metadata": {},
   "outputs": [
    {
     "name": "stdout",
     "output_type": "stream",
     "text": [
      "El porcentaje de escuelas PREESCOLAR es: 40.343213728549145\n",
      "El porcentaje de escuelas PRIMARIA es: 39.875195007800315\n",
      "El porcentaje de escuelas SECUNDARIA es: 15.132605304212168\n",
      "El porcentaje de escuelas BACHILLERATO es: 4.648985959438377\n"
     ]
    }
   ],
   "source": [
    "contador_escuelas=-1\n",
    "contador_PREESCOLAR=0\n",
    "contador_PRIMARIA=0\n",
    "contador_SECUNDARIA=0\n",
    "contador_BACHILLERATO=0\n",
    "with open ('datos/cct_estadistica_short.csv') as archivo_csv:\n",
    "    datos = list(csv.reader(archivo_csv))\n",
    "    for fila in datos:\n",
    "        contador_escuelas += 1  \n",
    "        if fila[10]==\"PRIMARIA\":\n",
    "            contador_PRIMARIA += 1  \n",
    "        elif fila[10]==\"PREESCOLAR\":\n",
    "            contador_PREESCOLAR += 1  \n",
    "        elif fila[10]==\"SECUNDARIA\":\n",
    "           contador_SECUNDARIA += 1\n",
    "        elif fila[10]==\"BACHILLERATO\":\n",
    "           contador_BACHILLERATO += 1  \n",
    "\n",
    "print(\"El porcentaje de escuelas PREESCOLAR es: \"+str(contador_PREESCOLAR / contador_escuelas *100))\n",
    "print(\"El porcentaje de escuelas PRIMARIA es: \"+str(contador_PRIMARIA / contador_escuelas*100))\n",
    "print(\"El porcentaje de escuelas SECUNDARIA es: \"+str(contador_SECUNDARIA / contador_escuelas*100))\n",
    "print(\"El porcentaje de escuelas BACHILLERATO es: \"+str(contador_BACHILLERATO / contador_escuelas*100))\n",
    "      \n",
    "\n",
    "contador_PREESCOLAR=0\n",
    "contador_PRIMARIA=0\n",
    "contador_SECUNDARIA=0\n",
    "contador_BACHILLERATO=0\n"
   ]
  },
  {
   "cell_type": "markdown",
   "metadata": {},
   "source": [
    "<div class=\"alert alert-info\">\n",
    " <ul>\n",
    "  <li>Encuentre el numero total de estudiantes en nivel PRIMARIA</li>\n",
    "</ul> \n",
    "\n",
    "</div>"
   ]
  },
  {
   "cell_type": "code",
   "execution_count": 28,
   "metadata": {},
   "outputs": [
    {
     "name": "stdout",
     "output_type": "stream",
     "text": [
      "El total de primaria es: 196298\n"
     ]
    }
   ],
   "source": [
    "contador_estudiantes_PRIMARIA=0\n",
    "\n",
    "with open ('datos/cct_estadistica_short.csv') as archivo_csv:\n",
    "    datos = list(csv.reader(archivo_csv))\n",
    "    for fila in datos:\n",
    "        if fila[10]==\"PRIMARIA\":\n",
    "            contador_estudiantes_PRIMARIA += int(fila[32])\n",
    "print(\"El total de primaria es: \"+str(contador_estudiantes_PRIMARIA))"
   ]
  },
  {
   "cell_type": "markdown",
   "metadata": {},
   "source": [
    "<div class=\"alert alert-info\">\n",
    " <ul>\n",
    "  <li>Encuentre el numero total de estudiantes hombres y mujeres en nivel PRIMARIA </li>\n",
    "</ul> \n",
    "\n",
    "</div>"
   ]
  },
  {
   "cell_type": "code",
   "execution_count": 39,
   "metadata": {},
   "outputs": [],
   "source": [
    "contador_estudiantes_hombres_PRIMARIA=0\n",
    "contador_estudiantes_mujeres_PRIMARIA=0\n"
   ]
  },
  {
   "cell_type": "markdown",
   "metadata": {},
   "source": [
    "<div class=\"alert alert-info\">\n",
    " <ul>\n",
    "  <li>Encuentre el numero total de municipios con el string \"ZAPO\" , ejemplo ZAPOPAN, ZAPOTILTIC, etc </li>\n",
    "</ul> \n",
    "\n",
    "</div>"
   ]
  },
  {
   "cell_type": "code",
   "execution_count": 33,
   "metadata": {},
   "outputs": [
    {
     "name": "stdout",
     "output_type": "stream",
     "text": [
      "ZAPOPAN\n",
      "ZAPOTLANEJO\n",
      "ZAPOPAN\n",
      "ZAPOPAN\n",
      "ZAPOPAN\n",
      "ZAPOPAN\n",
      "ZAPOPAN\n",
      "ZAPOPAN\n",
      "ZAPOPAN\n",
      "ZAPOPAN\n",
      "ZAPOPAN\n",
      "ZAPOTILTIC\n",
      "ZAPOPAN\n",
      "ZAPOTILTIC\n",
      "ZAPOPAN\n",
      "ZAPOPAN\n",
      "ZAPOPAN\n",
      "ZAPOTLAN EL GRANDE\n",
      "ZAPOTLANEJO\n",
      "ZAPOPAN\n",
      "ZAPOPAN\n",
      "ZAPOPAN\n",
      "ZAPOPAN\n",
      "ZAPOPAN\n",
      "ZAPOPAN\n",
      "ZAPOPAN\n",
      "ZAPOTLANEJO\n",
      "ZAPOPAN\n",
      "ZAPOPAN\n",
      "ZAPOTLANEJO\n",
      "ZAPOPAN\n",
      "ZAPOPAN\n",
      "ZAPOPAN\n",
      "ZAPOPAN\n",
      "ZAPOPAN\n",
      "ZAPOPAN\n",
      "ZAPOTITLAN DE VADILLO\n",
      "ZAPOPAN\n",
      "ZAPOPAN\n",
      "ZAPOPAN\n",
      "ZAPOPAN\n",
      "ZAPOPAN\n",
      "ZAPOPAN\n",
      "ZAPOTITLAN DE VADILLO\n",
      "ZAPOPAN\n",
      "ZAPOPAN\n",
      "ZAPOPAN\n",
      "ZAPOPAN\n",
      "ZAPOPAN\n",
      "ZAPOPAN\n",
      "ZAPOPAN\n",
      "ZAPOTLANEJO\n",
      "ZAPOTLAN EL GRANDE\n",
      "ZAPOPAN\n",
      "ZAPOPAN\n",
      "ZAPOPAN\n",
      "ZAPOPAN\n",
      "ZAPOTITLAN DE VADILLO\n",
      "ZAPOPAN\n",
      "ZAPOPAN\n",
      "ZAPOPAN\n",
      "ZAPOTLAN DEL REY\n",
      "ZAPOPAN\n",
      "ZAPOTLANEJO\n",
      "ZAPOPAN\n",
      "ZAPOTLAN EL GRANDE\n",
      "ZAPOPAN\n",
      "ZAPOPAN\n",
      "ZAPOPAN\n",
      "ZAPOTLAN DEL REY\n",
      "ZAPOTITLAN DE VADILLO\n",
      "ZAPOPAN\n",
      "ZAPOPAN\n",
      "ZAPOPAN\n",
      "ZAPOPAN\n",
      "ZAPOPAN\n",
      "ZAPOPAN\n",
      "ZAPOPAN\n",
      "ZAPOPAN\n",
      "ZAPOPAN\n",
      "ZAPOPAN\n",
      "ZAPOPAN\n",
      "ZAPOPAN\n",
      "ZAPOPAN\n",
      "ZAPOPAN\n",
      "ZAPOPAN\n",
      "ZAPOPAN\n",
      "ZAPOPAN\n",
      "ZAPOPAN\n",
      "ZAPOPAN\n",
      "ZAPOPAN\n",
      "ZAPOTLAN EL GRANDE\n",
      "ZAPOTLAN EL GRANDE\n",
      "ZAPOPAN\n",
      "ZAPOTLAN EL GRANDE\n",
      "ZAPOPAN\n",
      "ZAPOTLANEJO\n",
      "ZAPOPAN\n",
      "ZAPOTLANEJO\n",
      "ZAPOPAN\n",
      "ZAPOPAN\n",
      "ZAPOTLAN EL GRANDE\n",
      "ZAPOTLAN EL GRANDE\n",
      "ZAPOPAN\n",
      "ZAPOPAN\n",
      "ZAPOPAN\n",
      "ZAPOPAN\n",
      "ZAPOTILTIC\n",
      "ZAPOPAN\n",
      "ZAPOTILTIC\n",
      "ZAPOTLAN DEL REY\n",
      "ZAPOPAN\n",
      "ZAPOTLANEJO\n",
      "ZAPOPAN\n",
      "ZAPOPAN\n",
      "ZAPOPAN\n",
      "ZAPOPAN\n",
      "ZAPOPAN\n",
      "ZAPOTITLAN DE VADILLO\n",
      "ZAPOPAN\n",
      "ZAPOPAN\n",
      "ZAPOPAN\n",
      "ZAPOPAN\n",
      "ZAPOPAN\n",
      "ZAPOPAN\n",
      "ZAPOPAN\n",
      "ZAPOTLAN EL GRANDE\n",
      "ZAPOPAN\n",
      "ZAPOPAN\n",
      "ZAPOPAN\n",
      "ZAPOTLANEJO\n",
      "ZAPOPAN\n",
      "ZAPOPAN\n",
      "ZAPOPAN\n",
      "ZAPOPAN\n",
      "ZAPOPAN\n",
      "ZAPOTLAN EL GRANDE\n",
      "ZAPOPAN\n",
      "ZAPOPAN\n",
      "ZAPOPAN\n",
      "ZAPOTLAN DEL REY\n",
      "ZAPOPAN\n",
      "ZAPOPAN\n",
      "ZAPOPAN\n",
      "ZAPOPAN\n",
      "ZAPOTLAN EL GRANDE\n",
      "ZAPOPAN\n",
      "ZAPOPAN\n",
      "ZAPOPAN\n",
      "ZAPOPAN\n",
      "ZAPOPAN\n",
      "ZAPOPAN\n",
      "ZAPOPAN\n",
      "ZAPOPAN\n",
      "ZAPOPAN\n",
      "ZAPOTILTIC\n",
      "ZAPOPAN\n",
      "ZAPOPAN\n",
      "ZAPOPAN\n",
      "ZAPOTLANEJO\n",
      "ZAPOPAN\n",
      "ZAPOPAN\n",
      "ZAPOPAN\n",
      "ZAPOTITLAN DE VADILLO\n",
      "ZAPOPAN\n",
      "ZAPOPAN\n",
      "ZAPOPAN\n",
      "ZAPOTLAN EL GRANDE\n",
      "ZAPOPAN\n",
      "ZAPOTITLAN DE VADILLO\n",
      "ZAPOTLANEJO\n",
      "ZAPOPAN\n",
      "ZAPOPAN\n",
      "ZAPOPAN\n",
      "ZAPOPAN\n",
      "ZAPOPAN\n",
      "ZAPOPAN\n",
      "ZAPOPAN\n",
      "ZAPOPAN\n",
      "ZAPOPAN\n",
      "ZAPOPAN\n",
      "ZAPOPAN\n",
      "ZAPOTLAN DEL REY\n",
      "ZAPOTLANEJO\n",
      "ZAPOPAN\n",
      "ZAPOPAN\n",
      "ZAPOPAN\n",
      "ZAPOTLANEJO\n",
      "ZAPOPAN\n",
      "ZAPOPAN\n",
      "ZAPOTLANEJO\n",
      "ZAPOTLAN EL GRANDE\n",
      "ZAPOPAN\n",
      "ZAPOPAN\n",
      "ZAPOPAN\n",
      "ZAPOPAN\n",
      "ZAPOPAN\n",
      "ZAPOTITLAN DE VADILLO\n",
      "ZAPOPAN\n",
      "ZAPOPAN\n",
      "ZAPOPAN\n",
      "ZAPOTLAN EL GRANDE\n",
      "ZAPOPAN\n",
      "ZAPOPAN\n",
      "ZAPOPAN\n",
      "ZAPOPAN\n",
      "ZAPOPAN\n",
      "ZAPOTLANEJO\n",
      "ZAPOPAN\n",
      "ZAPOPAN\n",
      "ZAPOTLAN EL GRANDE\n",
      "ZAPOPAN\n",
      "ZAPOPAN\n",
      "ZAPOPAN\n",
      "ZAPOPAN\n",
      "ZAPOPAN\n",
      "ZAPOPAN\n",
      "ZAPOPAN\n",
      "ZAPOPAN\n",
      "ZAPOTLANEJO\n",
      "ZAPOPAN\n",
      "ZAPOPAN\n",
      "ZAPOPAN\n",
      "ZAPOPAN\n",
      "ZAPOPAN\n",
      "ZAPOTLANEJO\n",
      "ZAPOPAN\n",
      "ZAPOTLANEJO\n",
      "ZAPOPAN\n",
      "ZAPOTLAN EL GRANDE\n",
      "ZAPOPAN\n",
      "ZAPOPAN\n",
      "ZAPOTLAN DEL REY\n",
      "ZAPOTLAN DEL REY\n",
      "ZAPOPAN\n",
      "ZAPOPAN\n",
      "ZAPOPAN\n",
      "ZAPOPAN\n",
      "ZAPOPAN\n",
      "ZAPOPAN\n",
      "ZAPOPAN\n",
      "ZAPOPAN\n",
      "ZAPOPAN\n",
      "ZAPOPAN\n",
      "ZAPOPAN\n",
      "ZAPOPAN\n",
      "ZAPOPAN\n",
      "ZAPOPAN\n",
      "ZAPOPAN\n",
      "ZAPOPAN\n",
      "ZAPOPAN\n",
      "ZAPOPAN\n",
      "ZAPOTLANEJO\n",
      "ZAPOPAN\n",
      "ZAPOPAN\n",
      "ZAPOTILTIC\n",
      "ZAPOPAN\n",
      "ZAPOPAN\n",
      "ZAPOPAN\n",
      "ZAPOPAN\n",
      "ZAPOPAN\n",
      "ZAPOPAN\n",
      "ZAPOPAN\n",
      "ZAPOPAN\n",
      "ZAPOPAN\n",
      "ZAPOPAN\n",
      "ZAPOPAN\n",
      "ZAPOTILTIC\n",
      "ZAPOTILTIC\n",
      "ZAPOPAN\n",
      "ZAPOPAN\n",
      "ZAPOPAN\n",
      "ZAPOPAN\n",
      "ZAPOTLANEJO\n",
      "ZAPOPAN\n",
      "ZAPOPAN\n",
      "ZAPOTLANEJO\n",
      "ZAPOPAN\n",
      "ZAPOPAN\n",
      "ZAPOPAN\n",
      "ZAPOTITLAN DE VADILLO\n",
      "ZAPOPAN\n",
      "ZAPOTLAN EL GRANDE\n",
      "ZAPOPAN\n",
      "ZAPOPAN\n",
      "ZAPOPAN\n",
      "ZAPOTLAN EL GRANDE\n",
      "ZAPOTILTIC\n",
      "ZAPOPAN\n",
      "ZAPOPAN\n",
      "ZAPOPAN\n",
      "ZAPOPAN\n",
      "ZAPOPAN\n",
      "ZAPOTLANEJO\n",
      "ZAPOTLAN DEL REY\n",
      "ZAPOPAN\n",
      "ZAPOPAN\n",
      "ZAPOPAN\n",
      "ZAPOPAN\n",
      "ZAPOTLAN DEL REY\n",
      "ZAPOPAN\n",
      "ZAPOPAN\n",
      "ZAPOPAN\n",
      "ZAPOTLAN EL GRANDE\n",
      "ZAPOTILTIC\n",
      "ZAPOTLANEJO\n",
      "ZAPOPAN\n",
      "ZAPOPAN\n",
      "ZAPOTITLAN DE VADILLO\n",
      "ZAPOPAN\n",
      "ZAPOTILTIC\n",
      "ZAPOPAN\n",
      "ZAPOPAN\n",
      "ZAPOTLANEJO\n",
      "ZAPOTLANEJO\n",
      "ZAPOPAN\n",
      "ZAPOPAN\n",
      "ZAPOPAN\n",
      "ZAPOPAN\n",
      "ZAPOTLAN EL GRANDE\n",
      "ZAPOPAN\n",
      "ZAPOPAN\n",
      "ZAPOTLAN DEL REY\n",
      "ZAPOTLANEJO\n",
      "ZAPOPAN\n",
      "ZAPOTLAN EL GRANDE\n",
      "ZAPOPAN\n",
      "ZAPOPAN\n",
      "ZAPOTLANEJO\n",
      "ZAPOPAN\n",
      "ZAPOPAN\n",
      "ZAPOPAN\n",
      "ZAPOPAN\n",
      "ZAPOTLANEJO\n",
      "ZAPOPAN\n",
      "ZAPOPAN\n",
      "ZAPOPAN\n",
      "ZAPOTLAN DEL REY\n",
      "ZAPOPAN\n",
      "ZAPOPAN\n",
      "ZAPOPAN\n",
      "ZAPOTLAN DEL REY\n",
      "ZAPOPAN\n",
      "ZAPOPAN\n",
      "ZAPOTLANEJO\n",
      "ZAPOPAN\n",
      "ZAPOPAN\n",
      "ZAPOPAN\n",
      "ZAPOPAN\n",
      "ZAPOTLAN DEL REY\n",
      "ZAPOPAN\n",
      "ZAPOPAN\n",
      "ZAPOPAN\n",
      "ZAPOTLANEJO\n",
      "ZAPOTLAN DEL REY\n",
      "ZAPOPAN\n",
      "ZAPOPAN\n",
      "ZAPOPAN\n",
      "ZAPOPAN\n",
      "ZAPOTILTIC\n",
      "ZAPOPAN\n",
      "ZAPOPAN\n",
      "ZAPOTITLAN DE VADILLO\n",
      "ZAPOPAN\n",
      "ZAPOPAN\n",
      "ZAPOPAN\n",
      "ZAPOPAN\n",
      "ZAPOPAN\n",
      "ZAPOPAN\n",
      "ZAPOPAN\n",
      "ZAPOPAN\n",
      "ZAPOPAN\n",
      "ZAPOTLANEJO\n",
      "ZAPOPAN\n",
      "ZAPOPAN\n",
      "ZAPOPAN\n",
      "ZAPOPAN\n",
      "ZAPOPAN\n",
      "ZAPOPAN\n",
      "ZAPOTLANEJO\n",
      "ZAPOPAN\n",
      "ZAPOPAN\n",
      "ZAPOTITLAN DE VADILLO\n",
      "ZAPOTLANEJO\n",
      "ZAPOPAN\n",
      "ZAPOTITLAN DE VADILLO\n",
      "ZAPOPAN\n",
      "ZAPOTITLAN DE VADILLO\n",
      "ZAPOPAN\n",
      "ZAPOPAN\n",
      "ZAPOTLAN DEL REY\n",
      "ZAPOTLAN DEL REY\n",
      "ZAPOTLANEJO\n",
      "ZAPOTLAN EL GRANDE\n",
      "ZAPOPAN\n",
      "ZAPOPAN\n",
      "ZAPOTILTIC\n",
      "ZAPOPAN\n",
      "ZAPOTILTIC\n",
      "ZAPOPAN\n",
      "ZAPOPAN\n",
      "ZAPOPAN\n",
      "ZAPOPAN\n",
      "ZAPOTILTIC\n",
      "ZAPOPAN\n",
      "ZAPOPAN\n",
      "ZAPOTLAN EL GRANDE\n",
      "ZAPOPAN\n",
      "ZAPOPAN\n",
      "ZAPOPAN\n",
      "ZAPOPAN\n",
      "ZAPOTLAN EL GRANDE\n",
      "ZAPOPAN\n",
      "ZAPOPAN\n",
      "ZAPOPAN\n",
      "ZAPOPAN\n",
      "ZAPOPAN\n",
      "ZAPOPAN\n",
      "ZAPOPAN\n",
      "ZAPOPAN\n",
      "ZAPOPAN\n",
      "ZAPOPAN\n",
      "ZAPOTLAN EL GRANDE\n",
      "ZAPOPAN\n",
      "ZAPOPAN\n",
      "ZAPOTLAN EL GRANDE\n",
      "ZAPOPAN\n",
      "ZAPOTLAN EL GRANDE\n",
      "ZAPOPAN\n",
      "ZAPOPAN\n",
      "ZAPOPAN\n",
      "ZAPOPAN\n",
      "ZAPOTITLAN DE VADILLO\n",
      "ZAPOPAN\n",
      "ZAPOTLANEJO\n",
      "ZAPOTLANEJO\n",
      "ZAPOPAN\n",
      "ZAPOPAN\n",
      "ZAPOPAN\n",
      "ZAPOPAN\n",
      "ZAPOPAN\n",
      "ZAPOTLAN DEL REY\n",
      "ZAPOPAN\n",
      "ZAPOPAN\n",
      "ZAPOPAN\n",
      "ZAPOPAN\n",
      "ZAPOTLANEJO\n",
      "ZAPOPAN\n",
      "ZAPOPAN\n",
      "ZAPOTLAN EL GRANDE\n",
      "ZAPOTLANEJO\n",
      "ZAPOPAN\n",
      "ZAPOPAN\n",
      "ZAPOPAN\n",
      "ZAPOPAN\n",
      "ZAPOTLAN DEL REY\n",
      "ZAPOPAN\n",
      "ZAPOPAN\n",
      "ZAPOPAN\n",
      "ZAPOPAN\n",
      "ZAPOPAN\n",
      "El total de municipios con ZAPO es: 461\n"
     ]
    }
   ],
   "source": [
    "contador_municipios_ZAPO=0\n",
    "with open ('datos/cct_estadistica_short.csv') as archivo_csv:\n",
    "    datos = list(csv.reader(archivo_csv))\n",
    "    for fila in datos:\n",
    "        if \"ZAPO\" in fila[8]:\n",
    "            contador_municipios_ZAPO+=1\n",
    "            print(fila[8])\n",
    "            \n",
    "            \n",
    "print(\"El total de municipios con ZAPO es: \" +str(contador_municipios_ZAPO))"
   ]
  },
  {
   "cell_type": "code",
   "execution_count": null,
   "metadata": {},
   "outputs": [],
   "source": []
  },
  {
   "cell_type": "markdown",
   "metadata": {},
   "source": [
    "# TAREA"
   ]
  },
  {
   "cell_type": "markdown",
   "metadata": {},
   "source": [
    "<div class=\"alert alert-success\">\n",
    " <ul>\n",
    "  <li>1. Encuentre el número de estudiantes por nivel educativo (PRIMARIA, SECUNDARIA y BACHILLERATO). ¿Qué puede decir acerca de los resultados?</li>\n",
    "</ul> \n",
    "\n",
    "</div>"
   ]
  },
  {
   "cell_type": "code",
   "execution_count": 40,
   "metadata": {},
   "outputs": [
    {
     "name": "stdout",
     "output_type": "stream",
     "text": [
      "En PREESCOLAR hay 74505 estudiantes.\n",
      "En PRIMARIA hay 196298 estudiantes.\n",
      "En SECUNDARIA hay 102051 estudiantes.\n",
      "En BACHILLERATO hay 29768 estudiantes.\n",
      "El nivel con más estudiantes es PRIMARIA con 196298 estudiantes.\n"
     ]
    }
   ],
   "source": [
    "\n",
    "contador_PREESCOLAR=0\n",
    "contador_PRIMARIA=0\n",
    "contador_SECUNDARIA=0\n",
    "contador_BACHILLERATO=0\n",
    "\n",
    "with open ('datos/cct_estadistica_short.csv') as archivo_csv:\n",
    "    datos = list(csv.reader(archivo_csv))\n",
    "    for fila in datos:\n",
    "        \n",
    "        if fila[10]==\"PRIMARIA\":\n",
    "            contador_PRIMARIA += int(fila[32]) \n",
    "        elif fila[10]==\"PREESCOLAR\":\n",
    "            contador_PREESCOLAR += int(fila[32])  \n",
    "        elif fila[10]==\"SECUNDARIA\":\n",
    "           contador_SECUNDARIA += int(fila[32])\n",
    "        elif fila[10]==\"BACHILLERATO\":\n",
    "           contador_BACHILLERATO += int(fila[32])\n",
    "\n",
    "\n",
    "print(\"En PREESCOLAR hay \"+str(contador_PREESCOLAR)+\" estudiantes.\")\n",
    "print(\"En PRIMARIA hay \"+str(contador_PRIMARIA)+\" estudiantes.\")\n",
    "print(\"En SECUNDARIA hay \"+str(contador_SECUNDARIA)+\" estudiantes.\")\n",
    "print(\"En BACHILLERATO hay \"+str(contador_BACHILLERATO)+\" estudiantes.\")\n",
    "\n",
    "max_alumnos = max(contador_PREESCOLAR, contador_PRIMARIA, contador_SECUNDARIA, contador_BACHILLERATO)\n",
    "if max_alumnos == contador_PREESCOLAR:\n",
    "    print(\"El nivel con más estudiantes es PREESCOLAR con \" + str(contador_PREESCOLAR) + \" estudiantes.\")\n",
    "elif max_alumnos == contador_PRIMARIA:\n",
    "    print(\"El nivel con más estudiantes es PRIMARIA con \" + str(contador_PRIMARIA) + \" estudiantes.\")\n",
    "elif max_alumnos == contador_SECUNDARIA:\n",
    "    print(\"El nivel con más estudiantes es SECUNDARIA con \" + str(contador_SECUNDARIA) + \" estudiantes.\")\n",
    "elif max_alumnos == contador_BACHILLERATO:\n",
    "    print(\"El nivel con más estudiantes es BACHILLERATO con \" + str(contador_BACHILLERATO) + \" estudiantes.\")\n",
    "\n",
    "\n",
    "      \n"
   ]
  },
  {
   "cell_type": "markdown",
   "metadata": {},
   "source": [
    "<div class=\"alert alert-success\">\n",
    " <ul>\n",
    "  <li>2. Encuentre el número de estudiantes hombres y mujeres por nivel educativo (PRIMARIA, SECUNDARIA y BACHILLERATO). ¿Qué puede decir acerca de los resultados?.  </li>\n",
    "</ul> \n",
    "\n",
    "</div>"
   ]
  },
  {
   "cell_type": "code",
   "execution_count": 42,
   "metadata": {},
   "outputs": [
    {
     "name": "stdout",
     "output_type": "stream",
     "text": [
      "En PREESCOLAR hay 37451 hombres y 37054 mujeres.\n",
      "En PRIMARIA hay 99972 hombres y 96326 mujeres.\n",
      "En SECUNDARIA hay 51867 hombres y 50184 mujeres.\n",
      "En BACHILLERATO hay 15453 hombres y 14315 mujeres.\n",
      "En PREESCOLAR hay más hombres (37451) que mujeres (37054).\n",
      "En PRIMARIA hay más hombres (99972) que mujeres (96326).\n",
      "En SECUNDARIA hay más hombres (51867) que mujeres (50184).\n",
      "En BACHILLERATO hay más hombres (15453) que mujeres (14315).\n"
     ]
    }
   ],
   "source": [
    "contador_PREESCOLAR_HOMBRE=0\n",
    "contador_PREESCOLAR_MUJER=0\n",
    "\n",
    "contador_PRIMARIA_HOMBRE=0\n",
    "contador_PRIMARIA_MUJER=0\n",
    "\n",
    "contador_SECUNDARIA_HOMBRE=0\n",
    "contador_SECUNDARIA_MUJER=0\n",
    "\n",
    "contador_BACHILLERATO_HOMBRE=0\n",
    "contador_BACHILLERATO_MUJER=0\n",
    "\n",
    "with open ('datos/cct_estadistica_short.csv') as archivo_csv:\n",
    "    datos = list(csv.reader(archivo_csv))\n",
    "    for fila in datos:\n",
    "        \n",
    "        if fila[10]==\"PRIMARIA\":\n",
    "            contador_PRIMARIA_HOMBRE += int(fila[30])\n",
    "            contador_PRIMARIA_MUJER += int(fila[31])\n",
    "            \n",
    "        elif fila[10]==\"PREESCOLAR\":\n",
    "            contador_PREESCOLAR_HOMBRE += int(fila[30])\n",
    "            contador_PREESCOLAR_MUJER += int(fila[31])\n",
    "        elif fila[10]==\"SECUNDARIA\":\n",
    "            contador_SECUNDARIA_HOMBRE += int(fila[30])\n",
    "            contador_SECUNDARIA_MUJER += int(fila[31])\n",
    "        elif fila[10]==\"BACHILLERATO\":\n",
    "            contador_BACHILLERATO_HOMBRE += int(fila[30])\n",
    "            contador_BACHILLERATO_MUJER += int(fila[31])\n",
    "\n",
    "print(f\"En PREESCOLAR hay {contador_PREESCOLAR_HOMBRE} hombres y {contador_PREESCOLAR_MUJER} mujeres.\")\n",
    "print(f\"En PRIMARIA hay {contador_PRIMARIA_HOMBRE} hombres y {contador_PRIMARIA_MUJER} mujeres.\")\n",
    "print(f\"En SECUNDARIA hay {contador_SECUNDARIA_HOMBRE} hombres y {contador_SECUNDARIA_MUJER} mujeres.\")\n",
    "print(f\"En BACHILLERATO hay {contador_BACHILLERATO_HOMBRE} hombres y {contador_BACHILLERATO_MUJER} mujeres.\")\n",
    "\n",
    "\n",
    "niveles = [\"PREESCOLAR\", \"PRIMARIA\", \"SECUNDARIA\", \"BACHILLERATO\"]\n",
    "hombres = [contador_PREESCOLAR_HOMBRE, contador_PRIMARIA_HOMBRE, contador_SECUNDARIA_HOMBRE, contador_BACHILLERATO_HOMBRE]\n",
    "mujeres = [contador_PREESCOLAR_MUJER, contador_PRIMARIA_MUJER, contador_SECUNDARIA_MUJER, contador_BACHILLERATO_MUJER]\n",
    "\n",
    "for i in range(len(niveles)):\n",
    "    if hombres[i] > mujeres[i]:\n",
    "        print(f\"En {niveles[i]} hay más hombres ({hombres[i]}) que mujeres ({mujeres[i]}).\")\n",
    "    elif mujeres[i] > hombres[i]:\n",
    "        print(f\"En {niveles[i]} hay más mujeres ({mujeres[i]}) que hombres ({hombres[i]}).\")\n",
    "    else:\n",
    "        print(f\"En {niveles[i]} hay igual número de hombres y mujeres ({hombres[i]}).\")\n",
    "\n"
   ]
  },
  {
   "cell_type": "markdown",
   "metadata": {},
   "source": [
    "<div class=\"alert alert-success\">\n",
    " <ul>\n",
    "  <li> 3. ¿Cuál es el promedio de docentes por nivel educativo?  </li>\n",
    "</ul> \n",
    "\n",
    "</div>"
   ]
  },
  {
   "cell_type": "code",
   "execution_count": 58,
   "metadata": {},
   "outputs": [
    {
     "name": "stdout",
     "output_type": "stream",
     "text": [
      "El porcentaje de docentes a nivel PREESCOLAR ES 18.86513157894737\n",
      "El porcentaje de docentes a nivel PRIMARIA ES 39.6765350877193\n",
      "El porcentaje de docentes a nivel SECUNDARIA ES 33.00438596491228\n",
      "El porcentaje de docentes a nivel BACHILLERATO ES 8.453947368421053\n"
     ]
    }
   ],
   "source": [
    "contador_escuelas=0\n",
    "contador_DOCENTES_PREESCOLAR=0\n",
    "contador_DOCENTES_PRIMARIA=0\n",
    "contador_DOCENTES_SECUNDARIA=0\n",
    "contador_DOCENTES_BACHILLERATO=0\n",
    "\n",
    "with open ('datos/cct_estadistica_short.csv') as archivo_csv:\n",
    "    next(archivo_csv)\n",
    "    datos = list(csv.reader(archivo_csv))\n",
    "    \n",
    "    for fila in datos:\n",
    "        \n",
    "        contador_escuelas += int(fila[33])\n",
    "        if fila[10]==\"PREESCOLAR\":\n",
    "            contador_DOCENTES_PREESCOLAR += int(fila[33])\n",
    "        elif fila[10]==\"PRIMARIA\":\n",
    "            contador_DOCENTES_PRIMARIA += int(fila[33])  \n",
    "        elif fila[10]==\"SECUNDARIA\":\n",
    "           contador_DOCENTES_SECUNDARIA += int(fila[33]) \n",
    "        elif fila[10]==\"BACHILLERATO\":\n",
    "           contador_DOCENTES_BACHILLERATO += int(fila[33]) \n",
    "\n",
    "print(\"El porcentaje de docentes a nivel PREESCOLAR ES \"+str(contador_DOCENTES_PREESCOLAR/contador_escuelas*100))\n",
    "print(\"El porcentaje de docentes a nivel PRIMARIA ES \"+str(contador_DOCENTES_PRIMARIA/contador_escuelas*100))\n",
    "print(\"El porcentaje de docentes a nivel SECUNDARIA ES \"+str(contador_DOCENTES_SECUNDARIA/contador_escuelas*100))\n",
    "print(\"El porcentaje de docentes a nivel BACHILLERATO ES \"+str(contador_DOCENTES_BACHILLERATO/contador_escuelas*100))"
   ]
  },
  {
   "cell_type": "markdown",
   "metadata": {},
   "source": [
    "<div class=\"alert alert-success\">\n",
    " <ul>\n",
    "  <li> 4. Encuentre el porcentaje de  escuelas Particulares </li>\n",
    "</ul> \n",
    "\n",
    "</div>\n"
   ]
  },
  {
   "cell_type": "code",
   "execution_count": 60,
   "metadata": {},
   "outputs": [
    {
     "name": "stdout",
     "output_type": "stream",
     "text": [
      "El porcentaje de escuelas particulares es: 17.254290171606865\n"
     ]
    }
   ],
   "source": [
    "contador_escuelas=0\n",
    "contador_Particular=0\n",
    "with open ('datos/cct_estadistica_short.csv') as archivo_csv:\n",
    "    next(archivo_csv)\n",
    "    datos = list(csv.reader(archivo_csv))\n",
    "    for fila in datos:\n",
    "        contador_escuelas += 1  \n",
    "        if fila[9] == \"PARTICULAR\":\n",
    "            contador_Particular+=1\n",
    "            \n",
    "        \n",
    "    print(\"El porcentaje de escuelas particulares es: \"+str(contador_Particular/contador_escuelas*100))"
   ]
  },
  {
   "cell_type": "markdown",
   "metadata": {},
   "source": [
    "<div class=\"alert alert-success\">\n",
    " <ul>\n",
    "  <li> 5. Realizar algún análisis adicional  </li>\n",
    "</ul> \n",
    "\n",
    "</div>"
   ]
  },
  {
   "cell_type": "code",
   "execution_count": null,
   "metadata": {},
   "outputs": [],
   "source": []
  },
  {
   "cell_type": "markdown",
   "metadata": {},
   "source": [
    "<div class=\"alert alert-warning\">\n",
    " <ul>\n",
    "  <li> Opcional </li>\n",
    "</ul> \n",
    "\n",
    "<table>\n",
    "<col width=\"550\">\n",
    "<col width=\"450\">\n",
    "<tr>\n",
    "<td><img src=\"figuras/challlenge.jpg\" align=\"middle\" style=\"width:500px\"/></td>\n",
    "<td>\n",
    "\n",
    "1. ¿Cuáles los 5 municipios con el mayor número de escuelas y cuantas tienen?\n",
    "    \n",
    "<br>\n",
    "</td>\n",
    "</tr>\n",
    "</table>"
   ]
  },
  {
   "cell_type": "code",
   "execution_count": null,
   "metadata": {},
   "outputs": [],
   "source": []
  }
 ],
 "metadata": {
  "kernelspec": {
   "display_name": "Python 3 (ipykernel)",
   "language": "python",
   "name": "python3"
  },
  "language_info": {
   "codemirror_mode": {
    "name": "ipython",
    "version": 3
   },
   "file_extension": ".py",
   "mimetype": "text/x-python",
   "name": "python",
   "nbconvert_exporter": "python",
   "pygments_lexer": "ipython3",
   "version": "3.10.12"
  }
 },
 "nbformat": 4,
 "nbformat_minor": 4
}
